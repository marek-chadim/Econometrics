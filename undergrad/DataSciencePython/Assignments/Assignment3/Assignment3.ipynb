{
  "cells": [
    {
      "cell_type": "markdown",
      "metadata": {
        "id": "Qf_trlzR16Mj"
      },
      "source": [
        "# **Assignment 3**\n",
        "---\n",
        "*   BENC2011: Data Science \n",
        "*   Maastricht University, May 2023\n",
        "*   Marek Chadim i6336489, Alexander Brecht i6244990"
      ]
    },
    {
      "cell_type": "markdown",
      "metadata": {
        "id": "gMcs5mz4geLQ"
      },
      "source": [
        "\n",
        "## 1.  Exploratory Data Analysis\n",
        "\n",
        "\n"
      ]
    },
    {
      "cell_type": "markdown",
      "source": [
        "We will do a brief exploration to get a better idea of what our dataset contains; this will give us a better idea of how to process the data. "
      ],
      "metadata": {
        "id": "yeZmLKvW8e2D"
      }
    },
    {
      "cell_type": "markdown",
      "metadata": {
        "id": "3A_xC-TN7GED"
      },
      "source": [
        "\n",
        "### 1.1 Numerical descriptive statistics"
      ]
    },
    {
      "cell_type": "markdown",
      "metadata": {
        "id": "oFLVO3GAD1Mj"
      },
      "source": [
        "To calculate the descriptive statistics for the numeric features, we need to load the data and extract the numeric columns."
      ]
    },
    {
      "cell_type": "code",
      "execution_count": 1,
      "metadata": {
        "id": "DgK5eQTEdSD6"
      },
      "outputs": [],
      "source": [
        "#Imports\n",
        "import pandas as pd\n",
        "import numpy as np\n",
        "import matplotlib.pyplot as plt\n",
        "import seaborn as sns\n",
        "%matplotlib inline "
      ]
    },
    {
      "cell_type": "markdown",
      "metadata": {
        "id": "lz8rZojkARlg"
      },
      "source": [
        "Let's start by loading the dataset and taking a look at the data."
      ]
    },
    {
      "cell_type": "code",
      "execution_count": 2,
      "metadata": {
        "colab": {
          "base_uri": "https://localhost:8080/",
          "height": 386
        },
        "id": "EDbVXQJCAUtE",
        "outputId": "286a7eb6-0922-43c0-852c-6b66828677db"
      },
      "outputs": [
        {
          "output_type": "execute_result",
          "data": {
            "text/plain": [
              "   client_num     attrition_flag  customer_age gender  dependent_count  \\\n",
              "0   768805383  Existing Customer            45      M                3   \n",
              "1   818770008  Existing Customer            49      F                5   \n",
              "2   713982108  Existing Customer            51      M                3   \n",
              "3   769911858  Existing Customer            40      F                4   \n",
              "4   709106358  Existing Customer            40      M                3   \n",
              "\n",
              "  education_level marital_status income_category card_category  \\\n",
              "0     High School        Married     $60K - $80K          Blue   \n",
              "1        Graduate         Single  Less than $40K          Blue   \n",
              "2        Graduate        Married    $80K - $120K          Blue   \n",
              "3     High School        Unknown  Less than $40K          Blue   \n",
              "4      Uneducated        Married     $60K - $80K          Blue   \n",
              "\n",
              "   months_on_book  ...  months_inactive_12_mon  contacts_count_12_mon  \\\n",
              "0              39  ...                       1                      3   \n",
              "1              44  ...                       1                      2   \n",
              "2              36  ...                       1                      0   \n",
              "3              34  ...                       4                      1   \n",
              "4              21  ...                       1                      0   \n",
              "\n",
              "   credit_limit  total_revolving_bal  avg_open_to_buy  total_amt_chng_q4_q1  \\\n",
              "0       12691.0                  777          11914.0                 1.335   \n",
              "1        8256.0                  864           7392.0                 1.541   \n",
              "2        3418.0                    0           3418.0                 2.594   \n",
              "3        3313.0                 2517            796.0                 1.405   \n",
              "4        4716.0                    0           4716.0                 2.175   \n",
              "\n",
              "   total_trans_amt  total_trans_ct  total_ct_chng_q4_q1  avg_utilization_ratio  \n",
              "0             1144              42                1.625                  0.061  \n",
              "1             1291              33                3.714                  0.105  \n",
              "2             1887              20                2.333                  0.000  \n",
              "3             1171              20                2.333                  0.760  \n",
              "4              816              28                2.500                  0.000  \n",
              "\n",
              "[5 rows x 21 columns]"
            ],
            "text/html": [
              "\n",
              "  <div id=\"df-dd6abf1c-53c1-4010-9eac-490a33c54180\">\n",
              "    <div class=\"colab-df-container\">\n",
              "      <div>\n",
              "<style scoped>\n",
              "    .dataframe tbody tr th:only-of-type {\n",
              "        vertical-align: middle;\n",
              "    }\n",
              "\n",
              "    .dataframe tbody tr th {\n",
              "        vertical-align: top;\n",
              "    }\n",
              "\n",
              "    .dataframe thead th {\n",
              "        text-align: right;\n",
              "    }\n",
              "</style>\n",
              "<table border=\"1\" class=\"dataframe\">\n",
              "  <thead>\n",
              "    <tr style=\"text-align: right;\">\n",
              "      <th></th>\n",
              "      <th>client_num</th>\n",
              "      <th>attrition_flag</th>\n",
              "      <th>customer_age</th>\n",
              "      <th>gender</th>\n",
              "      <th>dependent_count</th>\n",
              "      <th>education_level</th>\n",
              "      <th>marital_status</th>\n",
              "      <th>income_category</th>\n",
              "      <th>card_category</th>\n",
              "      <th>months_on_book</th>\n",
              "      <th>...</th>\n",
              "      <th>months_inactive_12_mon</th>\n",
              "      <th>contacts_count_12_mon</th>\n",
              "      <th>credit_limit</th>\n",
              "      <th>total_revolving_bal</th>\n",
              "      <th>avg_open_to_buy</th>\n",
              "      <th>total_amt_chng_q4_q1</th>\n",
              "      <th>total_trans_amt</th>\n",
              "      <th>total_trans_ct</th>\n",
              "      <th>total_ct_chng_q4_q1</th>\n",
              "      <th>avg_utilization_ratio</th>\n",
              "    </tr>\n",
              "  </thead>\n",
              "  <tbody>\n",
              "    <tr>\n",
              "      <th>0</th>\n",
              "      <td>768805383</td>\n",
              "      <td>Existing Customer</td>\n",
              "      <td>45</td>\n",
              "      <td>M</td>\n",
              "      <td>3</td>\n",
              "      <td>High School</td>\n",
              "      <td>Married</td>\n",
              "      <td>$60K - $80K</td>\n",
              "      <td>Blue</td>\n",
              "      <td>39</td>\n",
              "      <td>...</td>\n",
              "      <td>1</td>\n",
              "      <td>3</td>\n",
              "      <td>12691.0</td>\n",
              "      <td>777</td>\n",
              "      <td>11914.0</td>\n",
              "      <td>1.335</td>\n",
              "      <td>1144</td>\n",
              "      <td>42</td>\n",
              "      <td>1.625</td>\n",
              "      <td>0.061</td>\n",
              "    </tr>\n",
              "    <tr>\n",
              "      <th>1</th>\n",
              "      <td>818770008</td>\n",
              "      <td>Existing Customer</td>\n",
              "      <td>49</td>\n",
              "      <td>F</td>\n",
              "      <td>5</td>\n",
              "      <td>Graduate</td>\n",
              "      <td>Single</td>\n",
              "      <td>Less than $40K</td>\n",
              "      <td>Blue</td>\n",
              "      <td>44</td>\n",
              "      <td>...</td>\n",
              "      <td>1</td>\n",
              "      <td>2</td>\n",
              "      <td>8256.0</td>\n",
              "      <td>864</td>\n",
              "      <td>7392.0</td>\n",
              "      <td>1.541</td>\n",
              "      <td>1291</td>\n",
              "      <td>33</td>\n",
              "      <td>3.714</td>\n",
              "      <td>0.105</td>\n",
              "    </tr>\n",
              "    <tr>\n",
              "      <th>2</th>\n",
              "      <td>713982108</td>\n",
              "      <td>Existing Customer</td>\n",
              "      <td>51</td>\n",
              "      <td>M</td>\n",
              "      <td>3</td>\n",
              "      <td>Graduate</td>\n",
              "      <td>Married</td>\n",
              "      <td>$80K - $120K</td>\n",
              "      <td>Blue</td>\n",
              "      <td>36</td>\n",
              "      <td>...</td>\n",
              "      <td>1</td>\n",
              "      <td>0</td>\n",
              "      <td>3418.0</td>\n",
              "      <td>0</td>\n",
              "      <td>3418.0</td>\n",
              "      <td>2.594</td>\n",
              "      <td>1887</td>\n",
              "      <td>20</td>\n",
              "      <td>2.333</td>\n",
              "      <td>0.000</td>\n",
              "    </tr>\n",
              "    <tr>\n",
              "      <th>3</th>\n",
              "      <td>769911858</td>\n",
              "      <td>Existing Customer</td>\n",
              "      <td>40</td>\n",
              "      <td>F</td>\n",
              "      <td>4</td>\n",
              "      <td>High School</td>\n",
              "      <td>Unknown</td>\n",
              "      <td>Less than $40K</td>\n",
              "      <td>Blue</td>\n",
              "      <td>34</td>\n",
              "      <td>...</td>\n",
              "      <td>4</td>\n",
              "      <td>1</td>\n",
              "      <td>3313.0</td>\n",
              "      <td>2517</td>\n",
              "      <td>796.0</td>\n",
              "      <td>1.405</td>\n",
              "      <td>1171</td>\n",
              "      <td>20</td>\n",
              "      <td>2.333</td>\n",
              "      <td>0.760</td>\n",
              "    </tr>\n",
              "    <tr>\n",
              "      <th>4</th>\n",
              "      <td>709106358</td>\n",
              "      <td>Existing Customer</td>\n",
              "      <td>40</td>\n",
              "      <td>M</td>\n",
              "      <td>3</td>\n",
              "      <td>Uneducated</td>\n",
              "      <td>Married</td>\n",
              "      <td>$60K - $80K</td>\n",
              "      <td>Blue</td>\n",
              "      <td>21</td>\n",
              "      <td>...</td>\n",
              "      <td>1</td>\n",
              "      <td>0</td>\n",
              "      <td>4716.0</td>\n",
              "      <td>0</td>\n",
              "      <td>4716.0</td>\n",
              "      <td>2.175</td>\n",
              "      <td>816</td>\n",
              "      <td>28</td>\n",
              "      <td>2.500</td>\n",
              "      <td>0.000</td>\n",
              "    </tr>\n",
              "  </tbody>\n",
              "</table>\n",
              "<p>5 rows × 21 columns</p>\n",
              "</div>\n",
              "      <button class=\"colab-df-convert\" onclick=\"convertToInteractive('df-dd6abf1c-53c1-4010-9eac-490a33c54180')\"\n",
              "              title=\"Convert this dataframe to an interactive table.\"\n",
              "              style=\"display:none;\">\n",
              "        \n",
              "  <svg xmlns=\"http://www.w3.org/2000/svg\" height=\"24px\"viewBox=\"0 0 24 24\"\n",
              "       width=\"24px\">\n",
              "    <path d=\"M0 0h24v24H0V0z\" fill=\"none\"/>\n",
              "    <path d=\"M18.56 5.44l.94 2.06.94-2.06 2.06-.94-2.06-.94-.94-2.06-.94 2.06-2.06.94zm-11 1L8.5 8.5l.94-2.06 2.06-.94-2.06-.94L8.5 2.5l-.94 2.06-2.06.94zm10 10l.94 2.06.94-2.06 2.06-.94-2.06-.94-.94-2.06-.94 2.06-2.06.94z\"/><path d=\"M17.41 7.96l-1.37-1.37c-.4-.4-.92-.59-1.43-.59-.52 0-1.04.2-1.43.59L10.3 9.45l-7.72 7.72c-.78.78-.78 2.05 0 2.83L4 21.41c.39.39.9.59 1.41.59.51 0 1.02-.2 1.41-.59l7.78-7.78 2.81-2.81c.8-.78.8-2.07 0-2.86zM5.41 20L4 18.59l7.72-7.72 1.47 1.35L5.41 20z\"/>\n",
              "  </svg>\n",
              "      </button>\n",
              "      \n",
              "  <style>\n",
              "    .colab-df-container {\n",
              "      display:flex;\n",
              "      flex-wrap:wrap;\n",
              "      gap: 12px;\n",
              "    }\n",
              "\n",
              "    .colab-df-convert {\n",
              "      background-color: #E8F0FE;\n",
              "      border: none;\n",
              "      border-radius: 50%;\n",
              "      cursor: pointer;\n",
              "      display: none;\n",
              "      fill: #1967D2;\n",
              "      height: 32px;\n",
              "      padding: 0 0 0 0;\n",
              "      width: 32px;\n",
              "    }\n",
              "\n",
              "    .colab-df-convert:hover {\n",
              "      background-color: #E2EBFA;\n",
              "      box-shadow: 0px 1px 2px rgba(60, 64, 67, 0.3), 0px 1px 3px 1px rgba(60, 64, 67, 0.15);\n",
              "      fill: #174EA6;\n",
              "    }\n",
              "\n",
              "    [theme=dark] .colab-df-convert {\n",
              "      background-color: #3B4455;\n",
              "      fill: #D2E3FC;\n",
              "    }\n",
              "\n",
              "    [theme=dark] .colab-df-convert:hover {\n",
              "      background-color: #434B5C;\n",
              "      box-shadow: 0px 1px 3px 1px rgba(0, 0, 0, 0.15);\n",
              "      filter: drop-shadow(0px 1px 2px rgba(0, 0, 0, 0.3));\n",
              "      fill: #FFFFFF;\n",
              "    }\n",
              "  </style>\n",
              "\n",
              "      <script>\n",
              "        const buttonEl =\n",
              "          document.querySelector('#df-dd6abf1c-53c1-4010-9eac-490a33c54180 button.colab-df-convert');\n",
              "        buttonEl.style.display =\n",
              "          google.colab.kernel.accessAllowed ? 'block' : 'none';\n",
              "\n",
              "        async function convertToInteractive(key) {\n",
              "          const element = document.querySelector('#df-dd6abf1c-53c1-4010-9eac-490a33c54180');\n",
              "          const dataTable =\n",
              "            await google.colab.kernel.invokeFunction('convertToInteractive',\n",
              "                                                     [key], {});\n",
              "          if (!dataTable) return;\n",
              "\n",
              "          const docLinkHtml = 'Like what you see? Visit the ' +\n",
              "            '<a target=\"_blank\" href=https://colab.research.google.com/notebooks/data_table.ipynb>data table notebook</a>'\n",
              "            + ' to learn more about interactive tables.';\n",
              "          element.innerHTML = '';\n",
              "          dataTable['output_type'] = 'display_data';\n",
              "          await google.colab.output.renderOutput(dataTable, element);\n",
              "          const docLink = document.createElement('div');\n",
              "          docLink.innerHTML = docLinkHtml;\n",
              "          element.appendChild(docLink);\n",
              "        }\n",
              "      </script>\n",
              "    </div>\n",
              "  </div>\n",
              "  "
            ]
          },
          "metadata": {},
          "execution_count": 2
        }
      ],
      "source": [
        "df = pd.read_csv(\"datasets/customer_churn.csv\")\n",
        "df.head()"
      ]
    },
    {
      "cell_type": "markdown",
      "metadata": {
        "id": "nnY8CdvOAjNd"
      },
      "source": [
        "The dataset contains information about credit card\n",
        "customers such as their gender, marital status, number of dependents, education level, employment status, income, and whether the customer has churned or not.\n",
        "\n",
        "The column `attrition_flag` is our target variable (the variable we want to predict). The other columns are our features (the variables we use to predict the target variable)."
      ]
    },
    {
      "cell_type": "code",
      "source": [
        "df.info()"
      ],
      "metadata": {
        "colab": {
          "base_uri": "https://localhost:8080/"
        },
        "id": "f9r-JwblTUtd",
        "outputId": "fa196fc7-51e6-42c7-84aa-0a5c0204155f"
      },
      "execution_count": 3,
      "outputs": [
        {
          "output_type": "stream",
          "name": "stdout",
          "text": [
            "<class 'pandas.core.frame.DataFrame'>\n",
            "RangeIndex: 10127 entries, 0 to 10126\n",
            "Data columns (total 21 columns):\n",
            " #   Column                    Non-Null Count  Dtype  \n",
            "---  ------                    --------------  -----  \n",
            " 0   client_num                10127 non-null  int64  \n",
            " 1   attrition_flag            10127 non-null  object \n",
            " 2   customer_age              10127 non-null  int64  \n",
            " 3   gender                    10127 non-null  object \n",
            " 4   dependent_count           10127 non-null  int64  \n",
            " 5   education_level           10127 non-null  object \n",
            " 6   marital_status            10127 non-null  object \n",
            " 7   income_category           10127 non-null  object \n",
            " 8   card_category             10127 non-null  object \n",
            " 9   months_on_book            10127 non-null  int64  \n",
            " 10  total_relationship_count  10127 non-null  int64  \n",
            " 11  months_inactive_12_mon    10127 non-null  int64  \n",
            " 12  contacts_count_12_mon     10127 non-null  int64  \n",
            " 13  credit_limit              10127 non-null  float64\n",
            " 14  total_revolving_bal       10127 non-null  int64  \n",
            " 15  avg_open_to_buy           10127 non-null  float64\n",
            " 16  total_amt_chng_q4_q1      10127 non-null  float64\n",
            " 17  total_trans_amt           10127 non-null  int64  \n",
            " 18  total_trans_ct            10127 non-null  int64  \n",
            " 19  total_ct_chng_q4_q1       10127 non-null  float64\n",
            " 20  avg_utilization_ratio     10127 non-null  float64\n",
            "dtypes: float64(5), int64(10), object(6)\n",
            "memory usage: 1.6+ MB\n"
          ]
        }
      ]
    },
    {
      "cell_type": "markdown",
      "source": [
        "There are 0 columns with missing values; we can infer this from the “Non-Null Count” column. "
      ],
      "metadata": {
        "id": "aoa5uvZxT8Jk"
      }
    },
    {
      "cell_type": "code",
      "execution_count": 4,
      "metadata": {
        "colab": {
          "base_uri": "https://localhost:8080/"
        },
        "id": "wcugn6QNCRok",
        "outputId": "8ac8cfe2-138f-4309-8133-7a891a2710ac"
      },
      "outputs": [
        {
          "output_type": "execute_result",
          "data": {
            "text/plain": [
              "(10127, 21)"
            ]
          },
          "metadata": {},
          "execution_count": 4
        }
      ],
      "source": [
        "df.shape"
      ]
    },
    {
      "cell_type": "markdown",
      "metadata": {
        "id": "xrd1zJcmCdFl"
      },
      "source": [
        "In total, the dataset contains 10,127 rows and 21 columns"
      ]
    },
    {
      "cell_type": "code",
      "execution_count": 5,
      "metadata": {
        "colab": {
          "base_uri": "https://localhost:8080/",
          "height": 364
        },
        "id": "zmgyXxUxDyeV",
        "outputId": "abbbe426-1357-4207-f1a2-7b6d5d5302ba"
      },
      "outputs": [
        {
          "output_type": "execute_result",
          "data": {
            "text/plain": [
              "       customer_age  dependent_count  months_on_book  \\\n",
              "count  10127.000000     10127.000000    10127.000000   \n",
              "mean      46.325960         2.346203       35.928409   \n",
              "std        8.016814         1.298908        7.986416   \n",
              "min       26.000000         0.000000       13.000000   \n",
              "25%       41.000000         1.000000       31.000000   \n",
              "50%       46.000000         2.000000       36.000000   \n",
              "75%       52.000000         3.000000       40.000000   \n",
              "max       73.000000         5.000000       56.000000   \n",
              "\n",
              "       total_relationship_count  months_inactive_12_mon  \\\n",
              "count              10127.000000            10127.000000   \n",
              "mean                   3.812580                2.341167   \n",
              "std                    1.554408                1.010622   \n",
              "min                    1.000000                0.000000   \n",
              "25%                    3.000000                2.000000   \n",
              "50%                    4.000000                2.000000   \n",
              "75%                    5.000000                3.000000   \n",
              "max                    6.000000                6.000000   \n",
              "\n",
              "       contacts_count_12_mon  credit_limit  total_revolving_bal  \\\n",
              "count           10127.000000  10127.000000         10127.000000   \n",
              "mean                2.455317   8631.953698          1162.814061   \n",
              "std                 1.106225   9088.776650           814.987335   \n",
              "min                 0.000000   1438.300000             0.000000   \n",
              "25%                 2.000000   2555.000000           359.000000   \n",
              "50%                 2.000000   4549.000000          1276.000000   \n",
              "75%                 3.000000  11067.500000          1784.000000   \n",
              "max                 6.000000  34516.000000          2517.000000   \n",
              "\n",
              "       avg_open_to_buy  total_amt_chng_q4_q1  total_trans_amt  total_trans_ct  \\\n",
              "count     10127.000000          10127.000000     10127.000000    10127.000000   \n",
              "mean       7469.139637              0.759941      4404.086304       64.858695   \n",
              "std        9090.685324              0.219207      3397.129254       23.472570   \n",
              "min           3.000000              0.000000       510.000000       10.000000   \n",
              "25%        1324.500000              0.631000      2155.500000       45.000000   \n",
              "50%        3474.000000              0.736000      3899.000000       67.000000   \n",
              "75%        9859.000000              0.859000      4741.000000       81.000000   \n",
              "max       34516.000000              3.397000     18484.000000      139.000000   \n",
              "\n",
              "       total_ct_chng_q4_q1  avg_utilization_ratio  \n",
              "count         10127.000000           10127.000000  \n",
              "mean              0.712222               0.274894  \n",
              "std               0.238086               0.275691  \n",
              "min               0.000000               0.000000  \n",
              "25%               0.582000               0.023000  \n",
              "50%               0.702000               0.176000  \n",
              "75%               0.818000               0.503000  \n",
              "max               3.714000               0.999000  "
            ],
            "text/html": [
              "\n",
              "  <div id=\"df-371a9a45-de90-4f38-beca-a23bf1f46f6e\">\n",
              "    <div class=\"colab-df-container\">\n",
              "      <div>\n",
              "<style scoped>\n",
              "    .dataframe tbody tr th:only-of-type {\n",
              "        vertical-align: middle;\n",
              "    }\n",
              "\n",
              "    .dataframe tbody tr th {\n",
              "        vertical-align: top;\n",
              "    }\n",
              "\n",
              "    .dataframe thead th {\n",
              "        text-align: right;\n",
              "    }\n",
              "</style>\n",
              "<table border=\"1\" class=\"dataframe\">\n",
              "  <thead>\n",
              "    <tr style=\"text-align: right;\">\n",
              "      <th></th>\n",
              "      <th>customer_age</th>\n",
              "      <th>dependent_count</th>\n",
              "      <th>months_on_book</th>\n",
              "      <th>total_relationship_count</th>\n",
              "      <th>months_inactive_12_mon</th>\n",
              "      <th>contacts_count_12_mon</th>\n",
              "      <th>credit_limit</th>\n",
              "      <th>total_revolving_bal</th>\n",
              "      <th>avg_open_to_buy</th>\n",
              "      <th>total_amt_chng_q4_q1</th>\n",
              "      <th>total_trans_amt</th>\n",
              "      <th>total_trans_ct</th>\n",
              "      <th>total_ct_chng_q4_q1</th>\n",
              "      <th>avg_utilization_ratio</th>\n",
              "    </tr>\n",
              "  </thead>\n",
              "  <tbody>\n",
              "    <tr>\n",
              "      <th>count</th>\n",
              "      <td>10127.000000</td>\n",
              "      <td>10127.000000</td>\n",
              "      <td>10127.000000</td>\n",
              "      <td>10127.000000</td>\n",
              "      <td>10127.000000</td>\n",
              "      <td>10127.000000</td>\n",
              "      <td>10127.000000</td>\n",
              "      <td>10127.000000</td>\n",
              "      <td>10127.000000</td>\n",
              "      <td>10127.000000</td>\n",
              "      <td>10127.000000</td>\n",
              "      <td>10127.000000</td>\n",
              "      <td>10127.000000</td>\n",
              "      <td>10127.000000</td>\n",
              "    </tr>\n",
              "    <tr>\n",
              "      <th>mean</th>\n",
              "      <td>46.325960</td>\n",
              "      <td>2.346203</td>\n",
              "      <td>35.928409</td>\n",
              "      <td>3.812580</td>\n",
              "      <td>2.341167</td>\n",
              "      <td>2.455317</td>\n",
              "      <td>8631.953698</td>\n",
              "      <td>1162.814061</td>\n",
              "      <td>7469.139637</td>\n",
              "      <td>0.759941</td>\n",
              "      <td>4404.086304</td>\n",
              "      <td>64.858695</td>\n",
              "      <td>0.712222</td>\n",
              "      <td>0.274894</td>\n",
              "    </tr>\n",
              "    <tr>\n",
              "      <th>std</th>\n",
              "      <td>8.016814</td>\n",
              "      <td>1.298908</td>\n",
              "      <td>7.986416</td>\n",
              "      <td>1.554408</td>\n",
              "      <td>1.010622</td>\n",
              "      <td>1.106225</td>\n",
              "      <td>9088.776650</td>\n",
              "      <td>814.987335</td>\n",
              "      <td>9090.685324</td>\n",
              "      <td>0.219207</td>\n",
              "      <td>3397.129254</td>\n",
              "      <td>23.472570</td>\n",
              "      <td>0.238086</td>\n",
              "      <td>0.275691</td>\n",
              "    </tr>\n",
              "    <tr>\n",
              "      <th>min</th>\n",
              "      <td>26.000000</td>\n",
              "      <td>0.000000</td>\n",
              "      <td>13.000000</td>\n",
              "      <td>1.000000</td>\n",
              "      <td>0.000000</td>\n",
              "      <td>0.000000</td>\n",
              "      <td>1438.300000</td>\n",
              "      <td>0.000000</td>\n",
              "      <td>3.000000</td>\n",
              "      <td>0.000000</td>\n",
              "      <td>510.000000</td>\n",
              "      <td>10.000000</td>\n",
              "      <td>0.000000</td>\n",
              "      <td>0.000000</td>\n",
              "    </tr>\n",
              "    <tr>\n",
              "      <th>25%</th>\n",
              "      <td>41.000000</td>\n",
              "      <td>1.000000</td>\n",
              "      <td>31.000000</td>\n",
              "      <td>3.000000</td>\n",
              "      <td>2.000000</td>\n",
              "      <td>2.000000</td>\n",
              "      <td>2555.000000</td>\n",
              "      <td>359.000000</td>\n",
              "      <td>1324.500000</td>\n",
              "      <td>0.631000</td>\n",
              "      <td>2155.500000</td>\n",
              "      <td>45.000000</td>\n",
              "      <td>0.582000</td>\n",
              "      <td>0.023000</td>\n",
              "    </tr>\n",
              "    <tr>\n",
              "      <th>50%</th>\n",
              "      <td>46.000000</td>\n",
              "      <td>2.000000</td>\n",
              "      <td>36.000000</td>\n",
              "      <td>4.000000</td>\n",
              "      <td>2.000000</td>\n",
              "      <td>2.000000</td>\n",
              "      <td>4549.000000</td>\n",
              "      <td>1276.000000</td>\n",
              "      <td>3474.000000</td>\n",
              "      <td>0.736000</td>\n",
              "      <td>3899.000000</td>\n",
              "      <td>67.000000</td>\n",
              "      <td>0.702000</td>\n",
              "      <td>0.176000</td>\n",
              "    </tr>\n",
              "    <tr>\n",
              "      <th>75%</th>\n",
              "      <td>52.000000</td>\n",
              "      <td>3.000000</td>\n",
              "      <td>40.000000</td>\n",
              "      <td>5.000000</td>\n",
              "      <td>3.000000</td>\n",
              "      <td>3.000000</td>\n",
              "      <td>11067.500000</td>\n",
              "      <td>1784.000000</td>\n",
              "      <td>9859.000000</td>\n",
              "      <td>0.859000</td>\n",
              "      <td>4741.000000</td>\n",
              "      <td>81.000000</td>\n",
              "      <td>0.818000</td>\n",
              "      <td>0.503000</td>\n",
              "    </tr>\n",
              "    <tr>\n",
              "      <th>max</th>\n",
              "      <td>73.000000</td>\n",
              "      <td>5.000000</td>\n",
              "      <td>56.000000</td>\n",
              "      <td>6.000000</td>\n",
              "      <td>6.000000</td>\n",
              "      <td>6.000000</td>\n",
              "      <td>34516.000000</td>\n",
              "      <td>2517.000000</td>\n",
              "      <td>34516.000000</td>\n",
              "      <td>3.397000</td>\n",
              "      <td>18484.000000</td>\n",
              "      <td>139.000000</td>\n",
              "      <td>3.714000</td>\n",
              "      <td>0.999000</td>\n",
              "    </tr>\n",
              "  </tbody>\n",
              "</table>\n",
              "</div>\n",
              "      <button class=\"colab-df-convert\" onclick=\"convertToInteractive('df-371a9a45-de90-4f38-beca-a23bf1f46f6e')\"\n",
              "              title=\"Convert this dataframe to an interactive table.\"\n",
              "              style=\"display:none;\">\n",
              "        \n",
              "  <svg xmlns=\"http://www.w3.org/2000/svg\" height=\"24px\"viewBox=\"0 0 24 24\"\n",
              "       width=\"24px\">\n",
              "    <path d=\"M0 0h24v24H0V0z\" fill=\"none\"/>\n",
              "    <path d=\"M18.56 5.44l.94 2.06.94-2.06 2.06-.94-2.06-.94-.94-2.06-.94 2.06-2.06.94zm-11 1L8.5 8.5l.94-2.06 2.06-.94-2.06-.94L8.5 2.5l-.94 2.06-2.06.94zm10 10l.94 2.06.94-2.06 2.06-.94-2.06-.94-.94-2.06-.94 2.06-2.06.94z\"/><path d=\"M17.41 7.96l-1.37-1.37c-.4-.4-.92-.59-1.43-.59-.52 0-1.04.2-1.43.59L10.3 9.45l-7.72 7.72c-.78.78-.78 2.05 0 2.83L4 21.41c.39.39.9.59 1.41.59.51 0 1.02-.2 1.41-.59l7.78-7.78 2.81-2.81c.8-.78.8-2.07 0-2.86zM5.41 20L4 18.59l7.72-7.72 1.47 1.35L5.41 20z\"/>\n",
              "  </svg>\n",
              "      </button>\n",
              "      \n",
              "  <style>\n",
              "    .colab-df-container {\n",
              "      display:flex;\n",
              "      flex-wrap:wrap;\n",
              "      gap: 12px;\n",
              "    }\n",
              "\n",
              "    .colab-df-convert {\n",
              "      background-color: #E8F0FE;\n",
              "      border: none;\n",
              "      border-radius: 50%;\n",
              "      cursor: pointer;\n",
              "      display: none;\n",
              "      fill: #1967D2;\n",
              "      height: 32px;\n",
              "      padding: 0 0 0 0;\n",
              "      width: 32px;\n",
              "    }\n",
              "\n",
              "    .colab-df-convert:hover {\n",
              "      background-color: #E2EBFA;\n",
              "      box-shadow: 0px 1px 2px rgba(60, 64, 67, 0.3), 0px 1px 3px 1px rgba(60, 64, 67, 0.15);\n",
              "      fill: #174EA6;\n",
              "    }\n",
              "\n",
              "    [theme=dark] .colab-df-convert {\n",
              "      background-color: #3B4455;\n",
              "      fill: #D2E3FC;\n",
              "    }\n",
              "\n",
              "    [theme=dark] .colab-df-convert:hover {\n",
              "      background-color: #434B5C;\n",
              "      box-shadow: 0px 1px 3px 1px rgba(0, 0, 0, 0.15);\n",
              "      filter: drop-shadow(0px 1px 2px rgba(0, 0, 0, 0.3));\n",
              "      fill: #FFFFFF;\n",
              "    }\n",
              "  </style>\n",
              "\n",
              "      <script>\n",
              "        const buttonEl =\n",
              "          document.querySelector('#df-371a9a45-de90-4f38-beca-a23bf1f46f6e button.colab-df-convert');\n",
              "        buttonEl.style.display =\n",
              "          google.colab.kernel.accessAllowed ? 'block' : 'none';\n",
              "\n",
              "        async function convertToInteractive(key) {\n",
              "          const element = document.querySelector('#df-371a9a45-de90-4f38-beca-a23bf1f46f6e');\n",
              "          const dataTable =\n",
              "            await google.colab.kernel.invokeFunction('convertToInteractive',\n",
              "                                                     [key], {});\n",
              "          if (!dataTable) return;\n",
              "\n",
              "          const docLinkHtml = 'Like what you see? Visit the ' +\n",
              "            '<a target=\"_blank\" href=https://colab.research.google.com/notebooks/data_table.ipynb>data table notebook</a>'\n",
              "            + ' to learn more about interactive tables.';\n",
              "          element.innerHTML = '';\n",
              "          dataTable['output_type'] = 'display_data';\n",
              "          await google.colab.output.renderOutput(dataTable, element);\n",
              "          const docLink = document.createElement('div');\n",
              "          docLink.innerHTML = docLinkHtml;\n",
              "          element.appendChild(docLink);\n",
              "        }\n",
              "      </script>\n",
              "    </div>\n",
              "  </div>\n",
              "  "
            ]
          },
          "metadata": {},
          "execution_count": 5
        }
      ],
      "source": [
        "# Descriptive statistics for numeric features\n",
        "numeric_features = df.select_dtypes(include=['float64', 'int64']).drop('client_num',axis=1)\n",
        "numeric_features.describe()"
      ]
    },
    {
      "cell_type": "markdown",
      "metadata": {
        "id": "bOZC7w0R7ai5"
      },
      "source": [
        "### 1.2  Class comparison"
      ]
    },
    {
      "cell_type": "markdown",
      "metadata": {
        "id": "BobHiRjZgpZ3"
      },
      "source": [
        "To compare the descriptive statistics for churned and existing customers, we can group the dataset by the \"attrition_flag\" column and calculate the statistics for each group. "
      ]
    },
    {
      "cell_type": "code",
      "execution_count": 6,
      "metadata": {
        "colab": {
          "base_uri": "https://localhost:8080/"
        },
        "id": "KmKHQ0ElfgfQ",
        "outputId": "62b4ef71-973e-48e8-936b-18b223ada5b3"
      },
      "outputs": [
        {
          "output_type": "execute_result",
          "data": {
            "text/plain": [
              "Existing Customer    8500\n",
              "Attrited Customer    1627\n",
              "Name: attrition_flag, dtype: int64"
            ]
          },
          "metadata": {},
          "execution_count": 6
        }
      ],
      "source": [
        "# Descriptive statistics of existing and attrited customers\n",
        "\n",
        "df[\"attrition_flag\"].value_counts()"
      ]
    },
    {
      "cell_type": "code",
      "execution_count": 7,
      "metadata": {
        "colab": {
          "base_uri": "https://localhost:8080/",
          "height": 467
        },
        "id": "U9tKKVFtqzsi",
        "outputId": "b0aae402-cf79-45ef-ba7a-ce119f9aabdb"
      },
      "outputs": [
        {
          "output_type": "execute_result",
          "data": {
            "text/plain": [
              "[Text(0, 0, 'Attrited Customers'), Text(1, 0, 'Existing Customers')]"
            ]
          },
          "metadata": {},
          "execution_count": 7
        },
        {
          "output_type": "display_data",
          "data": {
            "text/plain": [
              "<Figure size 640x480 with 1 Axes>"
            ],
            "image/png": "[encoded data removed]"
          },
          "metadata": {}
        }
      ],
      "source": [
        "g=sns.countplot(data=df,x='attrition_flag')\n",
        "g.set_xticklabels(['Attrited Customers','Existing Customers'])"
      ]
    },
    {
      "cell_type": "code",
      "execution_count": 8,
      "metadata": {
        "colab": {
          "base_uri": "https://localhost:8080/",
          "height": 239
        },
        "id": "mpvqlX71fGLv",
        "outputId": "e5ae15b7-cdcd-4135-eb9a-f017a725121b"
      },
      "outputs": [
        {
          "output_type": "execute_result",
          "data": {
            "text/plain": [
              "      customer_age  dependent_count  months_on_book  total_relationship_count  \\\n",
              "min      26.000000         0.000000       13.000000                  1.000000   \n",
              "max      73.000000         5.000000       56.000000                  6.000000   \n",
              "mean     46.262118         2.335412       35.880588                  3.914588   \n",
              "std       8.081157         1.303229        8.021810                  1.528949   \n",
              "\n",
              "      months_inactive_12_mon  contacts_count_12_mon  credit_limit  \\\n",
              "min                 0.000000               0.000000   1438.300000   \n",
              "max                 6.000000               5.000000  34516.000000   \n",
              "mean                2.273765               2.356353   8726.877518   \n",
              "std                 1.016741               1.081436   9084.969807   \n",
              "\n",
              "      total_revolving_bal  avg_open_to_buy  total_amt_chng_q4_q1  \\\n",
              "min              0.000000        15.000000              0.256000   \n",
              "max           2517.000000     34516.000000              3.397000   \n",
              "mean          1256.604118      7470.273400              0.772510   \n",
              "std            757.745354      9087.671862              0.217783   \n",
              "\n",
              "      total_trans_amt  total_trans_ct  total_ct_chng_q4_q1  \\\n",
              "min        816.000000       11.000000             0.028000   \n",
              "max      18484.000000      139.000000             3.714000   \n",
              "mean      4654.655882       68.672588             0.742434   \n",
              "std       3512.772635       22.919011             0.228054   \n",
              "\n",
              "      avg_utilization_ratio  \n",
              "min                0.000000  \n",
              "max                0.994000  \n",
              "mean               0.296412  \n",
              "std                0.272568  "
            ],
            "text/html": [
              "\n",
              "  <div id=\"df-64c203a9-09fb-4c7f-b123-11596b64769f\">\n",
              "    <div class=\"colab-df-container\">\n",
              "      <div>\n",
              "<style scoped>\n",
              "    .dataframe tbody tr th:only-of-type {\n",
              "        vertical-align: middle;\n",
              "    }\n",
              "\n",
              "    .dataframe tbody tr th {\n",
              "        vertical-align: top;\n",
              "    }\n",
              "\n",
              "    .dataframe thead th {\n",
              "        text-align: right;\n",
              "    }\n",
              "</style>\n",
              "<table border=\"1\" class=\"dataframe\">\n",
              "  <thead>\n",
              "    <tr style=\"text-align: right;\">\n",
              "      <th></th>\n",
              "      <th>customer_age</th>\n",
              "      <th>dependent_count</th>\n",
              "      <th>months_on_book</th>\n",
              "      <th>total_relationship_count</th>\n",
              "      <th>months_inactive_12_mon</th>\n",
              "      <th>contacts_count_12_mon</th>\n",
              "      <th>credit_limit</th>\n",
              "      <th>total_revolving_bal</th>\n",
              "      <th>avg_open_to_buy</th>\n",
              "      <th>total_amt_chng_q4_q1</th>\n",
              "      <th>total_trans_amt</th>\n",
              "      <th>total_trans_ct</th>\n",
              "      <th>total_ct_chng_q4_q1</th>\n",
              "      <th>avg_utilization_ratio</th>\n",
              "    </tr>\n",
              "  </thead>\n",
              "  <tbody>\n",
              "    <tr>\n",
              "      <th>min</th>\n",
              "      <td>26.000000</td>\n",
              "      <td>0.000000</td>\n",
              "      <td>13.000000</td>\n",
              "      <td>1.000000</td>\n",
              "      <td>0.000000</td>\n",
              "      <td>0.000000</td>\n",
              "      <td>1438.300000</td>\n",
              "      <td>0.000000</td>\n",
              "      <td>15.000000</td>\n",
              "      <td>0.256000</td>\n",
              "      <td>816.000000</td>\n",
              "      <td>11.000000</td>\n",
              "      <td>0.028000</td>\n",
              "      <td>0.000000</td>\n",
              "    </tr>\n",
              "    <tr>\n",
              "      <th>max</th>\n",
              "      <td>73.000000</td>\n",
              "      <td>5.000000</td>\n",
              "      <td>56.000000</td>\n",
              "      <td>6.000000</td>\n",
              "      <td>6.000000</td>\n",
              "      <td>5.000000</td>\n",
              "      <td>34516.000000</td>\n",
              "      <td>2517.000000</td>\n",
              "      <td>34516.000000</td>\n",
              "      <td>3.397000</td>\n",
              "      <td>18484.000000</td>\n",
              "      <td>139.000000</td>\n",
              "      <td>3.714000</td>\n",
              "      <td>0.994000</td>\n",
              "    </tr>\n",
              "    <tr>\n",
              "      <th>mean</th>\n",
              "      <td>46.262118</td>\n",
              "      <td>2.335412</td>\n",
              "      <td>35.880588</td>\n",
              "      <td>3.914588</td>\n",
              "      <td>2.273765</td>\n",
              "      <td>2.356353</td>\n",
              "      <td>8726.877518</td>\n",
              "      <td>1256.604118</td>\n",
              "      <td>7470.273400</td>\n",
              "      <td>0.772510</td>\n",
              "      <td>4654.655882</td>\n",
              "      <td>68.672588</td>\n",
              "      <td>0.742434</td>\n",
              "      <td>0.296412</td>\n",
              "    </tr>\n",
              "    <tr>\n",
              "      <th>std</th>\n",
              "      <td>8.081157</td>\n",
              "      <td>1.303229</td>\n",
              "      <td>8.021810</td>\n",
              "      <td>1.528949</td>\n",
              "      <td>1.016741</td>\n",
              "      <td>1.081436</td>\n",
              "      <td>9084.969807</td>\n",
              "      <td>757.745354</td>\n",
              "      <td>9087.671862</td>\n",
              "      <td>0.217783</td>\n",
              "      <td>3512.772635</td>\n",
              "      <td>22.919011</td>\n",
              "      <td>0.228054</td>\n",
              "      <td>0.272568</td>\n",
              "    </tr>\n",
              "  </tbody>\n",
              "</table>\n",
              "</div>\n",
              "      <button class=\"colab-df-convert\" onclick=\"convertToInteractive('df-64c203a9-09fb-4c7f-b123-11596b64769f')\"\n",
              "              title=\"Convert this dataframe to an interactive table.\"\n",
              "              style=\"display:none;\">\n",
              "        \n",
              "  <svg xmlns=\"http://www.w3.org/2000/svg\" height=\"24px\"viewBox=\"0 0 24 24\"\n",
              "       width=\"24px\">\n",
              "    <path d=\"M0 0h24v24H0V0z\" fill=\"none\"/>\n",
              "    <path d=\"M18.56 5.44l.94 2.06.94-2.06 2.06-.94-2.06-.94-.94-2.06-.94 2.06-2.06.94zm-11 1L8.5 8.5l.94-2.06 2.06-.94-2.06-.94L8.5 2.5l-.94 2.06-2.06.94zm10 10l.94 2.06.94-2.06 2.06-.94-2.06-.94-.94-2.06-.94 2.06-2.06.94z\"/><path d=\"M17.41 7.96l-1.37-1.37c-.4-.4-.92-.59-1.43-.59-.52 0-1.04.2-1.43.59L10.3 9.45l-7.72 7.72c-.78.78-.78 2.05 0 2.83L4 21.41c.39.39.9.59 1.41.59.51 0 1.02-.2 1.41-.59l7.78-7.78 2.81-2.81c.8-.78.8-2.07 0-2.86zM5.41 20L4 18.59l7.72-7.72 1.47 1.35L5.41 20z\"/>\n",
              "  </svg>\n",
              "      </button>\n",
              "      \n",
              "  <style>\n",
              "    .colab-df-container {\n",
              "      display:flex;\n",
              "      flex-wrap:wrap;\n",
              "      gap: 12px;\n",
              "    }\n",
              "\n",
              "    .colab-df-convert {\n",
              "      background-color: #E8F0FE;\n",
              "      border: none;\n",
              "      border-radius: 50%;\n",
              "      cursor: pointer;\n",
              "      display: none;\n",
              "      fill: #1967D2;\n",
              "      height: 32px;\n",
              "      padding: 0 0 0 0;\n",
              "      width: 32px;\n",
              "    }\n",
              "\n",
              "    .colab-df-convert:hover {\n",
              "      background-color: #E2EBFA;\n",
              "      box-shadow: 0px 1px 2px rgba(60, 64, 67, 0.3), 0px 1px 3px 1px rgba(60, 64, 67, 0.15);\n",
              "      fill: #174EA6;\n",
              "    }\n",
              "\n",
              "    [theme=dark] .colab-df-convert {\n",
              "      background-color: #3B4455;\n",
              "      fill: #D2E3FC;\n",
              "    }\n",
              "\n",
              "    [theme=dark] .colab-df-convert:hover {\n",
              "      background-color: #434B5C;\n",
              "      box-shadow: 0px 1px 3px 1px rgba(0, 0, 0, 0.15);\n",
              "      filter: drop-shadow(0px 1px 2px rgba(0, 0, 0, 0.3));\n",
              "      fill: #FFFFFF;\n",
              "    }\n",
              "  </style>\n",
              "\n",
              "      <script>\n",
              "        const buttonEl =\n",
              "          document.querySelector('#df-64c203a9-09fb-4c7f-b123-11596b64769f button.colab-df-convert');\n",
              "        buttonEl.style.display =\n",
              "          google.colab.kernel.accessAllowed ? 'block' : 'none';\n",
              "\n",
              "        async function convertToInteractive(key) {\n",
              "          const element = document.querySelector('#df-64c203a9-09fb-4c7f-b123-11596b64769f');\n",
              "          const dataTable =\n",
              "            await google.colab.kernel.invokeFunction('convertToInteractive',\n",
              "                                                     [key], {});\n",
              "          if (!dataTable) return;\n",
              "\n",
              "          const docLinkHtml = 'Like what you see? Visit the ' +\n",
              "            '<a target=\"_blank\" href=https://colab.research.google.com/notebooks/data_table.ipynb>data table notebook</a>'\n",
              "            + ' to learn more about interactive tables.';\n",
              "          element.innerHTML = '';\n",
              "          dataTable['output_type'] = 'display_data';\n",
              "          await google.colab.output.renderOutput(dataTable, element);\n",
              "          const docLink = document.createElement('div');\n",
              "          docLink.innerHTML = docLinkHtml;\n",
              "          element.appendChild(docLink);\n",
              "        }\n",
              "      </script>\n",
              "    </div>\n",
              "  </div>\n",
              "  "
            ]
          },
          "metadata": {},
          "execution_count": 8
        }
      ],
      "source": [
        "df[df[\"attrition_flag\"] == \"Existing Customer\"].drop('client_num',axis=1).describe().loc[[\"min\", \"max\", \"mean\", \"std\"]]"
      ]
    },
    {
      "cell_type": "code",
      "execution_count": 9,
      "metadata": {
        "colab": {
          "base_uri": "https://localhost:8080/",
          "height": 239
        },
        "id": "WT23YHnWfss4",
        "outputId": "64159e38-6947-4bc6-835c-e9d4a585fc33"
      },
      "outputs": [
        {
          "output_type": "execute_result",
          "data": {
            "text/plain": [
              "      customer_age  dependent_count  months_on_book  total_relationship_count  \\\n",
              "min      26.000000         0.000000       13.000000                  1.000000   \n",
              "max      68.000000         5.000000       56.000000                  6.000000   \n",
              "mean     46.659496         2.402581       36.178242                  3.279656   \n",
              "std       7.665652         1.275010        7.796548                  1.577782   \n",
              "\n",
              "      months_inactive_12_mon  contacts_count_12_mon  credit_limit  \\\n",
              "min                 0.000000               0.000000   1438.300000   \n",
              "max                 6.000000               6.000000  34516.000000   \n",
              "mean                2.693301               2.972342   8136.039459   \n",
              "std                 0.899623               1.090537   9095.334105   \n",
              "\n",
              "      total_revolving_bal  avg_open_to_buy  total_amt_chng_q4_q1  \\\n",
              "min              0.000000         3.000000              0.000000   \n",
              "max           2517.000000     34516.000000              1.492000   \n",
              "mean           672.822987      7463.216472              0.694277   \n",
              "std            921.385582      9109.208129              0.214924   \n",
              "\n",
              "      total_trans_amt  total_trans_ct  total_ct_chng_q4_q1  \\\n",
              "min        510.000000       10.000000             0.000000   \n",
              "max      10583.000000       94.000000             2.500000   \n",
              "mean      3095.025814       44.933620             0.554386   \n",
              "std       2308.227629       14.568429             0.226854   \n",
              "\n",
              "      avg_utilization_ratio  \n",
              "min                0.000000  \n",
              "max                0.999000  \n",
              "mean               0.162475  \n",
              "std                0.264458  "
            ],
            "text/html": [
              "\n",
              "  <div id=\"df-c978894f-ff12-4293-a8b1-d719c3645dc3\">\n",
              "    <div class=\"colab-df-container\">\n",
              "      <div>\n",
              "<style scoped>\n",
              "    .dataframe tbody tr th:only-of-type {\n",
              "        vertical-align: middle;\n",
              "    }\n",
              "\n",
              "    .dataframe tbody tr th {\n",
              "        vertical-align: top;\n",
              "    }\n",
              "\n",
              "    .dataframe thead th {\n",
              "        text-align: right;\n",
              "    }\n",
              "</style>\n",
              "<table border=\"1\" class=\"dataframe\">\n",
              "  <thead>\n",
              "    <tr style=\"text-align: right;\">\n",
              "      <th></th>\n",
              "      <th>customer_age</th>\n",
              "      <th>dependent_count</th>\n",
              "      <th>months_on_book</th>\n",
              "      <th>total_relationship_count</th>\n",
              "      <th>months_inactive_12_mon</th>\n",
              "      <th>contacts_count_12_mon</th>\n",
              "      <th>credit_limit</th>\n",
              "      <th>total_revolving_bal</th>\n",
              "      <th>avg_open_to_buy</th>\n",
              "      <th>total_amt_chng_q4_q1</th>\n",
              "      <th>total_trans_amt</th>\n",
              "      <th>total_trans_ct</th>\n",
              "      <th>total_ct_chng_q4_q1</th>\n",
              "      <th>avg_utilization_ratio</th>\n",
              "    </tr>\n",
              "  </thead>\n",
              "  <tbody>\n",
              "    <tr>\n",
              "      <th>min</th>\n",
              "      <td>26.000000</td>\n",
              "      <td>0.000000</td>\n",
              "      <td>13.000000</td>\n",
              "      <td>1.000000</td>\n",
              "      <td>0.000000</td>\n",
              "      <td>0.000000</td>\n",
              "      <td>1438.300000</td>\n",
              "      <td>0.000000</td>\n",
              "      <td>3.000000</td>\n",
              "      <td>0.000000</td>\n",
              "      <td>510.000000</td>\n",
              "      <td>10.000000</td>\n",
              "      <td>0.000000</td>\n",
              "      <td>0.000000</td>\n",
              "    </tr>\n",
              "    <tr>\n",
              "      <th>max</th>\n",
              "      <td>68.000000</td>\n",
              "      <td>5.000000</td>\n",
              "      <td>56.000000</td>\n",
              "      <td>6.000000</td>\n",
              "      <td>6.000000</td>\n",
              "      <td>6.000000</td>\n",
              "      <td>34516.000000</td>\n",
              "      <td>2517.000000</td>\n",
              "      <td>34516.000000</td>\n",
              "      <td>1.492000</td>\n",
              "      <td>10583.000000</td>\n",
              "      <td>94.000000</td>\n",
              "      <td>2.500000</td>\n",
              "      <td>0.999000</td>\n",
              "    </tr>\n",
              "    <tr>\n",
              "      <th>mean</th>\n",
              "      <td>46.659496</td>\n",
              "      <td>2.402581</td>\n",
              "      <td>36.178242</td>\n",
              "      <td>3.279656</td>\n",
              "      <td>2.693301</td>\n",
              "      <td>2.972342</td>\n",
              "      <td>8136.039459</td>\n",
              "      <td>672.822987</td>\n",
              "      <td>7463.216472</td>\n",
              "      <td>0.694277</td>\n",
              "      <td>3095.025814</td>\n",
              "      <td>44.933620</td>\n",
              "      <td>0.554386</td>\n",
              "      <td>0.162475</td>\n",
              "    </tr>\n",
              "    <tr>\n",
              "      <th>std</th>\n",
              "      <td>7.665652</td>\n",
              "      <td>1.275010</td>\n",
              "      <td>7.796548</td>\n",
              "      <td>1.577782</td>\n",
              "      <td>0.899623</td>\n",
              "      <td>1.090537</td>\n",
              "      <td>9095.334105</td>\n",
              "      <td>921.385582</td>\n",
              "      <td>9109.208129</td>\n",
              "      <td>0.214924</td>\n",
              "      <td>2308.227629</td>\n",
              "      <td>14.568429</td>\n",
              "      <td>0.226854</td>\n",
              "      <td>0.264458</td>\n",
              "    </tr>\n",
              "  </tbody>\n",
              "</table>\n",
              "</div>\n",
              "      <button class=\"colab-df-convert\" onclick=\"convertToInteractive('df-c978894f-ff12-4293-a8b1-d719c3645dc3')\"\n",
              "              title=\"Convert this dataframe to an interactive table.\"\n",
              "              style=\"display:none;\">\n",
              "        \n",
              "  <svg xmlns=\"http://www.w3.org/2000/svg\" height=\"24px\"viewBox=\"0 0 24 24\"\n",
              "       width=\"24px\">\n",
              "    <path d=\"M0 0h24v24H0V0z\" fill=\"none\"/>\n",
              "    <path d=\"M18.56 5.44l.94 2.06.94-2.06 2.06-.94-2.06-.94-.94-2.06-.94 2.06-2.06.94zm-11 1L8.5 8.5l.94-2.06 2.06-.94-2.06-.94L8.5 2.5l-.94 2.06-2.06.94zm10 10l.94 2.06.94-2.06 2.06-.94-2.06-.94-.94-2.06-.94 2.06-2.06.94z\"/><path d=\"M17.41 7.96l-1.37-1.37c-.4-.4-.92-.59-1.43-.59-.52 0-1.04.2-1.43.59L10.3 9.45l-7.72 7.72c-.78.78-.78 2.05 0 2.83L4 21.41c.39.39.9.59 1.41.59.51 0 1.02-.2 1.41-.59l7.78-7.78 2.81-2.81c.8-.78.8-2.07 0-2.86zM5.41 20L4 18.59l7.72-7.72 1.47 1.35L5.41 20z\"/>\n",
              "  </svg>\n",
              "      </button>\n",
              "      \n",
              "  <style>\n",
              "    .colab-df-container {\n",
              "      display:flex;\n",
              "      flex-wrap:wrap;\n",
              "      gap: 12px;\n",
              "    }\n",
              "\n",
              "    .colab-df-convert {\n",
              "      background-color: #E8F0FE;\n",
              "      border: none;\n",
              "      border-radius: 50%;\n",
              "      cursor: pointer;\n",
              "      display: none;\n",
              "      fill: #1967D2;\n",
              "      height: 32px;\n",
              "      padding: 0 0 0 0;\n",
              "      width: 32px;\n",
              "    }\n",
              "\n",
              "    .colab-df-convert:hover {\n",
              "      background-color: #E2EBFA;\n",
              "      box-shadow: 0px 1px 2px rgba(60, 64, 67, 0.3), 0px 1px 3px 1px rgba(60, 64, 67, 0.15);\n",
              "      fill: #174EA6;\n",
              "    }\n",
              "\n",
              "    [theme=dark] .colab-df-convert {\n",
              "      background-color: #3B4455;\n",
              "      fill: #D2E3FC;\n",
              "    }\n",
              "\n",
              "    [theme=dark] .colab-df-convert:hover {\n",
              "      background-color: #434B5C;\n",
              "      box-shadow: 0px 1px 3px 1px rgba(0, 0, 0, 0.15);\n",
              "      filter: drop-shadow(0px 1px 2px rgba(0, 0, 0, 0.3));\n",
              "      fill: #FFFFFF;\n",
              "    }\n",
              "  </style>\n",
              "\n",
              "      <script>\n",
              "        const buttonEl =\n",
              "          document.querySelector('#df-c978894f-ff12-4293-a8b1-d719c3645dc3 button.colab-df-convert');\n",
              "        buttonEl.style.display =\n",
              "          google.colab.kernel.accessAllowed ? 'block' : 'none';\n",
              "\n",
              "        async function convertToInteractive(key) {\n",
              "          const element = document.querySelector('#df-c978894f-ff12-4293-a8b1-d719c3645dc3');\n",
              "          const dataTable =\n",
              "            await google.colab.kernel.invokeFunction('convertToInteractive',\n",
              "                                                     [key], {});\n",
              "          if (!dataTable) return;\n",
              "\n",
              "          const docLinkHtml = 'Like what you see? Visit the ' +\n",
              "            '<a target=\"_blank\" href=https://colab.research.google.com/notebooks/data_table.ipynb>data table notebook</a>'\n",
              "            + ' to learn more about interactive tables.';\n",
              "          element.innerHTML = '';\n",
              "          dataTable['output_type'] = 'display_data';\n",
              "          await google.colab.output.renderOutput(dataTable, element);\n",
              "          const docLink = document.createElement('div');\n",
              "          docLink.innerHTML = docLinkHtml;\n",
              "          element.appendChild(docLink);\n",
              "        }\n",
              "      </script>\n",
              "    </div>\n",
              "  </div>\n",
              "  "
            ]
          },
          "metadata": {},
          "execution_count": 9
        }
      ],
      "source": [
        "df[df[\"attrition_flag\"] == \"Attrited Customer\"].drop('client_num',axis=1).describe().loc[[\"min\", \"max\", \"mean\", \"std\"]]"
      ]
    },
    {
      "cell_type": "markdown",
      "metadata": {
        "id": "vuXPVcRdI7tb"
      },
      "source": [
        "\n",
        "\n",
        "\n",
        "*   Total revolving balance on the credit card was almost twice as high for existing customers while also being less variable.\n",
        "*   Total transaction amount in the last 12 months was lower for churning customers, at the same time, it varied more for existing customers.\n",
        "*  On average, attrited customers utilizated their cards only half as much.\n",
        "\n",
        "\n",
        "\n",
        "\n"
      ]
    },
    {
      "cell_type": "markdown",
      "metadata": {
        "id": "cUtt_TOaLv7t"
      },
      "source": [
        "### 1.3 Categorical distributions"
      ]
    },
    {
      "cell_type": "markdown",
      "metadata": {
        "id": "LxvXcgHwhDKQ"
      },
      "source": [
        "To calculate the distribution of categorical features, we need to count the occurrences of each category, divide it by the total number of observations and multiply for conversion into percentages. "
      ]
    },
    {
      "cell_type": "code",
      "execution_count": 10,
      "metadata": {
        "colab": {
          "base_uri": "https://localhost:8080/",
          "height": 1000
        },
        "id": "txwwJgDlL4MM",
        "outputId": "a3d4988b-a1f8-4eb7-f05f-d5f8e1fa239d"
      },
      "outputs": [
        {
          "output_type": "display_data",
          "data": {
            "text/plain": [
              "Existing Customer    83.934038\n",
              "Attrited Customer    16.065962\n",
              "Name: attrition_flag, dtype: float64"
            ]
          },
          "metadata": {}
        },
        {
          "output_type": "display_data",
          "data": {
            "text/plain": [
              "<Figure size 640x480 with 1 Axes>"
            ],
            "image/png": "[encoded data removed]"
          },
          "metadata": {}
        },
        {
          "output_type": "display_data",
          "data": {
            "text/plain": [
              "F    52.908068\n",
              "M    47.091932\n",
              "Name: gender, dtype: float64"
            ]
          },
          "metadata": {}
        },
        {
          "output_type": "display_data",
          "data": {
            "text/plain": [
              "<Figure size 640x480 with 1 Axes>"
            ],
            "image/png": "[encoded data removed]"
          },
          "metadata": {}
        },
        {
          "output_type": "display_data",
          "data": {
            "text/plain": [
              "Graduate         30.887726\n",
              "High School      19.877555\n",
              "Unknown          14.999506\n",
              "Uneducated       14.683519\n",
              "College          10.002962\n",
              "Post-Graduate     5.095290\n",
              "Doctorate         4.453441\n",
              "Name: education_level, dtype: float64"
            ]
          },
          "metadata": {}
        },
        {
          "output_type": "display_data",
          "data": {
            "text/plain": [
              "<Figure size 640x480 with 1 Axes>"
            ],
            "image/png": "[encoded data removed]"
          },
          "metadata": {}
        },
        {
          "output_type": "display_data",
          "data": {
            "text/plain": [
              "Married     46.282216\n",
              "Single      38.935519\n",
              "Unknown      7.396070\n",
              "Divorced     7.386195\n",
              "Name: marital_status, dtype: float64"
            ]
          },
          "metadata": {}
        },
        {
          "output_type": "display_data",
          "data": {
            "text/plain": [
              "<Figure size 640x480 with 1 Axes>"
            ],
            "image/png": "[encoded data removed]"
          },
          "metadata": {}
        },
        {
          "output_type": "display_data",
          "data": {
            "text/plain": [
              "Less than $40K    35.163425\n",
              "$40K - $60K       17.675521\n",
              "$80K - $120K      15.157500\n",
              "$60K - $80K       13.844179\n",
              "Unknown           10.980547\n",
              "$120K +            7.178829\n",
              "Name: income_category, dtype: float64"
            ]
          },
          "metadata": {}
        },
        {
          "output_type": "display_data",
          "data": {
            "text/plain": [
              "<Figure size 640x480 with 1 Axes>"
            ],
            "image/png": "[encoded data removed]"
          },
          "metadata": {}
        },
        {
          "output_type": "display_data",
          "data": {
            "text/plain": [
              "Blue        93.176656\n",
              "Silver       5.480399\n",
              "Gold         1.145453\n",
              "Platinum     0.197492\n",
              "Name: card_category, dtype: float64"
            ]
          },
          "metadata": {}
        },
        {
          "output_type": "display_data",
          "data": {
            "text/plain": [
              "<Figure size 640x480 with 1 Axes>"
            ],
            "image/png": "[encoded data removed]"
          },
          "metadata": {}
        }
      ],
      "source": [
        "# Percentage distribution of all the categorical features \n",
        "\n",
        "categorical_columns = df.select_dtypes(include=['object']).columns\n",
        "for column in categorical_columns:\n",
        "  display(df[column].value_counts(normalize=True) * 100)\n",
        "  sns.countplot(x=df[column])\n",
        "  plt.show()"
      ]
    },
    {
      "cell_type": "markdown",
      "metadata": {
        "id": "06vvt5vc7aKp"
      },
      "source": [
        "### 1.4 Feature-label relationship"
      ]
    },
    {
      "cell_type": "markdown",
      "metadata": {
        "id": "yOfC47DQsFif"
      },
      "source": [
        "We visualize the relationship between the features2 `total_trans_amt`.\n",
        "`total_revolving_bal`,\n",
        "`avg_utilization_ratio` and the `attrition_flag` using boxplots as they allow for comparison of the distribution of a numeric feature for churned and existing customers. We omit the outliers for clearer output."
      ]
    },
    {
      "cell_type": "code",
      "execution_count": 11,
      "metadata": {
        "colab": {
          "base_uri": "https://localhost:8080/",
          "height": 449
        },
        "id": "yD_y1_V7uBK9",
        "outputId": "35377dd8-5cbd-4578-9f2d-eb4cd3194264"
      },
      "outputs": [
        {
          "output_type": "display_data",
          "data": {
            "text/plain": [
              "<Figure size 640x480 with 1 Axes>"
            ],
            "image/png": "[encoded data removed]"
          },
          "metadata": {}
        }
      ],
      "source": [
        "# Box plot for total_trans_amt \n",
        "\n",
        "sns.boxplot(x = 'attrition_flag',\n",
        "            y = 'total_trans_amt',\n",
        "            data = df,\n",
        "            sym=\"\"\n",
        "           )\n",
        "plt.xlabel(\"Attrition Flag\")\n",
        "plt.ylabel(\"Total Transaction Amount\")\n",
        "plt.show()"
      ]
    },
    {
      "cell_type": "code",
      "execution_count": 12,
      "metadata": {
        "colab": {
          "base_uri": "https://localhost:8080/",
          "height": 449
        },
        "id": "pN02rYfst9Wh",
        "outputId": "a7983a0f-d451-4ea2-eb42-5307c553b8f8"
      },
      "outputs": [
        {
          "output_type": "display_data",
          "data": {
            "text/plain": [
              "<Figure size 640x480 with 1 Axes>"
            ],
            "image/png": "[encoded data removed]"
          },
          "metadata": {}
        }
      ],
      "source": [
        "# Box plot for total_revolving_bal \n",
        "\n",
        "sns.boxplot(x = 'attrition_flag',\n",
        "            y = 'total_revolving_bal',\n",
        "            data = df,\n",
        "            sym=\"\"\n",
        "           )\n",
        "plt.xlabel(\"Attrition Flag\")\n",
        "plt.ylabel(\"Total revolving balance\")\n",
        "plt.show()"
      ]
    },
    {
      "cell_type": "code",
      "execution_count": 13,
      "metadata": {
        "colab": {
          "base_uri": "https://localhost:8080/",
          "height": 449
        },
        "id": "Tu6NhhGAsGtn",
        "outputId": "d968fe36-122e-4a33-e3e8-9de05b5aa76f"
      },
      "outputs": [
        {
          "output_type": "display_data",
          "data": {
            "text/plain": [
              "<Figure size 640x480 with 1 Axes>"
            ],
            "image/png": "[encoded data removed]"
          },
          "metadata": {}
        }
      ],
      "source": [
        "# Box plot for avg_utilization_ratio \n",
        "\n",
        "sns.boxplot(x = 'attrition_flag',\n",
        "            y = 'avg_utilization_ratio',\n",
        "            data = df,\n",
        "            sym=\"\"\n",
        "           )\n",
        "plt.xlabel(\"Attrition Flag\")\n",
        "plt.ylabel(\"Average Utilization Ratio\")\n",
        "plt.show()"
      ]
    },
    {
      "cell_type": "markdown",
      "metadata": {
        "id": "p0I9hC9YgeLR"
      },
      "source": [
        "## 2. Data Preprocessing"
      ]
    },
    {
      "cell_type": "markdown",
      "source": [
        "Now, we will split our data into train set and test set to prepare our data for two different phases of machine learning modeling: training and testing. Ideally, no information from the test data should be used to preprocess the training data or should be used to direct the training process of a machine learning model. Hence, we first split the data and then preprocess it."
      ],
      "metadata": {
        "id": "omsc3Vb-V9Yd"
      }
    },
    {
      "cell_type": "code",
      "source": [
        "# Import train_test_split\n",
        "from sklearn.model_selection import train_test_split\n",
        "\n",
        "# Split into train and test sets\n",
        "df_train, df_test = train_test_split(df, test_size=0.3, random_state=42)"
      ],
      "metadata": {
        "id": "dHBueAuVV-xc"
      },
      "execution_count": 14,
      "outputs": []
    },
    {
      "cell_type": "markdown",
      "metadata": {
        "id": "4lVq_j2F8CZi"
      },
      "source": [
        " ### 2.1 Missing and duplicate values "
      ]
    },
    {
      "cell_type": "code",
      "execution_count": 15,
      "metadata": {
        "colab": {
          "base_uri": "https://localhost:8080/"
        },
        "id": "9yZp-ROmEXMb",
        "outputId": "ec27d049-62bc-417b-fd93-ada049ba04d6"
      },
      "outputs": [
        {
          "output_type": "execute_result",
          "data": {
            "text/plain": [
              "client_num                  0\n",
              "attrition_flag              0\n",
              "customer_age                0\n",
              "gender                      0\n",
              "dependent_count             0\n",
              "education_level             0\n",
              "marital_status              0\n",
              "income_category             0\n",
              "card_category               0\n",
              "months_on_book              0\n",
              "total_relationship_count    0\n",
              "months_inactive_12_mon      0\n",
              "contacts_count_12_mon       0\n",
              "credit_limit                0\n",
              "total_revolving_bal         0\n",
              "avg_open_to_buy             0\n",
              "total_amt_chng_q4_q1        0\n",
              "total_trans_amt             0\n",
              "total_trans_ct              0\n",
              "total_ct_chng_q4_q1         0\n",
              "avg_utilization_ratio       0\n",
              "dtype: int64"
            ]
          },
          "metadata": {},
          "execution_count": 15
        }
      ],
      "source": [
        "df_train.isna().sum()"
      ]
    },
    {
      "cell_type": "markdown",
      "metadata": {
        "id": "cPbSnaGkEYuS"
      },
      "source": [
        "At first sight, the data is without NAs\n",
        "\n",
        "Yet, we have seen that some categorical variable entries contain the value \"Unknown\", which we convert to NAs for easier manipulation."
      ]
    },
    {
      "cell_type": "code",
      "execution_count": 16,
      "metadata": {
        "colab": {
          "base_uri": "https://localhost:8080/"
        },
        "id": "vugpGeRr8cYU",
        "outputId": "f5728483-1d16-4e5c-8920-2431cc0c54eb"
      },
      "outputs": [
        {
          "output_type": "execute_result",
          "data": {
            "text/plain": [
              "client_num                   0.000000\n",
              "attrition_flag               0.000000\n",
              "customer_age                 0.000000\n",
              "gender                       0.000000\n",
              "dependent_count              0.000000\n",
              "education_level             10.427570\n",
              "marital_status               4.907673\n",
              "income_category              7.544189\n",
              "card_category                0.000000\n",
              "months_on_book               0.000000\n",
              "total_relationship_count     0.000000\n",
              "months_inactive_12_mon       0.000000\n",
              "contacts_count_12_mon        0.000000\n",
              "credit_limit                 0.000000\n",
              "total_revolving_bal          0.000000\n",
              "avg_open_to_buy              0.000000\n",
              "total_amt_chng_q4_q1         0.000000\n",
              "total_trans_amt              0.000000\n",
              "total_trans_ct               0.000000\n",
              "total_ct_chng_q4_q1          0.000000\n",
              "avg_utilization_ratio        0.000000\n",
              "dtype: float64"
            ]
          },
          "metadata": {},
          "execution_count": 16
        }
      ],
      "source": [
        "# Replace \"Uknown\" values with NaNs\n",
        "\n",
        "df_train = df_train.replace('Unknown', np.NaN)\n",
        "df_test = df_test.replace('Unknown', np.NaN)\n",
        "\n",
        "# Show the percentage of missing values per column\n",
        "df_train .isna().sum() / len(df) *100"
      ]
    },
    {
      "cell_type": "markdown",
      "metadata": {
        "id": "VragjsuS0E-w"
      },
      "source": [
        "The column with the highest proportion of missing values is `education_level`. "
      ]
    },
    {
      "cell_type": "code",
      "execution_count": 17,
      "metadata": {
        "colab": {
          "base_uri": "https://localhost:8080/"
        },
        "id": "z7jA54UY0pl3",
        "outputId": "31ffb7ce-20f5-4987-ef0b-0185b101464f"
      },
      "outputs": [
        {
          "output_type": "stream",
          "name": "stdout",
          "text": [
            "client_num: 0.0\n",
            "attrition_flag: 69.97136368124815\n",
            "customer_age: 69.56650538165302\n",
            "gender: 69.97136368124815\n",
            "dependent_count: 69.93186531055593\n",
            "education_level: 69.92199071788289\n",
            "marital_status: 69.95161449590205\n",
            "income_category: 69.93186531055593\n",
            "card_category: 69.95161449590205\n",
            "months_on_book: 69.55663078897996\n",
            "total_relationship_count: 69.93186531055593\n",
            "months_inactive_12_mon: 69.92199071788289\n",
            "contacts_count_12_mon: 69.92199071788289\n",
            "credit_limit: 22.47457292386689\n",
            "total_revolving_bal: 52.078601757677504\n",
            "avg_open_to_buy: 18.722227708107038\n",
            "total_amt_chng_q4_q1: 59.61291596721635\n",
            "total_trans_amt: 29.041177051446628\n",
            "total_trans_ct: 68.74691418978968\n",
            "total_ct_chng_q4_q1: 62.30867976695962\n",
            "avg_utilization_ratio: 60.817616273328724\n"
          ]
        }
      ],
      "source": [
        "# Duplicate value percentages per column\n",
        "\n",
        "for column in df_train.columns:\n",
        "    duplicate_count = df_train.duplicated(subset=column).sum() / len(df) *100\n",
        "    print(f\"{column}: {duplicate_count}\")"
      ]
    },
    {
      "cell_type": "markdown",
      "metadata": {
        "id": "tArr8jzQ0F1H"
      },
      "source": [
        "The `client_num` values are unique, but there is a substantial amount of duplicate values in all of the features. "
      ]
    },
    {
      "cell_type": "code",
      "execution_count": 18,
      "metadata": {
        "colab": {
          "base_uri": "https://localhost:8080/"
        },
        "id": "BcveUZW323_1",
        "outputId": "84b86974-aa0f-419f-ef7f-d51d3516eaea"
      },
      "outputs": [
        {
          "output_type": "execute_result",
          "data": {
            "text/plain": [
              "0"
            ]
          },
          "metadata": {},
          "execution_count": 18
        }
      ],
      "source": [
        "df_train.duplicated().sum()"
      ]
    },
    {
      "cell_type": "markdown",
      "metadata": {
        "id": "wZiZWSLa3BGN"
      },
      "source": [
        "However, there are no duplicated observations (rows)."
      ]
    },
    {
      "cell_type": "markdown",
      "metadata": {
        "id": "RXbQSfsp8Ecy"
      },
      "source": [
        " ### 2.2 Correction"
      ]
    },
    {
      "cell_type": "markdown",
      "source": [
        "We are going to impute the missing values with the most frequent values as present in the respective columns. This is good practice when it comes to imputing missing values for categorical data in general.\n"
      ],
      "metadata": {
        "id": "dtoKBIK_W5wY"
      }
    },
    {
      "cell_type": "code",
      "source": [
        "# Iterate over each column of df_train\n",
        "for col in df_train.columns:\n",
        "    # Check if the column is of object type\n",
        "    if df_train[col].dtypes == 'object':\n",
        "        # Impute with the most frequent value\n",
        "        df_train = df_train.fillna(df_train[col].value_counts().index[0])\n",
        "        df_test = df_test.fillna(df_train[col].value_counts().index[0])\n",
        "\n",
        "# Count the number of NaNs in the dataset and print the counts to verify\n",
        "print(df_train.isnull().sum())\n",
        "print(df_test.isnull().sum())\n"
      ],
      "metadata": {
        "colab": {
          "base_uri": "https://localhost:8080/"
        },
        "id": "nOyGqVVdXH4W",
        "outputId": "541b1a8b-5a3b-43b4-8571-0808d333234d"
      },
      "execution_count": 19,
      "outputs": [
        {
          "output_type": "stream",
          "name": "stdout",
          "text": [
            "client_num                  0\n",
            "attrition_flag              0\n",
            "customer_age                0\n",
            "gender                      0\n",
            "dependent_count             0\n",
            "education_level             0\n",
            "marital_status              0\n",
            "income_category             0\n",
            "card_category               0\n",
            "months_on_book              0\n",
            "total_relationship_count    0\n",
            "months_inactive_12_mon      0\n",
            "contacts_count_12_mon       0\n",
            "credit_limit                0\n",
            "total_revolving_bal         0\n",
            "avg_open_to_buy             0\n",
            "total_amt_chng_q4_q1        0\n",
            "total_trans_amt             0\n",
            "total_trans_ct              0\n",
            "total_ct_chng_q4_q1         0\n",
            "avg_utilization_ratio       0\n",
            "dtype: int64\n",
            "client_num                  0\n",
            "attrition_flag              0\n",
            "customer_age                0\n",
            "gender                      0\n",
            "dependent_count             0\n",
            "education_level             0\n",
            "marital_status              0\n",
            "income_category             0\n",
            "card_category               0\n",
            "months_on_book              0\n",
            "total_relationship_count    0\n",
            "months_inactive_12_mon      0\n",
            "contacts_count_12_mon       0\n",
            "credit_limit                0\n",
            "total_revolving_bal         0\n",
            "avg_open_to_buy             0\n",
            "total_amt_chng_q4_q1        0\n",
            "total_trans_amt             0\n",
            "total_trans_ct              0\n",
            "total_ct_chng_q4_q1         0\n",
            "avg_utilization_ratio       0\n",
            "dtype: int64\n"
          ]
        }
      ]
    },
    {
      "cell_type": "markdown",
      "metadata": {
        "id": "p4dripNB5r0p"
      },
      "source": [
        "We do not modify the data for the purpose of handling duplicates as there are none in terms of observations.\n",
        "\n"
      ]
    },
    {
      "cell_type": "markdown",
      "metadata": {
        "id": "tATR2CmH8Rjh"
      },
      "source": [
        " ### 2.3 Encoding"
      ]
    },
    {
      "cell_type": "markdown",
      "metadata": {
        "id": "fh0QYslg6OcY"
      },
      "source": [
        "We need to convert categorical variables into numerical variables for the scikit-learn machine learning models to work.\n",
        "\n",
        "We will do this by using the get_dummies() method from pandas."
      ]
    },
    {
      "cell_type": "code",
      "execution_count": 20,
      "metadata": {
        "colab": {
          "base_uri": "https://localhost:8080/",
          "height": 424
        },
        "id": "mOGlXwkV6zYo",
        "outputId": "cca26fec-831a-40b2-baab-c6384a57a742"
      },
      "outputs": [
        {
          "output_type": "execute_result",
          "data": {
            "text/plain": [
              "          attrition_flag gender education_level marital_status  \\\n",
              "0      Existing Customer      M     High School        Married   \n",
              "1      Existing Customer      F        Graduate         Single   \n",
              "2      Existing Customer      M        Graduate        Married   \n",
              "3      Existing Customer      F     High School        Unknown   \n",
              "4      Existing Customer      M      Uneducated        Married   \n",
              "...                  ...    ...             ...            ...   \n",
              "10122  Existing Customer      M        Graduate         Single   \n",
              "10123  Attrited Customer      M         Unknown       Divorced   \n",
              "10124  Attrited Customer      F     High School        Married   \n",
              "10125  Attrited Customer      M        Graduate        Unknown   \n",
              "10126  Attrited Customer      F        Graduate        Married   \n",
              "\n",
              "      income_category card_category  \n",
              "0         $60K - $80K          Blue  \n",
              "1      Less than $40K          Blue  \n",
              "2        $80K - $120K          Blue  \n",
              "3      Less than $40K          Blue  \n",
              "4         $60K - $80K          Blue  \n",
              "...               ...           ...  \n",
              "10122     $40K - $60K          Blue  \n",
              "10123     $40K - $60K          Blue  \n",
              "10124  Less than $40K          Blue  \n",
              "10125     $40K - $60K          Blue  \n",
              "10126  Less than $40K        Silver  \n",
              "\n",
              "[10127 rows x 6 columns]"
            ],
            "text/html": [
              "\n",
              "  <div id=\"df-ee760656-5fbd-4559-be3d-c126d99c8001\">\n",
              "    <div class=\"colab-df-container\">\n",
              "      <div>\n",
              "<style scoped>\n",
              "    .dataframe tbody tr th:only-of-type {\n",
              "        vertical-align: middle;\n",
              "    }\n",
              "\n",
              "    .dataframe tbody tr th {\n",
              "        vertical-align: top;\n",
              "    }\n",
              "\n",
              "    .dataframe thead th {\n",
              "        text-align: right;\n",
              "    }\n",
              "</style>\n",
              "<table border=\"1\" class=\"dataframe\">\n",
              "  <thead>\n",
              "    <tr style=\"text-align: right;\">\n",
              "      <th></th>\n",
              "      <th>attrition_flag</th>\n",
              "      <th>gender</th>\n",
              "      <th>education_level</th>\n",
              "      <th>marital_status</th>\n",
              "      <th>income_category</th>\n",
              "      <th>card_category</th>\n",
              "    </tr>\n",
              "  </thead>\n",
              "  <tbody>\n",
              "    <tr>\n",
              "      <th>0</th>\n",
              "      <td>Existing Customer</td>\n",
              "      <td>M</td>\n",
              "      <td>High School</td>\n",
              "      <td>Married</td>\n",
              "      <td>$60K - $80K</td>\n",
              "      <td>Blue</td>\n",
              "    </tr>\n",
              "    <tr>\n",
              "      <th>1</th>\n",
              "      <td>Existing Customer</td>\n",
              "      <td>F</td>\n",
              "      <td>Graduate</td>\n",
              "      <td>Single</td>\n",
              "      <td>Less than $40K</td>\n",
              "      <td>Blue</td>\n",
              "    </tr>\n",
              "    <tr>\n",
              "      <th>2</th>\n",
              "      <td>Existing Customer</td>\n",
              "      <td>M</td>\n",
              "      <td>Graduate</td>\n",
              "      <td>Married</td>\n",
              "      <td>$80K - $120K</td>\n",
              "      <td>Blue</td>\n",
              "    </tr>\n",
              "    <tr>\n",
              "      <th>3</th>\n",
              "      <td>Existing Customer</td>\n",
              "      <td>F</td>\n",
              "      <td>High School</td>\n",
              "      <td>Unknown</td>\n",
              "      <td>Less than $40K</td>\n",
              "      <td>Blue</td>\n",
              "    </tr>\n",
              "    <tr>\n",
              "      <th>4</th>\n",
              "      <td>Existing Customer</td>\n",
              "      <td>M</td>\n",
              "      <td>Uneducated</td>\n",
              "      <td>Married</td>\n",
              "      <td>$60K - $80K</td>\n",
              "      <td>Blue</td>\n",
              "    </tr>\n",
              "    <tr>\n",
              "      <th>...</th>\n",
              "      <td>...</td>\n",
              "      <td>...</td>\n",
              "      <td>...</td>\n",
              "      <td>...</td>\n",
              "      <td>...</td>\n",
              "      <td>...</td>\n",
              "    </tr>\n",
              "    <tr>\n",
              "      <th>10122</th>\n",
              "      <td>Existing Customer</td>\n",
              "      <td>M</td>\n",
              "      <td>Graduate</td>\n",
              "      <td>Single</td>\n",
              "      <td>$40K - $60K</td>\n",
              "      <td>Blue</td>\n",
              "    </tr>\n",
              "    <tr>\n",
              "      <th>10123</th>\n",
              "      <td>Attrited Customer</td>\n",
              "      <td>M</td>\n",
              "      <td>Unknown</td>\n",
              "      <td>Divorced</td>\n",
              "      <td>$40K - $60K</td>\n",
              "      <td>Blue</td>\n",
              "    </tr>\n",
              "    <tr>\n",
              "      <th>10124</th>\n",
              "      <td>Attrited Customer</td>\n",
              "      <td>F</td>\n",
              "      <td>High School</td>\n",
              "      <td>Married</td>\n",
              "      <td>Less than $40K</td>\n",
              "      <td>Blue</td>\n",
              "    </tr>\n",
              "    <tr>\n",
              "      <th>10125</th>\n",
              "      <td>Attrited Customer</td>\n",
              "      <td>M</td>\n",
              "      <td>Graduate</td>\n",
              "      <td>Unknown</td>\n",
              "      <td>$40K - $60K</td>\n",
              "      <td>Blue</td>\n",
              "    </tr>\n",
              "    <tr>\n",
              "      <th>10126</th>\n",
              "      <td>Attrited Customer</td>\n",
              "      <td>F</td>\n",
              "      <td>Graduate</td>\n",
              "      <td>Married</td>\n",
              "      <td>Less than $40K</td>\n",
              "      <td>Silver</td>\n",
              "    </tr>\n",
              "  </tbody>\n",
              "</table>\n",
              "<p>10127 rows × 6 columns</p>\n",
              "</div>\n",
              "      <button class=\"colab-df-convert\" onclick=\"convertToInteractive('df-ee760656-5fbd-4559-be3d-c126d99c8001')\"\n",
              "              title=\"Convert this dataframe to an interactive table.\"\n",
              "              style=\"display:none;\">\n",
              "        \n",
              "  <svg xmlns=\"http://www.w3.org/2000/svg\" height=\"24px\"viewBox=\"0 0 24 24\"\n",
              "       width=\"24px\">\n",
              "    <path d=\"M0 0h24v24H0V0z\" fill=\"none\"/>\n",
              "    <path d=\"M18.56 5.44l.94 2.06.94-2.06 2.06-.94-2.06-.94-.94-2.06-.94 2.06-2.06.94zm-11 1L8.5 8.5l.94-2.06 2.06-.94-2.06-.94L8.5 2.5l-.94 2.06-2.06.94zm10 10l.94 2.06.94-2.06 2.06-.94-2.06-.94-.94-2.06-.94 2.06-2.06.94z\"/><path d=\"M17.41 7.96l-1.37-1.37c-.4-.4-.92-.59-1.43-.59-.52 0-1.04.2-1.43.59L10.3 9.45l-7.72 7.72c-.78.78-.78 2.05 0 2.83L4 21.41c.39.39.9.59 1.41.59.51 0 1.02-.2 1.41-.59l7.78-7.78 2.81-2.81c.8-.78.8-2.07 0-2.86zM5.41 20L4 18.59l7.72-7.72 1.47 1.35L5.41 20z\"/>\n",
              "  </svg>\n",
              "      </button>\n",
              "      \n",
              "  <style>\n",
              "    .colab-df-container {\n",
              "      display:flex;\n",
              "      flex-wrap:wrap;\n",
              "      gap: 12px;\n",
              "    }\n",
              "\n",
              "    .colab-df-convert {\n",
              "      background-color: #E8F0FE;\n",
              "      border: none;\n",
              "      border-radius: 50%;\n",
              "      cursor: pointer;\n",
              "      display: none;\n",
              "      fill: #1967D2;\n",
              "      height: 32px;\n",
              "      padding: 0 0 0 0;\n",
              "      width: 32px;\n",
              "    }\n",
              "\n",
              "    .colab-df-convert:hover {\n",
              "      background-color: #E2EBFA;\n",
              "      box-shadow: 0px 1px 2px rgba(60, 64, 67, 0.3), 0px 1px 3px 1px rgba(60, 64, 67, 0.15);\n",
              "      fill: #174EA6;\n",
              "    }\n",
              "\n",
              "    [theme=dark] .colab-df-convert {\n",
              "      background-color: #3B4455;\n",
              "      fill: #D2E3FC;\n",
              "    }\n",
              "\n",
              "    [theme=dark] .colab-df-convert:hover {\n",
              "      background-color: #434B5C;\n",
              "      box-shadow: 0px 1px 3px 1px rgba(0, 0, 0, 0.15);\n",
              "      filter: drop-shadow(0px 1px 2px rgba(0, 0, 0, 0.3));\n",
              "      fill: #FFFFFF;\n",
              "    }\n",
              "  </style>\n",
              "\n",
              "      <script>\n",
              "        const buttonEl =\n",
              "          document.querySelector('#df-ee760656-5fbd-4559-be3d-c126d99c8001 button.colab-df-convert');\n",
              "        buttonEl.style.display =\n",
              "          google.colab.kernel.accessAllowed ? 'block' : 'none';\n",
              "\n",
              "        async function convertToInteractive(key) {\n",
              "          const element = document.querySelector('#df-ee760656-5fbd-4559-be3d-c126d99c8001');\n",
              "          const dataTable =\n",
              "            await google.colab.kernel.invokeFunction('convertToInteractive',\n",
              "                                                     [key], {});\n",
              "          if (!dataTable) return;\n",
              "\n",
              "          const docLinkHtml = 'Like what you see? Visit the ' +\n",
              "            '<a target=\"_blank\" href=https://colab.research.google.com/notebooks/data_table.ipynb>data table notebook</a>'\n",
              "            + ' to learn more about interactive tables.';\n",
              "          element.innerHTML = '';\n",
              "          dataTable['output_type'] = 'display_data';\n",
              "          await google.colab.output.renderOutput(dataTable, element);\n",
              "          const docLink = document.createElement('div');\n",
              "          docLink.innerHTML = docLinkHtml;\n",
              "          element.appendChild(docLink);\n",
              "        }\n",
              "      </script>\n",
              "    </div>\n",
              "  </div>\n",
              "  "
            ]
          },
          "metadata": {},
          "execution_count": 20
        }
      ],
      "source": [
        "df.select_dtypes(include=['object'])"
      ]
    },
    {
      "cell_type": "code",
      "execution_count": 21,
      "metadata": {
        "id": "vx383TzkPJg4"
      },
      "outputs": [],
      "source": [
        "# Convert the categorical features in the train and test sets independently\n",
        "df_train = pd.get_dummies(df_train)\n",
        "df_test = pd.get_dummies(df_test)\n",
        "\n",
        "# Reindex the columns of the test set aligning with the train set\n",
        "df_test = df_test.reindex(columns=df_train.columns, fill_value=0)"
      ]
    },
    {
      "cell_type": "markdown",
      "source": [
        " ### 2.4 Scaling"
      ],
      "metadata": {
        "id": "2gfPF4OogLlU"
      }
    },
    {
      "cell_type": "markdown",
      "source": [
        "Now, we are only left with one final preprocessing step of scaling before we can fit a machine learning model to the data. Our dataset has varying ranges, one a small change in a particular feature may not have a significant effect on the other feature, which can cause a problems when predictive modeling."
      ],
      "metadata": {
        "id": "WV2JRWjkZx1R"
      }
    },
    {
      "cell_type": "code",
      "source": [
        "# Import MinMaxScaler\n",
        "from sklearn.preprocessing import MinMaxScaler\n",
        "\n",
        "# Segregate features and labels into separate variables\n",
        "X_train, y_train = df_train.iloc[:, :-1].values, df_train.iloc[:, -1].values\n",
        "X_test, y_test = df_test.iloc[:, :-1].values, df_test.iloc[:, -1].values\n",
        "\n",
        "# Instantiate MinMaxScaler and use it to rescale X_train and X_test\n",
        "scaler = MinMaxScaler()\n",
        "rescaledX_train = scaler.fit_transform(X_train)\n",
        "rescaledX_test = scaler.transform(X_test)"
      ],
      "metadata": {
        "id": "BvQ959UkaEPt"
      },
      "execution_count": 22,
      "outputs": []
    },
    {
      "cell_type": "markdown",
      "metadata": {
        "id": "YyOtF83FgeLS"
      },
      "source": [
        "## 3. Machine Learning "
      ]
    },
    {
      "cell_type": "markdown",
      "source": [
        "Essentially, predicting if a customer will be churn or not is a classification task. Our dataset contains more instances that correspond to \"Existing\" status than instances corresponding to \"Attrited\" status. Specifically, out of 10 127 instances, there are 8500 (83.9%) existing and 1627 (44.5%) attrited customers."
      ],
      "metadata": {
        "id": "wm-XcSGAgQ7m"
      }
    },
    {
      "cell_type": "markdown",
      "metadata": {
        "id": "ASonJWkV8kPL"
      },
      "source": [
        "### 3.1 Reasoning"
      ]
    },
    {
      "cell_type": "markdown",
      "source": [
        "We will evaluate our model on the test set with respect to classification accuracy. But we will also take a look the model's confusion matrix. In the case of predicting customer churn, the most important metric is arguably recall. This metric indicates the proportion of positive results yielded by the model by the total number of positive labels in the dataset. In this case, the recall reveals the proportion of churns identified correctly by the total number of churns. The confusion matrix helps us to view our model's performance from these aspects."
      ],
      "metadata": {
        "id": "EXO-nAbfdS6d"
      }
    },
    {
      "cell_type": "markdown",
      "metadata": {
        "id": "4dATW327PJg5"
      },
      "source": [
        "Splitting the data into training and test sets allows for training the model on the training set and evaluating it on the test set. This approach has a drawback in that it only uses part of the data for training. Moreover, the random split might have put most of the difficult examples in the training set and most of the easy examples in the test set. Instead, we will use a k-fold cross-validation, we split the data into `k` folds. Then, we train the model `k` times. Each time, we use a different fold for testing and the remaining folds for training. Finally, we average the results of the k models to get the final result."
      ]
    },
    {
      "cell_type": "markdown",
      "metadata": {
        "id": "ZC1VtuuA8q7S"
      },
      "source": [
        "### 3.2 Training"
      ]
    },
    {
      "cell_type": "markdown",
      "metadata": {
        "id": "iDVtZJopPJg5"
      },
      "source": [
        "\n",
        "\n",
        "We start our machine learning modeling with a Logistic Regression model (a generalized linear model). In simple terms, logistic regression takes information about an item and calculates the probability of it belonging to a specific group."
      ]
    },
    {
      "cell_type": "code",
      "execution_count": 23,
      "metadata": {
        "colab": {
          "base_uri": "https://localhost:8080/",
          "height": 75
        },
        "id": "DkdpbjlHPJg6",
        "outputId": "c6f53a01-0ccb-4ede-e719-62f004bde64c"
      },
      "outputs": [
        {
          "output_type": "execute_result",
          "data": {
            "text/plain": [
              "LogisticRegression()"
            ],
            "text/html": [
              "<style>#sk-container-id-1 {color: black;background-color: white;}#sk-container-id-1 pre{padding: 0;}#sk-container-id-1 div.sk-toggleable {background-color: white;}#sk-container-id-1 label.sk-toggleable__label {cursor: pointer;display: block;width: 100%;margin-bottom: 0;padding: 0.3em;box-sizing: border-box;text-align: center;}#sk-container-id-1 label.sk-toggleable__label-arrow:before {content: \"▸\";float: left;margin-right: 0.25em;color: #696969;}#sk-container-id-1 label.sk-toggleable__label-arrow:hover:before {color: black;}#sk-container-id-1 div.sk-estimator:hover label.sk-toggleable__label-arrow:before {color: black;}#sk-container-id-1 div.sk-toggleable__content {max-height: 0;max-width: 0;overflow: hidden;text-align: left;background-color: #f0f8ff;}#sk-container-id-1 div.sk-toggleable__content pre {margin: 0.2em;color: black;border-radius: 0.25em;background-color: #f0f8ff;}#sk-container-id-1 input.sk-toggleable__control:checked~div.sk-toggleable__content {max-height: 200px;max-width: 100%;overflow: auto;}#sk-container-id-1 input.sk-toggleable__control:checked~label.sk-toggleable__label-arrow:before {content: \"▾\";}#sk-container-id-1 div.sk-estimator input.sk-toggleable__control:checked~label.sk-toggleable__label {background-color: #d4ebff;}#sk-container-id-1 div.sk-label input.sk-toggleable__control:checked~label.sk-toggleable__label {background-color: #d4ebff;}#sk-container-id-1 input.sk-hidden--visually {border: 0;clip: rect(1px 1px 1px 1px);clip: rect(1px, 1px, 1px, 1px);height: 1px;margin: -1px;overflow: hidden;padding: 0;position: absolute;width: 1px;}#sk-container-id-1 div.sk-estimator {font-family: monospace;background-color: #f0f8ff;border: 1px dotted black;border-radius: 0.25em;box-sizing: border-box;margin-bottom: 0.5em;}#sk-container-id-1 div.sk-estimator:hover {background-color: #d4ebff;}#sk-container-id-1 div.sk-parallel-item::after {content: \"\";width: 100%;border-bottom: 1px solid gray;flex-grow: 1;}#sk-container-id-1 div.sk-label:hover label.sk-toggleable__label {background-color: #d4ebff;}#sk-container-id-1 div.sk-serial::before {content: \"\";position: absolute;border-left: 1px solid gray;box-sizing: border-box;top: 0;bottom: 0;left: 50%;z-index: 0;}#sk-container-id-1 div.sk-serial {display: flex;flex-direction: column;align-items: center;background-color: white;padding-right: 0.2em;padding-left: 0.2em;position: relative;}#sk-container-id-1 div.sk-item {position: relative;z-index: 1;}#sk-container-id-1 div.sk-parallel {display: flex;align-items: stretch;justify-content: center;background-color: white;position: relative;}#sk-container-id-1 div.sk-item::before, #sk-container-id-1 div.sk-parallel-item::before {content: \"\";position: absolute;border-left: 1px solid gray;box-sizing: border-box;top: 0;bottom: 0;left: 50%;z-index: -1;}#sk-container-id-1 div.sk-parallel-item {display: flex;flex-direction: column;z-index: 1;position: relative;background-color: white;}#sk-container-id-1 div.sk-parallel-item:first-child::after {align-self: flex-end;width: 50%;}#sk-container-id-1 div.sk-parallel-item:last-child::after {align-self: flex-start;width: 50%;}#sk-container-id-1 div.sk-parallel-item:only-child::after {width: 0;}#sk-container-id-1 div.sk-dashed-wrapped {border: 1px dashed gray;margin: 0 0.4em 0.5em 0.4em;box-sizing: border-box;padding-bottom: 0.4em;background-color: white;}#sk-container-id-1 div.sk-label label {font-family: monospace;font-weight: bold;display: inline-block;line-height: 1.2em;}#sk-container-id-1 div.sk-label-container {text-align: center;}#sk-container-id-1 div.sk-container {/* jupyter's `normalize.less` sets `[hidden] { display: none; }` but bootstrap.min.css set `[hidden] { display: none !important; }` so we also need the `!important` here to be able to override the default hidden behavior on the sphinx rendered scikit-learn.org. See: https://github.com/scikit-learn/scikit-learn/issues/21755 */display: inline-block !important;position: relative;}#sk-container-id-1 div.sk-text-repr-fallback {display: none;}</style><div id=\"sk-container-id-1\" class=\"sk-top-container\"><div class=\"sk-text-repr-fallback\"><pre>LogisticRegression()</pre><b>In a Jupyter environment, please rerun this cell to show the HTML representation or trust the notebook. <br />On GitHub, the HTML representation is unable to render, please try loading this page with nbviewer.org.</b></div><div class=\"sk-container\" hidden><div class=\"sk-item\"><div class=\"sk-estimator sk-toggleable\"><input class=\"sk-toggleable__control sk-hidden--visually\" id=\"sk-estimator-id-1\" type=\"checkbox\" checked><label for=\"sk-estimator-id-1\" class=\"sk-toggleable__label sk-toggleable__label-arrow\">LogisticRegression</label><div class=\"sk-toggleable__content\"><pre>LogisticRegression()</pre></div></div></div></div></div>"
            ]
          },
          "metadata": {},
          "execution_count": 23
        }
      ],
      "source": [
        "# Import LogisticRegression\n",
        "from sklearn.linear_model import LogisticRegression\n",
        "\n",
        "# Instantiate a LogisticRegression classifier with default parameter values\n",
        "logreg = LogisticRegression()\n",
        "\n",
        "# Fit logreg to the train set\n",
        "logreg.fit(rescaledX_train,y_train)"
      ]
    },
    {
      "cell_type": "markdown",
      "metadata": {
        "id": "90z0Gb3xPJg7"
      },
      "source": [
        "We also train a Decision Tree Classifier, which can be thought of as a flowchart or a tree-like structure that helps in making decisions by following a series of simple rules or questions."
      ]
    },
    {
      "cell_type": "code",
      "execution_count": 24,
      "metadata": {
        "colab": {
          "base_uri": "https://localhost:8080/",
          "height": 75
        },
        "id": "OOg0zC6SPJg7",
        "outputId": "c2b74a94-9372-493d-a9f0-6fa4aed3bbaa"
      },
      "outputs": [
        {
          "output_type": "execute_result",
          "data": {
            "text/plain": [
              "DecisionTreeClassifier()"
            ],
            "text/html": [
              "<style>#sk-container-id-2 {color: black;background-color: white;}#sk-container-id-2 pre{padding: 0;}#sk-container-id-2 div.sk-toggleable {background-color: white;}#sk-container-id-2 label.sk-toggleable__label {cursor: pointer;display: block;width: 100%;margin-bottom: 0;padding: 0.3em;box-sizing: border-box;text-align: center;}#sk-container-id-2 label.sk-toggleable__label-arrow:before {content: \"▸\";float: left;margin-right: 0.25em;color: #696969;}#sk-container-id-2 label.sk-toggleable__label-arrow:hover:before {color: black;}#sk-container-id-2 div.sk-estimator:hover label.sk-toggleable__label-arrow:before {color: black;}#sk-container-id-2 div.sk-toggleable__content {max-height: 0;max-width: 0;overflow: hidden;text-align: left;background-color: #f0f8ff;}#sk-container-id-2 div.sk-toggleable__content pre {margin: 0.2em;color: black;border-radius: 0.25em;background-color: #f0f8ff;}#sk-container-id-2 input.sk-toggleable__control:checked~div.sk-toggleable__content {max-height: 200px;max-width: 100%;overflow: auto;}#sk-container-id-2 input.sk-toggleable__control:checked~label.sk-toggleable__label-arrow:before {content: \"▾\";}#sk-container-id-2 div.sk-estimator input.sk-toggleable__control:checked~label.sk-toggleable__label {background-color: #d4ebff;}#sk-container-id-2 div.sk-label input.sk-toggleable__control:checked~label.sk-toggleable__label {background-color: #d4ebff;}#sk-container-id-2 input.sk-hidden--visually {border: 0;clip: rect(1px 1px 1px 1px);clip: rect(1px, 1px, 1px, 1px);height: 1px;margin: -1px;overflow: hidden;padding: 0;position: absolute;width: 1px;}#sk-container-id-2 div.sk-estimator {font-family: monospace;background-color: #f0f8ff;border: 1px dotted black;border-radius: 0.25em;box-sizing: border-box;margin-bottom: 0.5em;}#sk-container-id-2 div.sk-estimator:hover {background-color: #d4ebff;}#sk-container-id-2 div.sk-parallel-item::after {content: \"\";width: 100%;border-bottom: 1px solid gray;flex-grow: 1;}#sk-container-id-2 div.sk-label:hover label.sk-toggleable__label {background-color: #d4ebff;}#sk-container-id-2 div.sk-serial::before {content: \"\";position: absolute;border-left: 1px solid gray;box-sizing: border-box;top: 0;bottom: 0;left: 50%;z-index: 0;}#sk-container-id-2 div.sk-serial {display: flex;flex-direction: column;align-items: center;background-color: white;padding-right: 0.2em;padding-left: 0.2em;position: relative;}#sk-container-id-2 div.sk-item {position: relative;z-index: 1;}#sk-container-id-2 div.sk-parallel {display: flex;align-items: stretch;justify-content: center;background-color: white;position: relative;}#sk-container-id-2 div.sk-item::before, #sk-container-id-2 div.sk-parallel-item::before {content: \"\";position: absolute;border-left: 1px solid gray;box-sizing: border-box;top: 0;bottom: 0;left: 50%;z-index: -1;}#sk-container-id-2 div.sk-parallel-item {display: flex;flex-direction: column;z-index: 1;position: relative;background-color: white;}#sk-container-id-2 div.sk-parallel-item:first-child::after {align-self: flex-end;width: 50%;}#sk-container-id-2 div.sk-parallel-item:last-child::after {align-self: flex-start;width: 50%;}#sk-container-id-2 div.sk-parallel-item:only-child::after {width: 0;}#sk-container-id-2 div.sk-dashed-wrapped {border: 1px dashed gray;margin: 0 0.4em 0.5em 0.4em;box-sizing: border-box;padding-bottom: 0.4em;background-color: white;}#sk-container-id-2 div.sk-label label {font-family: monospace;font-weight: bold;display: inline-block;line-height: 1.2em;}#sk-container-id-2 div.sk-label-container {text-align: center;}#sk-container-id-2 div.sk-container {/* jupyter's `normalize.less` sets `[hidden] { display: none; }` but bootstrap.min.css set `[hidden] { display: none !important; }` so we also need the `!important` here to be able to override the default hidden behavior on the sphinx rendered scikit-learn.org. See: https://github.com/scikit-learn/scikit-learn/issues/21755 */display: inline-block !important;position: relative;}#sk-container-id-2 div.sk-text-repr-fallback {display: none;}</style><div id=\"sk-container-id-2\" class=\"sk-top-container\"><div class=\"sk-text-repr-fallback\"><pre>DecisionTreeClassifier()</pre><b>In a Jupyter environment, please rerun this cell to show the HTML representation or trust the notebook. <br />On GitHub, the HTML representation is unable to render, please try loading this page with nbviewer.org.</b></div><div class=\"sk-container\" hidden><div class=\"sk-item\"><div class=\"sk-estimator sk-toggleable\"><input class=\"sk-toggleable__control sk-hidden--visually\" id=\"sk-estimator-id-2\" type=\"checkbox\" checked><label for=\"sk-estimator-id-2\" class=\"sk-toggleable__label sk-toggleable__label-arrow\">DecisionTreeClassifier</label><div class=\"sk-toggleable__content\"><pre>DecisionTreeClassifier()</pre></div></div></div></div></div>"
            ]
          },
          "metadata": {},
          "execution_count": 24
        }
      ],
      "source": [
        "# Import RandomForestClassifier\n",
        "from sklearn.tree import DecisionTreeClassifier\n",
        "\n",
        "# Instantiate the classifier\n",
        "dt = DecisionTreeClassifier()\n",
        "\n",
        "# Fit rf to the train set\n",
        "dt.fit(rescaledX_train,y_train)"
      ]
    },
    {
      "cell_type": "markdown",
      "metadata": {
        "id": "Ox0Lcc5_83Jb"
      },
      "source": [
        "### 3.3 Hyperparameter-tuning "
      ]
    },
    {
      "cell_type": "markdown",
      "metadata": {
        "id": "OqXjmgvgPJg8"
      },
      "source": [
        "Each machine learning algorithm has its own specific hyperparameters. These are at are set before the model is trained, and these values inform how the model learns from the data.\n",
        "\n",
        "Grid search is a brute force search through the hyperparameter space to find the optimal value for the hyperparameter of interest.\n",
        "\n",
        "The default hyperparameters used by your models are not optimized for the data. The goal of grid search cross-validation is to identify those hyperparameters that lead to optimal model performance."
      ]
    },
    {
      "cell_type": "markdown",
      "source": [
        "[scikit-learn's implementation of logistic regression](https:scikit-learn.org/stable/modules/generated/sklearn.linear_model.LogisticRegression.html) consists of different hyperparameters but we will grid search over the following two:\n",
        "* tol\n",
        "* max_iter"
      ],
      "metadata": {
        "id": "H_A5-r27grHW"
      }
    },
    {
      "cell_type": "code",
      "execution_count": 25,
      "metadata": {
        "id": "PARhm2vFPJg8"
      },
      "outputs": [],
      "source": [
        "# Import GridSearchCV\n",
        "from sklearn.model_selection import GridSearchCV\n",
        "\n",
        "# Define the grid of values for tol and max_iter\n",
        "tol = [0.01, 0.001 ,0.0001]\n",
        "max_iter = [100, 150, 200]\n",
        "\n",
        "# Create a dictionary where tol and max_iter are keys and the lists of their values are corresponding values\n",
        "param_grid1 = dict(tol=tol, max_iter=max_iter)"
      ]
    },
    {
      "cell_type": "markdown",
      "source": [
        "We have defined the grid of hyperparameter values and converted them into a single dictionary format which GridSearchCV() expects as one of its parameters. Now, we will begin the grid search to see which values perform best.\n",
        "\n",
        "We will instantiate GridSearchCV() with our earlier logreg model with all the data we have. We will also instruct GridSearchCV() to perform a cross-validation of five folds."
      ],
      "metadata": {
        "id": "PUd1-334hKNp"
      }
    },
    {
      "cell_type": "code",
      "source": [
        "# Instantiate GridSearchCV with the required parameters\n",
        "grid_search_logreg = GridSearchCV(estimator=logreg, param_grid=param_grid1, cv=5)\n",
        "\n",
        "# Fit grid_model to the data\n",
        "grid_search_logreg_result = grid_search_logreg.fit(rescaledX_train,y_train)\n",
        "\n",
        "# Summarize results\n",
        "best_score, best_params = grid_search_logreg_result.best_score_, grid_search_logreg_result.best_params_\n",
        "print(\"Best: %f using %s\" % (best_score, best_params))\n",
        "\n"
      ],
      "metadata": {
        "colab": {
          "base_uri": "https://localhost:8080/"
        },
        "id": "YlPzEUWWhMTk",
        "outputId": "b06dee64-e010-493a-e721-fb553418c02e"
      },
      "execution_count": 26,
      "outputs": [
        {
          "output_type": "stream",
          "name": "stdout",
          "text": [
            "Best: 1.000000 using {'max_iter': 100, 'tol': 0.01}\n"
          ]
        }
      ]
    },
    {
      "cell_type": "markdown",
      "metadata": {
        "id": "Jz--UaB0PJg8"
      },
      "source": [
        "We optimise the maximum depth and the minimum number of samples required to split an internal node of the decision tree classifier."
      ]
    },
    {
      "cell_type": "code",
      "execution_count": 27,
      "metadata": {
        "colab": {
          "base_uri": "https://localhost:8080/"
        },
        "id": "xNDtx0gDPJg9",
        "outputId": "43827ece-a802-4d61-e1cc-ed1c14e801fd"
      },
      "outputs": [
        {
          "output_type": "stream",
          "name": "stdout",
          "text": [
            "Best Parameter: {'max_depth': 3, 'min_samples_leaf': 1}\n",
            "Best Score: 1.0\n"
          ]
        }
      ],
      "source": [
        "# Define the parameter grid\n",
        "param_grid2 = {\"max_depth\": [1, 3, 5, 7, 9], \"min_samples_leaf\": [1, 5, 10]}\n",
        "# Perform grid search with cross-validation\n",
        "grid_search_dt = GridSearchCV(dt, param_grid2, cv=5)\n",
        "# Fit the grid search to the data\n",
        "grid_search_dt.fit(rescaledX_train,y_train)\n",
        "# Print the best parameter and best score\n",
        "print(\"Best Parameter:\", grid_search_dt.best_params_)\n",
        "print(\"Best Score:\", grid_search_dt.best_score_)\n"
      ]
    },
    {
      "cell_type": "markdown",
      "metadata": {
        "id": "BfczXogx9EZZ"
      },
      "source": [
        "### 3.4 Model comparison"
      ]
    },
    {
      "cell_type": "markdown",
      "metadata": {
        "id": "DjffwSsMPJg9"
      },
      "source": [
        "Using the test split, we compare the best logistic regression and  decision tree classifiers with a classification report."
      ]
    },
    {
      "cell_type": "code",
      "execution_count": 28,
      "metadata": {
        "colab": {
          "base_uri": "https://localhost:8080/"
        },
        "id": "TaUSIiE-PJg-",
        "outputId": "83e0a904-f6c2-4675-c683-94289bb75d4a"
      },
      "outputs": [
        {
          "output_type": "stream",
          "name": "stdout",
          "text": [
            "              precision    recall  f1-score   support\n",
            "\n",
            "           0       1.00      1.00      1.00      2862\n",
            "           1       1.00      1.00      1.00       177\n",
            "\n",
            "    accuracy                           1.00      3039\n",
            "   macro avg       1.00      1.00      1.00      3039\n",
            "weighted avg       1.00      1.00      1.00      3039\n",
            "\n",
            "              precision    recall  f1-score   support\n",
            "\n",
            "           0       1.00      1.00      1.00      2862\n",
            "           1       1.00      1.00      1.00       177\n",
            "\n",
            "    accuracy                           1.00      3039\n",
            "   macro avg       1.00      1.00      1.00      3039\n",
            "weighted avg       1.00      1.00      1.00      3039\n",
            "\n"
          ]
        }
      ],
      "source": [
        "from sklearn.metrics import classification_report\n",
        "from sklearn.metrics import ConfusionMatrixDisplay\n",
        "\n",
        "# Decision tree\n",
        "print(classification_report(y_test, grid_search_logreg.best_estimator_.predict(rescaledX_test)))\n",
        "print(classification_report(y_test, grid_search_dt.best_estimator_.predict(rescaledX_test)))"
      ]
    },
    {
      "cell_type": "markdown",
      "metadata": {
        "id": "Up-5GuJnPJg-"
      },
      "source": [
        "Since all metrics are equal to 1 both models achieved to predict all labels correctly."
      ]
    },
    {
      "cell_type": "markdown",
      "metadata": {
        "id": "SxSJEbEx7BZ7"
      },
      "source": [
        "## 4. Model Evaluation and Analysis "
      ]
    },
    {
      "cell_type": "markdown",
      "source": [
        "This section provides additional comments explanations and discussionson on class-level errors and compares specific metrics."
      ],
      "metadata": {
        "id": "5HELen4JBGuh"
      }
    },
    {
      "cell_type": "markdown",
      "metadata": {
        "id": "zTFg4Wa89oIg"
      },
      "source": [
        "### 4.1  Confusion matrices"
      ]
    },
    {
      "cell_type": "markdown",
      "source": [
        "The confusion matrix provides a visual representation of the model's performance, making it easier to see where the model is making correct predictions and where it is making mistakes. The diagonal elements in the confusion matrix represent the number of correct predictions, while the off-diagonal elements represent the number of incorrect predictions."
      ],
      "metadata": {
        "id": "YLUE-DG0Bueo"
      }
    },
    {
      "cell_type": "code",
      "source": [
        "# Logistic Regression\n",
        "display(ConfusionMatrixDisplay.from_estimator(grid_search_logreg.best_estimator_, rescaledX_test, y_test))"
      ],
      "metadata": {
        "colab": {
          "base_uri": "https://localhost:8080/",
          "height": 466
        },
        "id": "EEoPIUoRPZfz",
        "outputId": "d83c12d3-46f2-4773-ba12-3a3b6e6e686c"
      },
      "execution_count": 29,
      "outputs": [
        {
          "output_type": "display_data",
          "data": {
            "text/plain": [
              "<sklearn.metrics._plot.confusion_matrix.ConfusionMatrixDisplay at 0x7fbb83ab3b80>"
            ]
          },
          "metadata": {}
        },
        {
          "output_type": "display_data",
          "data": {
            "text/plain": [
              "<Figure size 640x480 with 2 Axes>"
            ],
            "image/png": "[encoded data removed]"
          },
          "metadata": {}
        }
      ]
    },
    {
      "cell_type": "code",
      "source": [
        "#  Decision Tree\n",
        "display(ConfusionMatrixDisplay.from_estimator(grid_search_dt.best_estimator_, rescaledX_test, y_test))"
      ],
      "metadata": {
        "colab": {
          "base_uri": "https://localhost:8080/",
          "height": 466
        },
        "id": "YLhAb6d_C6Rd",
        "outputId": "9c769af5-b5f4-42ba-c91a-0ac36509f9df"
      },
      "execution_count": 30,
      "outputs": [
        {
          "output_type": "display_data",
          "data": {
            "text/plain": [
              "<sklearn.metrics._plot.confusion_matrix.ConfusionMatrixDisplay at 0x7fbb83688820>"
            ]
          },
          "metadata": {}
        },
        {
          "output_type": "display_data",
          "data": {
            "text/plain": [
              "<Figure size 640x480 with 2 Axes>"
            ],
            "image/png": "[encoded data removed]"
          },
          "metadata": {}
        }
      ]
    },
    {
      "cell_type": "markdown",
      "source": [
        "Both models are \"perfect\" in that they have all predictions on the diagonal, resulting in a confusion matrix with zero values in all off-diagonal elements."
      ],
      "metadata": {
        "id": "pVv81Q-_Bwpx"
      }
    },
    {
      "cell_type": "markdown",
      "source": [
        "### 4.2  Precision, recall, and accuracy "
      ],
      "metadata": {
        "id": "0hvMIRA0DyR6"
      }
    },
    {
      "cell_type": "markdown",
      "source": [
        "Accuracy score is a commonly used metric to evaluate the performance of classification models. An accuracy score of 0.95 means that the model correctly predicts the class labels for 95% of the samples in the test set. A higher accuracy score indicates better performance, but it's important to keep in mind that accuracy can be misleading in cases where the dataset is imbalanced or when the model's performance on specific classes is more important. In such cases, other evaluation metrics like precision, recall, or F1 score might be more appropriate."
      ],
      "metadata": {
        "id": "2wBsaDRsn1sE"
      }
    },
    {
      "cell_type": "code",
      "source": [
        "from sklearn.metrics import accuracy_score\n",
        "\n",
        "# Predict class labels for the test and train sets\n",
        "pred_logreg = grid_search_logreg.best_estimator_.predict(rescaledX_test)\n",
        "pred_dt = grid_search_dt.best_estimator_.predict(rescaledX_test)\n",
        "\n",
        "\n",
        "# Calculate the accuracy scores for the decision tree and logistic regression models\n",
        "logreg_acc = accuracy_score(y_test, pred_logreg)\n",
        "dt_acc = accuracy_score(y_test, pred_dt)\n",
        "\n",
        "\n",
        "# Print the accuracy scores\n",
        "print(f\"Logistic Regression accuracy: {logreg_acc}\\nDT accuracy: {dt_acc}\")"
      ],
      "metadata": {
        "colab": {
          "base_uri": "https://localhost:8080/"
        },
        "id": "mnp-ZIegn1TV",
        "outputId": "57be641d-f8e5-4491-97ff-016eabe7a824"
      },
      "execution_count": 31,
      "outputs": [
        {
          "output_type": "stream",
          "name": "stdout",
          "text": [
            "Logistic Regression accuracy: 1.0\n",
            "DT accuracy: 1.0\n"
          ]
        }
      ]
    },
    {
      "cell_type": "markdown",
      "source": [
        "Recall (sensitivity or true positive rate) measures the proportion of actual positive instances that were correctly predicted by the model. A high recall indicates that the model is good at identifying positive instances.\n",
        "\n",
        "Precision (positive predictive value) measures the proportion of true positive instances among the instances predicted as positive by the model. A high precision indicates that the model is good at not labeling negative instances as positive.\n",
        "\n",
        "F1 score is the harmonic mean of precision and recall, and it balances both metrics. It's a good single-number summary of a model's performance, especially when dealing with imbalanced datasets or when both false positives and false negatives are important to consider."
      ],
      "metadata": {
        "id": "Q00SiNSXoTYK"
      }
    },
    {
      "cell_type": "code",
      "source": [
        "from sklearn.metrics import recall_score, precision_score, f1_score, classification_report\n",
        "\n",
        "# Calculate recall, precision, and F1 score for the logistic regression model\n",
        "recall = recall_score(y_test, pred_logreg, average=\"macro\")\n",
        "prec_score = precision_score(y_test, pred_logreg, average=\"macro\")\n",
        "f1 = f1_score(y_test, pred_logreg, average=\"macro\")\n",
        "\n",
        "# Print the recall, precision, and F1 score\n",
        "print(f\"Logistic Regression precision, recall, and F1: {recall, prec_score, f1}\")\n",
        "\n",
        "\n",
        "\n",
        "# Calculate recall, precision, and F1 score for the decision tree model\n",
        "recall = recall_score(y_test, pred_dt, average=\"macro\")\n",
        "prec_score = precision_score(y_test, pred_dt, average=\"macro\")\n",
        "f1 = f1_score(y_test, pred_dt, average=\"macro\")\n",
        "\n",
        "# Print the recall, precision, and F1 score\n",
        "print(f\"Decision Tree precision, recall, and F1: {recall, prec_score, f1}\")\n",
        "\n"
      ],
      "metadata": {
        "colab": {
          "base_uri": "https://localhost:8080/"
        },
        "id": "BdVWs7tpoYnh",
        "outputId": "9b1f9776-3d89-464a-ec9e-6f066b37bf11"
      },
      "execution_count": 32,
      "outputs": [
        {
          "output_type": "stream",
          "name": "stdout",
          "text": [
            "Logistic Regression precision, recall, and F1: (1.0, 1.0, 1.0)\n",
            "Decision Tree precision, recall, and F1: (1.0, 1.0, 1.0)\n"
          ]
        }
      ]
    },
    {
      "cell_type": "markdown",
      "source": [
        "As seen before from the classification report, both models predicted all labels correctly, resulting in all evaluation metrics equal to 1.\n"
      ],
      "metadata": {
        "id": "mL5yk55LDDLh"
      }
    },
    {
      "cell_type": "markdown",
      "metadata": {
        "id": "eU9KUbmQ-Jl4"
      },
      "source": [
        "### 4.3  Income category performance"
      ]
    },
    {
      "cell_type": "markdown",
      "source": [
        "We have seen before that with cross-validation and hyperparameter tuning, both models achieved to label all customers in the test split correctly, thus independetly with regards to income category.\n",
        "\n",
        "We therefore perform a slightly less involved methodology in the following code to analyze whether performance differs among income categories. Specifically, we do not impute \"Unkown\" values and do not apply cross validation and hyperparameter tuning. As mentioned before, recall will be of particular interest to us.\n"
      ],
      "metadata": {
        "id": "_qwAkNUziQZF"
      }
    },
    {
      "cell_type": "code",
      "source": [
        "  # Define the income categories\n",
        "  income_categories = df['income_category'].unique()\n",
        "\n",
        "  # Iterate over income categories\n",
        "  for category in income_categories:\n",
        "    print(f\"Income Category: {category}\")    \n",
        "    \n",
        "    # Subset the data for the current income category\n",
        "    subset_data = df[df['income_category'] == category]\n",
        "\n",
        "    #Encode\n",
        "    subset_data = pd.get_dummies(subset_data, columns=categorical_columns[1:])\n",
        "    X = subset_data.drop(\"attrition_flag\", axis=1).values\n",
        "    # We do not need to encode the target variable, but it makes evaluation easier later\n",
        "    y = subset_data[\"attrition_flag\"].apply(lambda x: 1 if x == \"Attrited Customer\" else 0).values\n",
        "\n",
        "    # Split the data into training and test sets\n",
        "    X_train, X_test, y_train, y_test = train_test_split(X, y, test_size=0.2, random_state=42)\n",
        "\n",
        "    # Rescale features\n",
        "    rescaledX_train = scaler.fit_transform(X_train)\n",
        "    rescaledX_test = scaler.transform(X_test)\n",
        "\n",
        "    #  using logistic regression\n",
        "    logreg = LogisticRegression()\n",
        "    logreg.fit(rescaledX_train, y_train)\n",
        "    logreg_preds = logreg.predict(rescaledX_test)\n",
        "    logreg_report = classification_report(y_test, logreg_preds)\n",
        "    print(\"Logistic Regression Classification Report:\")\n",
        "    print(logreg_report)\n",
        "\n",
        "    #  using random forest\n",
        "    dt = DecisionTreeClassifier()\n",
        "    dt.fit(rescaledX_train, y_train)\n",
        "    dt_preds = dt.predict(rescaledX_test)\n",
        "    dt_report = classification_report(y_test, dt_preds)\n",
        "    print(\"Decision Tree Classification Report:\")\n",
        "    print(dt_report)\n"
      ],
      "metadata": {
        "id": "J68wbyBzWydz",
        "colab": {
          "base_uri": "https://localhost:8080/"
        },
        "outputId": "673f8733-b704-49fe-c129-7067a4b69d81"
      },
      "execution_count": 33,
      "outputs": [
        {
          "output_type": "stream",
          "name": "stdout",
          "text": [
            "Income Category: $60K - $80K\n",
            "Logistic Regression Classification Report:\n",
            "              precision    recall  f1-score   support\n",
            "\n",
            "           0       0.90      0.98      0.94       240\n",
            "           1       0.79      0.37      0.50        41\n",
            "\n",
            "    accuracy                           0.89       281\n",
            "   macro avg       0.85      0.67      0.72       281\n",
            "weighted avg       0.88      0.89      0.88       281\n",
            "\n",
            "Decision Tree Classification Report:\n",
            "              precision    recall  f1-score   support\n",
            "\n",
            "           0       0.95      0.95      0.95       240\n",
            "           1       0.68      0.68      0.68        41\n",
            "\n",
            "    accuracy                           0.91       281\n",
            "   macro avg       0.81      0.81      0.81       281\n",
            "weighted avg       0.91      0.91      0.91       281\n",
            "\n",
            "Income Category: Less than $40K\n",
            "Logistic Regression Classification Report:\n",
            "              precision    recall  f1-score   support\n",
            "\n",
            "           0       0.92      0.95      0.94       598\n",
            "           1       0.71      0.57      0.63       115\n",
            "\n",
            "    accuracy                           0.89       713\n",
            "   macro avg       0.82      0.76      0.79       713\n",
            "weighted avg       0.89      0.89      0.89       713\n",
            "\n",
            "Decision Tree Classification Report:\n",
            "              precision    recall  f1-score   support\n",
            "\n",
            "           0       0.96      0.94      0.95       598\n",
            "           1       0.72      0.77      0.74       115\n",
            "\n",
            "    accuracy                           0.91       713\n",
            "   macro avg       0.84      0.86      0.85       713\n",
            "weighted avg       0.92      0.91      0.92       713\n",
            "\n",
            "Income Category: $80K - $120K\n",
            "Logistic Regression Classification Report:\n",
            "              precision    recall  f1-score   support\n",
            "\n",
            "           0       0.88      1.00      0.94       251\n",
            "           1       0.96      0.41      0.57        56\n",
            "\n",
            "    accuracy                           0.89       307\n",
            "   macro avg       0.92      0.70      0.76       307\n",
            "weighted avg       0.90      0.89      0.87       307\n",
            "\n",
            "Decision Tree Classification Report:\n",
            "              precision    recall  f1-score   support\n",
            "\n",
            "           0       0.93      0.97      0.95       251\n",
            "           1       0.83      0.70      0.76        56\n",
            "\n",
            "    accuracy                           0.92       307\n",
            "   macro avg       0.88      0.83      0.85       307\n",
            "weighted avg       0.92      0.92      0.92       307\n",
            "\n",
            "Income Category: $40K - $60K\n",
            "Logistic Regression Classification Report:\n",
            "              precision    recall  f1-score   support\n",
            "\n",
            "           0       0.92      0.98      0.95       310\n",
            "           1       0.80      0.42      0.55        48\n",
            "\n",
            "    accuracy                           0.91       358\n",
            "   macro avg       0.86      0.70      0.75       358\n",
            "weighted avg       0.90      0.91      0.89       358\n",
            "\n",
            "Decision Tree Classification Report:\n",
            "              precision    recall  f1-score   support\n",
            "\n",
            "           0       0.94      0.98      0.96       310\n",
            "           1       0.81      0.62      0.71        48\n",
            "\n",
            "    accuracy                           0.93       358\n",
            "   macro avg       0.88      0.80      0.83       358\n",
            "weighted avg       0.93      0.93      0.93       358\n",
            "\n",
            "Income Category: $120K +\n",
            "Logistic Regression Classification Report:\n",
            "              precision    recall  f1-score   support\n",
            "\n",
            "           0       0.87      0.99      0.93       119\n",
            "           1       0.90      0.33      0.49        27\n",
            "\n",
            "    accuracy                           0.87       146\n",
            "   macro avg       0.88      0.66      0.71       146\n",
            "weighted avg       0.87      0.87      0.84       146\n",
            "\n",
            "Decision Tree Classification Report:\n",
            "              precision    recall  f1-score   support\n",
            "\n",
            "           0       0.89      0.91      0.90       119\n",
            "           1       0.54      0.48      0.51        27\n",
            "\n",
            "    accuracy                           0.83       146\n",
            "   macro avg       0.71      0.69      0.70       146\n",
            "weighted avg       0.82      0.83      0.82       146\n",
            "\n",
            "Income Category: Unknown\n",
            "Logistic Regression Classification Report:\n",
            "              precision    recall  f1-score   support\n",
            "\n",
            "           0       0.91      0.98      0.94       182\n",
            "           1       0.85      0.56      0.68        41\n",
            "\n",
            "    accuracy                           0.90       223\n",
            "   macro avg       0.88      0.77      0.81       223\n",
            "weighted avg       0.90      0.90      0.89       223\n",
            "\n",
            "Decision Tree Classification Report:\n",
            "              precision    recall  f1-score   support\n",
            "\n",
            "           0       0.95      0.96      0.95       182\n",
            "           1       0.80      0.78      0.79        41\n",
            "\n",
            "    accuracy                           0.92       223\n",
            "   macro avg       0.88      0.87      0.87       223\n",
            "weighted avg       0.92      0.92      0.92       223\n",
            "\n"
          ]
        }
      ]
    },
    {
      "cell_type": "markdown",
      "source": [
        "The evaluation of classification models for each income category reveals varying performances. The overall performance of the models is similar, with the decision tree slightly outperforming the logistic regression. The models performed best for the \"$40K - $60K\" income category."
      ],
      "metadata": {
        "id": "u8JaWqN-pSr9"
      }
    },
    {
      "cell_type": "markdown",
      "source": [
        "\n",
        "\n",
        " * In the \"$60K - $80K\" category, the logistic regression model achieved an accuracy of 89%, but failed to identify any attrited customers accurately. The decision tree model performed similar in terms of accuracy, however it achieved higher recall and f1.\n",
        "\n",
        " * For the \"Less than $40K\" category, the logistic regression model achieved 89% accuracy. The random forest model performed better, with higher recall and F1-score for both classes.\n",
        "\n",
        " * In the \"$80K - $120K\" category. Logistic regression achieved higher precision, while the decision tree model achieved had again higher recall and f1.\n",
        "\n",
        " * In the \"$40K - $60K\" category,  the decision tree model achieved outperformed the logistic regression model in all metrics.\n",
        "\n",
        " * For the \"$120K+\" category, logistic regression achieved 87% accuracy and the random forest model achieved 85% accuracy."
      ],
      "metadata": {
        "id": "o1rraJAZYiEO"
      }
    },
    {
      "cell_type": "markdown",
      "source": [
        "## Extra"
      ],
      "metadata": {
        "id": "KHeoJX2RQsSa"
      }
    },
    {
      "cell_type": "markdown",
      "source": [
        "### ROC"
      ],
      "metadata": {
        "id": "SeiNyt0YRM_5"
      }
    },
    {
      "cell_type": "markdown",
      "source": [
        "Additionaly, we can visualize the performance of our best models at on the test data using the ROC curve."
      ],
      "metadata": {
        "id": "Nx5BaSBNEvmT"
      }
    },
    {
      "cell_type": "code",
      "source": [
        "from sklearn.metrics import roc_curve, roc_auc_score\n",
        "import matplotlib.pyplot as plt\n",
        "\n",
        "# Calculate the predicted probabilities for each class\n",
        "logreg_probabilities = logreg.predict_proba(rescaledX_test)[:, 1]  # Predicted probabilities for class 1 (churn) for Logistic Regression\n",
        "dt_probabilities = dt.predict_proba(rescaledX_test)[:, 1]  # Predicted probabilities for class 1 (churn) for Decision Tree\n",
        "\n",
        "# Calculate the False Positive Rate (FPR), True Positive Rate (TPR), and thresholds for the ROC curve\n",
        "logreg_fpr, logreg_tpr, logreg_thresholds = roc_curve(y_test, logreg_probabilities)\n",
        "dt_fpr, dt_tpr, dt_thresholds = roc_curve(y_test, dt_probabilities)\n",
        "\n",
        "# Calculate the AUC score for the ROC curve\n",
        "logreg_auc_score = roc_auc_score(y_test, logreg_probabilities)\n",
        "dt_auc_score = roc_auc_score(y_test, dt_probabilities)\n",
        "\n",
        "# Plot the ROC curve\n",
        "plt.plot(logreg_fpr, logreg_tpr, label='Logistic Regression (AUC = {:.2f})'.format(logreg_auc_score))\n",
        "plt.plot(dt_fpr, dt_tpr, label='Decision Tree (AUC = {:.2f})'.format(dt_auc_score))\n",
        "plt.plot([0, 1], [0, 1], 'k--')  # Diagonal line representing random guessing\n",
        "plt.xlabel('False Positive Rate')\n",
        "plt.ylabel('True Positive Rate')\n",
        "plt.title('Receiver Operating Characteristic (ROC) Curve')\n",
        "plt.legend()\n",
        "plt.show()\n"
      ],
      "metadata": {
        "colab": {
          "base_uri": "https://localhost:8080/",
          "height": 0
        },
        "id": "Mh8A0G43Ew5F",
        "outputId": "08150a47-cc54-474d-95aa-2149ddf22bb9"
      },
      "execution_count": 34,
      "outputs": [
        {
          "output_type": "display_data",
          "data": {
            "text/plain": [
              "<Figure size 640x480 with 1 Axes>"
            ],
            "image/png": "[encoded data removed]"
          },
          "metadata": {}
        }
      ]
    },
    {
      "cell_type": "markdown",
      "source": [
        "Both models achieved the perfect AUC score of 1, therefore their ROC curves overlap."
      ],
      "metadata": {
        "id": "ANw1Z9kqjFjq"
      }
    },
    {
      "cell_type": "markdown",
      "source": [
        "### Resampling"
      ],
      "metadata": {
        "id": "-YAti4j0RUvK"
      }
    },
    {
      "cell_type": "markdown",
      "source": [
        "Class imbalance is evident in the dataset, particularly in the classification task of identifying churned customers (Attrited Customer) versus existing customers. The classification reports exhibit notable differences in precision, recall, and F1-score between the two classes, indicating an imbalance in the dataset. For instance, in the \"Less than $40K\" income category, the precision for the Attrited Customer class is 0.00, suggesting that the model struggles to correctly identify churned customers in this category.\n",
        "\n",
        "To address class imbalance, various techniques can be applied. One effective approach is resampling the dataset to balance the class distribution. Oversampling techniques such as Synthetic Minority Over-sampling Technique (SMOTE) can be employed to create synthetic samples for the minority class, thus increasing its representation in the dataset. Alternatively, undersampling the majority class can be employed, reducing its instances to match the minority class's size."
      ],
      "metadata": {
        "id": "AcyU9kpCZ0sk"
      }
    },
    {
      "cell_type": "code",
      "source": [
        "from imblearn.over_sampling import SMOTE\n",
        "\n",
        "# Create an instance of SMOTE\n",
        "smote = SMOTE(random_state=42)\n",
        "\n",
        "# Apply SMOTE to oversample the minority class\n",
        "X_train_resampled, y_train_resampled = smote.fit_resample(rescaledX_train, y_train)\n"
      ],
      "metadata": {
        "id": "3TPmAjD6Yl_4"
      },
      "execution_count": 35,
      "outputs": []
    },
    {
      "cell_type": "markdown",
      "source": [
        "We can visualize the resampling in the following plot "
      ],
      "metadata": {
        "id": "z71AKg-Galam"
      }
    },
    {
      "cell_type": "code",
      "source": [
        "\n",
        "# Count the occurrences of each class \n",
        "class_counts_original = df['attrition_flag'].value_counts()\n",
        "\n",
        "# Count the occurrences of each class in the resampled dataset\n",
        "class_counts_resampled = pd.Series(y_train_resampled).value_counts()\n",
        "\n",
        "plt.figure(figsize=(8, 6))\n",
        "plt.bar(class_counts_original.index, class_counts_original.values, label='Original')\n",
        "plt.bar(class_counts_resampled.index, class_counts_resampled.values, label='Resampled')\n",
        "plt.xlabel('Attrition Flag')\n",
        "plt.ylabel('Count')\n",
        "plt.title('Class Distribution')\n",
        "plt.legend()\n",
        "plt.show()\n"
      ],
      "metadata": {
        "id": "HUyNXjpSaUed",
        "colab": {
          "base_uri": "https://localhost:8080/",
          "height": 0
        },
        "outputId": "e22a955a-d7c8-4f5c-84dc-addd02fa9714"
      },
      "execution_count": 36,
      "outputs": [
        {
          "output_type": "display_data",
          "data": {
            "text/plain": [
              "<Figure size 800x600 with 1 Axes>"
            ],
            "image/png": "[encoded data removed]"
          },
          "metadata": {}
        }
      ]
    },
    {
      "cell_type": "code",
      "source": [
        "from imblearn.over_sampling import RandomOverSampler\n",
        "from sklearn.metrics import classification_report\n",
        "\n",
        "# Resample the training data\n",
        "ros = RandomOverSampler(random_state=42)\n",
        "X_train_resampled, y_train_resampled = ros.fit_resample(rescaledX_train, y_train)\n",
        "\n",
        "# Model 1: Logistic Regression with resampled data\n",
        "logreg_resampled = LogisticRegression()\n",
        "logreg_resampled.fit(X_train_resampled, y_train_resampled)\n",
        "logreg_resampled_preds = logreg_resampled.predict(rescaledX_test)\n",
        "\n",
        "# Model 2: Decision Tree Classifier with resampled data\n",
        "dt_resampled = DecisionTreeClassifier()\n",
        "dt_resampled.fit(X_train_resampled, y_train_resampled)\n",
        "dt_resampled_preds = dt_resampled.predict(rescaledX_test)\n",
        "\n",
        "# Evaluate the resampled models\n",
        "logreg_resampled_report = classification_report(y_test, logreg_resampled_preds)\n",
        "dt_resampled_report = classification_report(y_test, dt_resampled_preds)\n",
        "\n",
        "print(\"Logistic Regression Classification Report (Resampled):\")\n",
        "print(logreg_resampled_report)\n",
        "print(\"Decision Tree Classification Report (Resampled):\")\n",
        "print(dt_resampled_report)\n"
      ],
      "metadata": {
        "id": "7vB7co8nbt7Q",
        "colab": {
          "base_uri": "https://localhost:8080/"
        },
        "outputId": "a6bc74b1-a3d0-40fa-81df-2983318e2c4a"
      },
      "execution_count": 37,
      "outputs": [
        {
          "output_type": "stream",
          "name": "stdout",
          "text": [
            "Logistic Regression Classification Report (Resampled):\n",
            "              precision    recall  f1-score   support\n",
            "\n",
            "           0       0.97      0.89      0.93       182\n",
            "           1       0.64      0.88      0.74        41\n",
            "\n",
            "    accuracy                           0.89       223\n",
            "   macro avg       0.81      0.88      0.84       223\n",
            "weighted avg       0.91      0.89      0.89       223\n",
            "\n",
            "Decision Tree Classification Report (Resampled):\n",
            "              precision    recall  f1-score   support\n",
            "\n",
            "           0       0.96      0.95      0.96       182\n",
            "           1       0.79      0.83      0.81        41\n",
            "\n",
            "    accuracy                           0.93       223\n",
            "   macro avg       0.88      0.89      0.88       223\n",
            "weighted avg       0.93      0.93      0.93       223\n",
            "\n"
          ]
        }
      ]
    },
    {
      "cell_type": "markdown",
      "source": [
        "Resampling the data resulted in a similar performanceof both models, the decision tree outperforming the linear regression just slightly again."
      ],
      "metadata": {
        "id": "RVnzgYf7QM36"
      }
    }
  ],
  "metadata": {
    "colab": {
      "provenance": []
    },
    "kernelspec": {
      "display_name": "Python 3",
      "language": "python",
      "name": "python3"
    },
    "language_info": {
      "codemirror_mode": {
        "name": "ipython",
        "version": 3
      },
      "file_extension": ".py",
      "mimetype": "text/x-python",
      "name": "python",
      "nbconvert_exporter": "python",
      "pygments_lexer": "ipython3",
      "version": "3.11.3"
    },
    "orig_nbformat": 4
  },
  "nbformat": 4,
  "nbformat_minor": 0
}