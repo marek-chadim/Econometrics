{
 "cells": [
  {
   "cell_type": "markdown",
   "metadata": {},
   "source": [
    "# Arrays\n",
    "\n",
    "Arrays are containers of several instances of the same type. For example"
   ]
  },
  {
   "cell_type": "code",
   "execution_count": 3,
   "metadata": {},
   "outputs": [
    {
     "data": {
      "text/plain": [
       "2-element Vector{Int64}:\n",
       " 1\n",
       " 4"
      ]
     },
     "metadata": {},
     "output_type": "display_data"
    }
   ],
   "source": [
    "a = [1, 4]"
   ]
  },
  {
   "cell_type": "markdown",
   "metadata": {},
   "source": [
    "`a` is a two-element vector containing two integers. \n",
    " - Vectors are 1-dimensional arrays,\n",
    " - Matrices are 2-dimensional arrays,\n",
    " - but there are Arrays of higher dimensions as well!\n",
    "\n",
    "### Creating Arrays\n",
    "\n",
    "Many ways of creating arrays:\n",
    "1. Listing elements"
   ]
  },
  {
   "cell_type": "code",
   "execution_count": 4,
   "metadata": {},
   "outputs": [
    {
     "data": {
      "text/plain": [
       "2×2 Matrix{Int64}:\n",
       " 1  3\n",
       " 4  6"
      ]
     },
     "metadata": {},
     "output_type": "display_data"
    }
   ],
   "source": [
    "vector = [2, 4, 7]\n",
    "# or\n",
    "matrix = [1 3; 4 6]\n"
   ]
  },
  {
   "cell_type": "markdown",
   "metadata": {},
   "source": [
    "Listing elements simply with spaces in between would create a row vector (i.e. a $1\\times n$ size matrix)"
   ]
  },
  {
   "cell_type": "code",
   "execution_count": 5,
   "metadata": {},
   "outputs": [
    {
     "data": {
      "text/plain": [
       "1×3 Matrix{Int64}:\n",
       " 2  4  7"
      ]
     },
     "metadata": {},
     "output_type": "display_data"
    }
   ],
   "source": [
    "row_vector = [2 4 7]"
   ]
  },
  {
   "cell_type": "markdown",
   "metadata": {},
   "source": [
    "Vectors are aliases for $n\\times 1$ matrices, i.e. column vectors."
   ]
  },
  {
   "cell_type": "markdown",
   "metadata": {},
   "source": [
    "2. using Julia functions returning an array filled with a particular thing: "
   ]
  },
  {
   "cell_type": "code",
   "execution_count": 6,
   "metadata": {},
   "outputs": [
    {
     "data": {
      "text/plain": [
       "2×2×3 Array{Float64, 3}:\n",
       "[:, :, 1] =\n",
       " 0.0  0.0\n",
       " 0.0  0.0\n",
       "\n",
       "[:, :, 2] =\n",
       " 0.0  0.0\n",
       " 0.0  0.0\n",
       "\n",
       "[:, :, 3] =\n",
       " 0.0  0.0\n",
       " 0.0  0.0"
      ]
     },
     "metadata": {},
     "output_type": "display_data"
    }
   ],
   "source": [
    "zeros(2,2,3) # returns a 2*2*3 array, filled with 0s"
   ]
  },
  {
   "cell_type": "markdown",
   "metadata": {},
   "source": [
    "other similar functions:"
   ]
  },
  {
   "cell_type": "code",
   "execution_count": 7,
   "metadata": {},
   "outputs": [
    {
     "data": {
      "text/plain": [
       "2×3 Matrix{Float64}:\n",
       " 0.157874  0.735197   0.31719\n",
       " 0.751795  0.0967745  0.666044"
      ]
     },
     "metadata": {},
     "output_type": "display_data"
    },
    {
     "data": {
      "text/plain": [
       "2×3 Matrix{Float64}:\n",
       "  0.782263  -0.251015  -0.00793096\n",
       " -0.93929    1.74662   -1.5532"
      ]
     },
     "metadata": {},
     "output_type": "display_data"
    }
   ],
   "source": [
    "ones(2,3) # fills with 1s\n",
    "display(rand(2,3)) # fills with random numbers drawn from a uniform [0,1] distribution\n",
    "randn(2,3)# fills with random numbers drawn from a standard normal distribution"
   ]
  },
  {
   "cell_type": "markdown",
   "metadata": {},
   "source": [
    "There are corresponding functions like these for logical values. When printed, these arrays look like containing 1s and 0s, but that is sort of equivalent to `false`s and `true`s. More on this later."
   ]
  },
  {
   "cell_type": "code",
   "execution_count": 8,
   "metadata": {},
   "outputs": [
    {
     "data": {
      "text/plain": [
       "2×3 BitMatrix:\n",
       " 0  0  0\n",
       " 0  0  0"
      ]
     },
     "metadata": {},
     "output_type": "display_data"
    }
   ],
   "source": [
    "trues(2,3) # fills with trues (1s)\n",
    "falses(2,3) # fills with falses (0s)\n"
   ]
  },
  {
   "cell_type": "markdown",
   "metadata": {},
   "source": [
    "3. you can also give yourself what you want to fill your array with:"
   ]
  },
  {
   "cell_type": "code",
   "execution_count": 9,
   "metadata": {},
   "outputs": [
    {
     "data": {
      "text/plain": [
       "3×4 Matrix{Int64}:\n",
       " 42  42  42  42\n",
       " 42  42  42  42\n",
       " 42  42  42  42"
      ]
     },
     "metadata": {},
     "output_type": "display_data"
    }
   ],
   "source": [
    "fill(42,(3,4)) # or equivalently fill(42,3,4) works too\n"
   ]
  },
  {
   "cell_type": "markdown",
   "metadata": {},
   "source": [
    "4. You can also tell Julia to initialize an array containing a certain type, being of certain size without determining its contents. Best way if you really care about performance."
   ]
  },
  {
   "cell_type": "code",
   "execution_count": 10,
   "metadata": {},
   "outputs": [
    {
     "data": {
      "text/plain": [
       "3×4 Matrix{Float64}:\n",
       " 9.2243e-312  9.2243e-312  9.2243e-312  9.2243e-312\n",
       " 9.2243e-312  9.2243e-312  9.2243e-312  9.2243e-312\n",
       " 9.2243e-312  9.2243e-312  9.2243e-312  9.2243e-312"
      ]
     },
     "metadata": {},
     "output_type": "display_data"
    }
   ],
   "source": [
    "Array{Float64}(undef,3,4)"
   ]
  },
  {
   "cell_type": "markdown",
   "metadata": {},
   "source": [
    "### Manipulating arrays\n",
    "\n",
    "How to make different arrays from arrays we already have?\n",
    "\n",
    "##### Reshape\n",
    "\n",
    "one important function is reshape: it takes the data from the given array and puts into a new array with dimensions of your choice."
   ]
  },
  {
   "cell_type": "code",
   "execution_count": 11,
   "metadata": {},
   "outputs": [
    {
     "data": {
      "text/plain": [
       "2×3 Matrix{Int64}:\n",
       " 1  3  5\n",
       " 2  4  6"
      ]
     },
     "metadata": {},
     "output_type": "display_data"
    }
   ],
   "source": [
    "given = [1, 2, 3, 4, 5, 6]\n",
    "\n",
    "reshape(given,2,3)"
   ]
  },
  {
   "cell_type": "markdown",
   "metadata": {},
   "source": [
    "Note the order in which the new matrix is filled up with data! Julia first filled up column 1, then proceeded to column 2 and finally column 3. This is because Julia is a ***column-major*** language, so matrices are thought of as collections of columns (not rows). A row-major language would have returned\n",
    "```julia\n",
    "[1 2 3\n",
    " 4 5 6]\n",
    "```\n",
    "instead. Other column-major languages include Fortran, Matlab and R. On the other hand, C and Python are row-major. This particular ordering of dimensions doesn't only matter for matrices, but for higher dimension arrays as well.\n",
    "\n",
    "Calling `reshape` when dimensions don't match leads to an error:"
   ]
  },
  {
   "cell_type": "code",
   "execution_count": 12,
   "metadata": {},
   "outputs": [
    {
     "ename": "DimensionMismatch",
     "evalue": "DimensionMismatch: new dimensions (2, 2) must be consistent with array size 6",
     "output_type": "error",
     "traceback": [
      "DimensionMismatch: new dimensions (2, 2) must be consistent with array size 6\n",
      "\n",
      "Stacktrace:\n",
      " [1] (::Base.var\"#throw_dmrsa#328\")(dims::Tuple{Int64, Int64}, len::Int64)\n",
      "   @ Base .\\reshapedarray.jl:41\n",
      " [2] reshape\n",
      "   @ Base .\\reshapedarray.jl:45 [inlined]\n",
      " [3] reshape(::Vector{Int64}, ::Int64, ::Int64)\n",
      "   @ Base .\\reshapedarray.jl:117\n",
      " [4] top-level scope\n",
      "   @ c:\\Users\\ZO.4407\\Documents\\GitHub\\IHBM2024\\julia\\tutorial\\2_arrays.ipynb:1"
     ]
    }
   ],
   "source": [
    "reshape(given,2,2)"
   ]
  },
  {
   "cell_type": "markdown",
   "metadata": {},
   "source": [
    "#### Exercise\n",
    "\n",
    "reshape `given` into a column vector!"
   ]
  },
  {
   "cell_type": "code",
   "execution_count": 13,
   "metadata": {},
   "outputs": [
    {
     "data": {
      "text/plain": [
       "6×1 Matrix{Int64}:\n",
       " 1\n",
       " 2\n",
       " 3\n",
       " 4\n",
       " 5\n",
       " 6"
      ]
     },
     "metadata": {},
     "output_type": "display_data"
    }
   ],
   "source": [
    "# work here\n",
    "\n",
    "reshape(given,6,1)"
   ]
  },
  {
   "cell_type": "markdown",
   "metadata": {},
   "source": [
    "### Combine several arrays into a bigger one"
   ]
  },
  {
   "cell_type": "code",
   "execution_count": 14,
   "metadata": {},
   "outputs": [
    {
     "data": {
      "text/plain": [
       "4-element Vector{Int64}:\n",
       " 1\n",
       " 2\n",
       " 3\n",
       " 4"
      ]
     },
     "metadata": {},
     "output_type": "display_data"
    }
   ],
   "source": [
    "a = [1, 2]\n",
    "b = [3, 4]\n",
    "\n",
    "# to merge into one 4-length column vector\n",
    "vcat(a,b) # (vertical concatenation) or\n",
    "[a;b]"
   ]
  },
  {
   "cell_type": "code",
   "execution_count": 15,
   "metadata": {},
   "outputs": [
    {
     "data": {
      "text/plain": [
       "2×2 Matrix{Int64}:\n",
       " 1  3\n",
       " 2  4"
      ]
     },
     "metadata": {},
     "output_type": "display_data"
    }
   ],
   "source": [
    "# to merge into a 2x2 matrix\n",
    "hcat(a,b) # or\n",
    "[a b]"
   ]
  },
  {
   "cell_type": "markdown",
   "metadata": {},
   "source": [
    "\n",
    "`hcat` and `vcat` stand for horizontal and vertical concatenation, respectively. There is also a more general function called `cat`, which can be used to concatenate over any dimension and is therefore useful when working with multidimensional arrays. \n",
    "\n",
    "Also good to check what wouldn't work: `[a, b] ` does not simply concatenate the two vectors into a matrix. Instead, it creates a 2-element vector, such that its elements are the given vectors!"
   ]
  },
  {
   "cell_type": "code",
   "execution_count": 16,
   "metadata": {},
   "outputs": [
    {
     "data": {
      "text/plain": [
       "2-element Vector{Vector{Int64}}:\n",
       " [1, 2]\n",
       " [3, 4]"
      ]
     },
     "metadata": {},
     "output_type": "display_data"
    }
   ],
   "source": [
    "[a, b] "
   ]
  },
  {
   "cell_type": "markdown",
   "metadata": {},
   "source": [
    "This would work:"
   ]
  },
  {
   "cell_type": "code",
   "execution_count": 17,
   "metadata": {},
   "outputs": [
    {
     "data": {
      "text/plain": [
       "2×2 Matrix{Int64}:\n",
       " 1  3\n",
       " 2  4"
      ]
     },
     "metadata": {},
     "output_type": "display_data"
    }
   ],
   "source": [
    "hcat([a, b]...)"
   ]
  },
  {
   "cell_type": "markdown",
   "metadata": {},
   "source": [
    "the `...` thing is called the splatting operator. It converts the vector into a list of arguments to be passed to a function. Sometimes useful to know, but don't worry if it looks confusing, one can survive without it."
   ]
  },
  {
   "cell_type": "markdown",
   "metadata": {},
   "source": [
    "### Accessing elements of arrays\n",
    "\n",
    "To main ways of accessing one element of a matrix `A`:\n",
    " - `A[i]` gives you the ith element of `A`. Julia performs the counting column-wise\n",
    " - `A[i,j]` gives you the element of `A` in the ith row and jth column. This notation should be familiar from linear algebra.\n",
    "\n",
    "More generally, for an n-dimensional array `A`, we access an elements as `A[something]`, where something is either one positive integer, or a list of n positive integers.\n",
    "\n",
    "> #### Important\n",
    "> In Julia indexing is 1-based, i.e. the first element of any iterable object has index 1. This contrasts to languages featuring 0-based indexing, such as C, Python or Java. Less headache.\n"
   ]
  },
  {
   "cell_type": "code",
   "execution_count": 18,
   "metadata": {},
   "outputs": [
    {
     "data": {
      "text/plain": [
       "3×6 Matrix{Float64}:\n",
       " -0.661311  -1.11733   -0.737345  -0.103074   2.0823    1.6612\n",
       " -0.261357   1.4569    -0.240429  -1.21094   -0.191775  1.27428\n",
       " -1.53382   -0.752337  -0.992121   0.802837   0.303766  1.75927"
      ]
     },
     "metadata": {},
     "output_type": "display_data"
    }
   ],
   "source": [
    "A = randn(3,6)"
   ]
  },
  {
   "cell_type": "code",
   "execution_count": 19,
   "metadata": {},
   "outputs": [
    {
     "data": {
      "text/plain": [
       "-0.7523366403035061"
      ]
     },
     "metadata": {},
     "output_type": "display_data"
    }
   ],
   "source": [
    "A[6]"
   ]
  },
  {
   "cell_type": "markdown",
   "metadata": {},
   "source": [
    "columns of `A` contain 3 elements each, so the 6th element is the last element of column 2"
   ]
  },
  {
   "cell_type": "code",
   "execution_count": 20,
   "metadata": {},
   "outputs": [
    {
     "data": {
      "text/plain": [
       "-0.7523366403035061"
      ]
     },
     "metadata": {},
     "output_type": "display_data"
    }
   ],
   "source": [
    "A[3,2]"
   ]
  },
  {
   "cell_type": "markdown",
   "metadata": {},
   "source": [
    "How to use indices for arrays of arrays?"
   ]
  },
  {
   "cell_type": "code",
   "execution_count": 21,
   "metadata": {},
   "outputs": [
    {
     "data": {
      "text/plain": [
       "2-element Vector{Vector{Int64}}:\n",
       " [1, 2]\n",
       " [3, 4]"
      ]
     },
     "metadata": {},
     "output_type": "display_data"
    }
   ],
   "source": [
    "c = [a, b] "
   ]
  },
  {
   "cell_type": "code",
   "execution_count": 22,
   "metadata": {},
   "outputs": [
    {
     "data": {
      "text/plain": [
       "2-element Vector{Int64}:\n",
       " 1\n",
       " 2"
      ]
     },
     "metadata": {},
     "output_type": "display_data"
    }
   ],
   "source": [
    "c[1]"
   ]
  },
  {
   "cell_type": "code",
   "execution_count": 23,
   "metadata": {},
   "outputs": [
    {
     "data": {
      "text/plain": [
       "2"
      ]
     },
     "metadata": {},
     "output_type": "display_data"
    }
   ],
   "source": [
    "c[1][2]"
   ]
  },
  {
   "cell_type": "markdown",
   "metadata": {},
   "source": [
    "### Ranges\n",
    "\n",
    "To access several elements of arrays, we first need to get acquainted with ranges."
   ]
  },
  {
   "cell_type": "code",
   "execution_count": 24,
   "metadata": {},
   "outputs": [
    {
     "data": {
      "text/plain": [
       "2:4"
      ]
     },
     "metadata": {},
     "output_type": "display_data"
    }
   ],
   "source": [
    "2:4"
   ]
  },
  {
   "cell_type": "markdown",
   "metadata": {},
   "source": [
    "Consider `2:4`: it behaves very much like a vector `[2, 3, 4]`. For example, we can check that its second element is 3. For this we need parenthesis, otherwise Julia would attempt to access the second element of 4 (and would fail)."
   ]
  },
  {
   "cell_type": "code",
   "execution_count": 25,
   "metadata": {},
   "outputs": [
    {
     "data": {
      "text/plain": [
       "3"
      ]
     },
     "metadata": {},
     "output_type": "display_data"
    }
   ],
   "source": [
    "(2:4)[2]"
   ]
  },
  {
   "cell_type": "markdown",
   "metadata": {},
   "source": [
    "it is **not** a vector though, but a range. More specifically, a unit range, since the difference between neighboring elements in 1."
   ]
  },
  {
   "cell_type": "code",
   "execution_count": 26,
   "metadata": {},
   "outputs": [
    {
     "name": "stdout",
     "output_type": "stream",
     "text": [
      "UnitRange{Int64}\n",
      "Vector{Int64}\n"
     ]
    }
   ],
   "source": [
    "println(typeof(2:4))\n",
    "println(typeof([2,3,4]))"
   ]
  },
  {
   "cell_type": "markdown",
   "metadata": {},
   "source": [
    "we can actually turn this thing into a vector by running `collect`"
   ]
  },
  {
   "cell_type": "code",
   "execution_count": 27,
   "metadata": {},
   "outputs": [
    {
     "data": {
      "text/plain": [
       "3-element Vector{Int64}:\n",
       " 2\n",
       " 3\n",
       " 4"
      ]
     },
     "metadata": {},
     "output_type": "display_data"
    }
   ],
   "source": [
    "collect(2:4)"
   ]
  },
  {
   "cell_type": "markdown",
   "metadata": {},
   "source": [
    "`2:4` simply means: 'all integers from 2 to 4'. For most practical purposes this works like a vector, but does not need to actually create an object containing all numbers between 2 and 4 and hence less memory is occupied."
   ]
  },
  {
   "cell_type": "markdown",
   "metadata": {},
   "source": [
    "### Accessing subsets of arrays \n",
    "\n",
    "we take subsets of arrays like\n",
    "\n",
    "`A[row_indices_we_want,column_indices_we_want]`\n",
    "\n",
    "For example:"
   ]
  },
  {
   "cell_type": "code",
   "execution_count": 28,
   "metadata": {},
   "outputs": [
    {
     "data": {
      "text/plain": [
       "2×2 Matrix{Float64}:\n",
       " -1.11733  -0.737345\n",
       "  1.4569   -0.240429"
      ]
     },
     "metadata": {},
     "output_type": "display_data"
    }
   ],
   "source": [
    "A[1:2,2:3]"
   ]
  },
  {
   "cell_type": "code",
   "execution_count": 29,
   "metadata": {},
   "outputs": [
    {
     "data": {
      "text/plain": [
       "2-element Vector{Float64}:\n",
       " -1.1173341581523923\n",
       " -0.7373446698368239"
      ]
     },
     "metadata": {},
     "output_type": "display_data"
    }
   ],
   "source": [
    "A[1,2:3]"
   ]
  },
  {
   "cell_type": "markdown",
   "metadata": {},
   "source": [
    "If you want all indices from one of the dimensions, you can write `:`"
   ]
  },
  {
   "cell_type": "code",
   "execution_count": 30,
   "metadata": {},
   "outputs": [
    {
     "data": {
      "text/plain": [
       "6-element Vector{Float64}:\n",
       " -0.6613112031275629\n",
       " -1.1173341581523923\n",
       " -0.7373446698368239\n",
       " -0.10307396004153978\n",
       "  2.0823033069164327\n",
       "  1.661202592456544"
      ]
     },
     "metadata": {},
     "output_type": "display_data"
    }
   ],
   "source": [
    "A[1,:] # whole 1st row"
   ]
  },
  {
   "cell_type": "markdown",
   "metadata": {},
   "source": [
    "sometimes the `end` keyword is handy"
   ]
  },
  {
   "cell_type": "code",
   "execution_count": 31,
   "metadata": {},
   "outputs": [
    {
     "data": {
      "text/plain": [
       "3×3 Matrix{Float64}:\n",
       " -0.103074   2.0823    1.6612\n",
       " -1.21094   -0.191775  1.27428\n",
       "  0.802837   0.303766  1.75927"
      ]
     },
     "metadata": {},
     "output_type": "display_data"
    }
   ],
   "source": [
    "A[:,4:end] # all columns after 4"
   ]
  },
  {
   "cell_type": "code",
   "execution_count": 32,
   "metadata": {},
   "outputs": [
    {
     "data": {
      "text/plain": [
       "3×2 Matrix{Float64}:\n",
       " -0.103074   2.0823\n",
       " -1.21094   -0.191775\n",
       "  0.802837   0.303766"
      ]
     },
     "metadata": {},
     "output_type": "display_data"
    }
   ],
   "source": [
    "A[:,4:end-1] # can treat end like a number"
   ]
  },
  {
   "cell_type": "markdown",
   "metadata": {},
   "source": [
    "### Linear Algebra"
   ]
  },
  {
   "cell_type": "markdown",
   "metadata": {},
   "source": [
    "With vectors and arrays we can do linear algebra as expected. To use the related package, one need to run"
   ]
  },
  {
   "cell_type": "code",
   "execution_count": 33,
   "metadata": {},
   "outputs": [],
   "source": [
    "using LinearAlgebra"
   ]
  },
  {
   "cell_type": "markdown",
   "metadata": {},
   "source": [
    "##### Packages\n",
    "\n",
    "Why do we need to do that? Most functions and structures in Julia are not loaded automatically, but are found in packages that one needs to load when needed. This way\n",
    " - the base language is lighter\n",
    " - name conflicts are rare\n",
    "\n",
    "This is a common behavior (R and Python do the same for example).\n",
    "\n",
    "Many kinds of packages:\n",
    " - some are more 'official' and are even described in the Julia documentation (example: https://docs.julialang.org/en/v1/stdlib/LinearAlgebra/)\n",
    " - some are developed by random people/groups and are completely independent (example: https://github.com/SciML/DifferentialEquations.jl).\n",
    "\n",
    "Some of the official packages are installed automatically along core Julia (LinearAlgebra is like this). All other packages have to be installed on your machine before using the first time."
   ]
  },
  {
   "cell_type": "code",
   "execution_count": 34,
   "metadata": {},
   "outputs": [],
   "source": [
    "A = [0 2 0;\n",
    "     1 0 3]\n",
    "B = [1 0;\n",
    "     2 1;\n",
    "     0 3]\n",
    "c = [1, 2, 3]\n",
    "d = [0, 3, 4]; # the ';' character suppresses output\n"
   ]
  },
  {
   "cell_type": "markdown",
   "metadata": {},
   "source": [
    "mathematical operations for vectors and matrices work as expected. Dimensions have to match!"
   ]
  },
  {
   "cell_type": "code",
   "execution_count": 35,
   "metadata": {},
   "outputs": [
    {
     "data": {
      "text/plain": [
       "3-element Vector{Int64}:\n",
       " 1\n",
       " 5\n",
       " 7"
      ]
     },
     "metadata": {},
     "output_type": "display_data"
    }
   ],
   "source": [
    "c+d"
   ]
  },
  {
   "cell_type": "code",
   "execution_count": 36,
   "metadata": {},
   "outputs": [
    {
     "data": {
      "text/plain": [
       "2-element Vector{Int64}:\n",
       "  4\n",
       " 10"
      ]
     },
     "metadata": {},
     "output_type": "display_data"
    }
   ],
   "source": [
    "A*c"
   ]
  },
  {
   "cell_type": "code",
   "execution_count": 37,
   "metadata": {},
   "outputs": [
    {
     "ename": "DimensionMismatch",
     "evalue": "DimensionMismatch: matrix A has dimensions (3,2), vector B has length 3",
     "output_type": "error",
     "traceback": [
      "DimensionMismatch: matrix A has dimensions (3,2), vector B has length 3\n",
      "\n",
      "Stacktrace:\n",
      " [1] _generic_matvecmul!(C::Vector{Int64}, tA::Char, A::Matrix{Int64}, B::Vector{Int64}, _add::LinearAlgebra.MulAddMul{true, true, Bool, Bool})\n",
      "   @ LinearAlgebra C:\\Program Files (x86)\\Julia-1.10.0\\share\\julia\\stdlib\\v1.10\\LinearAlgebra\\src\\matmul.jl:697\n",
      " [2] generic_matvecmul!\n",
      "   @ C:\\Program Files (x86)\\Julia-1.10.0\\share\\julia\\stdlib\\v1.10\\LinearAlgebra\\src\\matmul.jl:687 [inlined]\n",
      " [3] mul!\n",
      "   @ C:\\Program Files (x86)\\Julia-1.10.0\\share\\julia\\stdlib\\v1.10\\LinearAlgebra\\src\\matmul.jl:66 [inlined]\n",
      " [4] mul!\n",
      "   @ C:\\Program Files (x86)\\Julia-1.10.0\\share\\julia\\stdlib\\v1.10\\LinearAlgebra\\src\\matmul.jl:237 [inlined]\n",
      " [5] *(A::Matrix{Int64}, x::Vector{Int64})\n",
      "   @ LinearAlgebra C:\\Program Files (x86)\\Julia-1.10.0\\share\\julia\\stdlib\\v1.10\\LinearAlgebra\\src\\matmul.jl:57\n",
      " [6] top-level scope\n",
      "   @ c:\\Users\\ZO.4407\\Documents\\GitHub\\IHBM2024\\julia\\tutorial\\2_arrays.ipynb:1"
     ]
    }
   ],
   "source": [
    "B*c"
   ]
  },
  {
   "cell_type": "code",
   "execution_count": 38,
   "metadata": {},
   "outputs": [
    {
     "data": {
      "text/plain": [
       "1×2 adjoint(::Vector{Int64}) with eltype Int64:\n",
       " 5  11"
      ]
     },
     "metadata": {},
     "output_type": "display_data"
    }
   ],
   "source": [
    "c'*B # we had to take the transpose of c\n",
    "\n",
    "# another way of getting the transpose is tr(c)"
   ]
  },
  {
   "cell_type": "code",
   "execution_count": 39,
   "metadata": {},
   "outputs": [
    {
     "data": {
      "text/plain": [
       "2×2 Matrix{Int64}:\n",
       " 4  2\n",
       " 1  9"
      ]
     },
     "metadata": {},
     "output_type": "display_data"
    }
   ],
   "source": [
    "M = A*B"
   ]
  },
  {
   "cell_type": "markdown",
   "metadata": {},
   "source": [
    "the dot product of two vectors can be obtained by"
   ]
  },
  {
   "cell_type": "code",
   "execution_count": 40,
   "metadata": {},
   "outputs": [
    {
     "data": {
      "text/plain": [
       "18"
      ]
     },
     "metadata": {},
     "output_type": "display_data"
    }
   ],
   "source": [
    "dot(c,d)"
   ]
  },
  {
   "cell_type": "markdown",
   "metadata": {},
   "source": [
    "another way is simply"
   ]
  },
  {
   "cell_type": "code",
   "execution_count": 41,
   "metadata": {},
   "outputs": [
    {
     "data": {
      "text/plain": [
       "18"
      ]
     },
     "metadata": {},
     "output_type": "display_data"
    }
   ],
   "source": [
    "c'*d"
   ]
  },
  {
   "cell_type": "markdown",
   "metadata": {},
   "source": [
    "We can solve the\n",
    "\n",
    "$$ Mx= \\begin{bmatrix} 1 \\\\ 2 \\end{bmatrix} $$\n",
    "\n",
    "equation by running"
   ]
  },
  {
   "cell_type": "code",
   "execution_count": 42,
   "metadata": {},
   "outputs": [
    {
     "data": {
      "text/plain": [
       "2-element Vector{Float64}:\n",
       " 0.14705882352941177\n",
       " 0.20588235294117646"
      ]
     },
     "metadata": {},
     "output_type": "display_data"
    }
   ],
   "source": [
    "M\\[1,2]"
   ]
  },
  {
   "cell_type": "markdown",
   "metadata": {},
   "source": [
    "we get the same by inverting `M` manually"
   ]
  },
  {
   "cell_type": "code",
   "execution_count": 43,
   "metadata": {},
   "outputs": [
    {
     "data": {
      "text/plain": [
       "2-element Vector{Float64}:\n",
       " 0.14705882352941177\n",
       " 0.20588235294117646"
      ]
     },
     "metadata": {},
     "output_type": "display_data"
    }
   ],
   "source": [
    "inv(M)*[1,2]"
   ]
  },
  {
   "cell_type": "markdown",
   "metadata": {},
   "source": [
    "For rectangular matrices (i.e. when inverting is impossible), the same command gives the least squares projection."
   ]
  },
  {
   "cell_type": "code",
   "execution_count": 44,
   "metadata": {},
   "outputs": [
    {
     "data": {
      "text/plain": [
       "2-element Vector{Float64}:\n",
       " 0.6086956521739129\n",
       " 0.9782608695652173"
      ]
     },
     "metadata": {},
     "output_type": "display_data"
    }
   ],
   "source": [
    "B\\c"
   ]
  },
  {
   "cell_type": "markdown",
   "metadata": {},
   "source": [
    "### Broadcasting\n",
    "\n",
    "Sometimes we want to apply such functions to whole arrays element-wise which were meant for individual elements only."
   ]
  },
  {
   "cell_type": "code",
   "execution_count": 45,
   "metadata": {},
   "outputs": [
    {
     "ename": "MethodError",
     "evalue": "MethodError: no method matching ^(::Vector{Int64}, ::Int64)\n\nClosest candidates are:\n  ^(!Matched::Float32, ::Integer)\n   @ Base math.jl:1277\n  ^(!Matched::Regex, ::Integer)\n   @ Base regex.jl:863\n  ^(!Matched::Missing, ::Integer)\n   @ Base missing.jl:165\n  ...\n",
     "output_type": "error",
     "traceback": [
      "MethodError: no method matching ^(::Vector{Int64}, ::Int64)\n",
      "\n",
      "Closest candidates are:\n",
      "  ^(!Matched::Float32, ::Integer)\n",
      "   @ Base math.jl:1277\n",
      "  ^(!Matched::Regex, ::Integer)\n",
      "   @ Base regex.jl:863\n",
      "  ^(!Matched::Missing, ::Integer)\n",
      "   @ Base missing.jl:165\n",
      "  ...\n",
      "\n",
      "\n",
      "Stacktrace:\n",
      " [1] literal_pow(f::typeof(^), x::Vector{Int64}, ::Val{3})\n",
      "   @ Base .\\intfuncs.jl:351\n",
      " [2] top-level scope\n",
      "   @ c:\\Users\\ZO.4407\\Documents\\GitHub\\IHBM2024\\julia\\tutorial\\2_arrays.ipynb:1"
     ]
    }
   ],
   "source": [
    "c ^ 3 # throws an error"
   ]
  },
  {
   "cell_type": "markdown",
   "metadata": {},
   "source": [
    "The solution is called *broadcasting*. We simply add a dot after the function or operator!"
   ]
  },
  {
   "cell_type": "code",
   "execution_count": 46,
   "metadata": {},
   "outputs": [
    {
     "name": "stdout",
     "output_type": "stream",
     "text": [
      "[1, 2, 3]\n"
     ]
    },
    {
     "data": {
      "text/plain": [
       "3-element Vector{Int64}:\n",
       "  1\n",
       "  8\n",
       " 27"
      ]
     },
     "metadata": {},
     "output_type": "display_data"
    }
   ],
   "source": [
    "println(c)\n",
    "c .^ 3 # this works"
   ]
  },
  {
   "cell_type": "markdown",
   "metadata": {},
   "source": [
    "> #### Important\n",
    ">\n",
    "> Usually, white spaces don't matter in Julia, but `.` belongs to the operator on which it is applied, and thus cannot be separated."
   ]
  },
  {
   "cell_type": "markdown",
   "metadata": {},
   "source": [
    "For more general functions this works as follows: If `f(arg_1,arg_2,...)` is defined, then `f.` can be applied as `f.(args_1,args_2,...)`, where each `args_i` is a vector consisting of elements like `arg_i` of the original function. \n",
    "\n",
    "#### Exercise\n",
    " 1. write a function that takes two arguments and returns the square of their sum\n",
    " 2. using this function, compute the square of the sum of 5 with each element of `c`\n",
    "\n",
    "If you are done, you can also try doing the same task in one line without defining a new function\n"
   ]
  },
  {
   "cell_type": "code",
   "execution_count": 47,
   "metadata": {},
   "outputs": [
    {
     "data": {
      "text/plain": [
       "3-element Vector{Int64}:\n",
       " 36\n",
       " 49\n",
       " 64"
      ]
     },
     "metadata": {},
     "output_type": "display_data"
    }
   ],
   "source": [
    "# work here\n",
    "\n",
    "function squaresum(x,y)\n",
    "    return (x+y)^2\n",
    "end\n",
    "\n",
    "squaresum.(5,c)"
   ]
  },
  {
   "cell_type": "markdown",
   "metadata": {},
   "source": [
    "one line solution, without defining any function:"
   ]
  },
  {
   "cell_type": "code",
   "execution_count": 48,
   "metadata": {},
   "outputs": [
    {
     "data": {
      "text/plain": [
       "3-element Vector{Int64}:\n",
       " 36\n",
       " 49\n",
       " 64"
      ]
     },
     "metadata": {},
     "output_type": "display_data"
    }
   ],
   "source": [
    "(5 .+ c).^2"
   ]
  },
  {
   "cell_type": "markdown",
   "metadata": {},
   "source": [
    "What happens if we input two arrays to the `squaresum` function? Two cases:\n",
    "1. if the arguments have the same shape, Julia iterates through them parallelly. First index of `d` with first index of `c`, second with second, etc."
   ]
  },
  {
   "cell_type": "code",
   "execution_count": 49,
   "metadata": {},
   "outputs": [
    {
     "name": "stdout",
     "output_type": "stream",
     "text": [
      "([0, 3, 4], [1, 2, 3])\n"
     ]
    },
    {
     "data": {
      "text/plain": [
       "3-element Vector{Int64}:\n",
       "  1\n",
       " 25\n",
       " 49"
      ]
     },
     "metadata": {},
     "output_type": "display_data"
    }
   ],
   "source": [
    "println((d,c))\n",
    "\n",
    "squaresum.(d,c)"
   ]
  },
  {
   "cell_type": "markdown",
   "metadata": {},
   "source": [
    "2. if not, Julia takes the Cartesian product of the indices, i.e. looks at all the combinations of indices of the two objects. This happens if we make one of the inputs a row vector. For example, the result in the 2nd row and 3rd column is `36`, because the third element of `d` is `4` and second element of `c` is `2` and we get `(4+2)^2`."
   ]
  },
  {
   "cell_type": "code",
   "execution_count": 50,
   "metadata": {},
   "outputs": [
    {
     "data": {
      "text/plain": [
       "3×3 Matrix{Int64}:\n",
       " 1  16  25\n",
       " 4  25  36\n",
       " 9  36  49"
      ]
     },
     "metadata": {},
     "output_type": "display_data"
    }
   ],
   "source": [
    "squaresum.(reshape(d,1,3),c) # or squaresum.(d',c)"
   ]
  },
  {
   "cell_type": "markdown",
   "metadata": {},
   "source": [
    "### Useful functions of arrays"
   ]
  },
  {
   "cell_type": "code",
   "execution_count": 51,
   "metadata": {},
   "outputs": [
    {
     "data": {
      "text/plain": [
       "3×4 Matrix{Float64}:\n",
       " 0.670996  0.697865  0.835244   0.169438\n",
       " 0.502806  0.249939  0.0511489  0.317309\n",
       " 0.510362  0.111627  0.795966   0.225291"
      ]
     },
     "metadata": {},
     "output_type": "display_data"
    }
   ],
   "source": [
    "A = rand(3,4)"
   ]
  },
  {
   "cell_type": "markdown",
   "metadata": {},
   "source": [
    "number of elements:"
   ]
  },
  {
   "cell_type": "code",
   "execution_count": 52,
   "metadata": {},
   "outputs": [
    {
     "data": {
      "text/plain": [
       "12"
      ]
     },
     "metadata": {},
     "output_type": "display_data"
    }
   ],
   "source": [
    "length(A)"
   ]
  },
  {
   "cell_type": "markdown",
   "metadata": {},
   "source": [
    "a range over all elements:"
   ]
  },
  {
   "cell_type": "code",
   "execution_count": 53,
   "metadata": {},
   "outputs": [
    {
     "data": {
      "text/plain": [
       "Base.OneTo(12)"
      ]
     },
     "metadata": {},
     "output_type": "display_data"
    }
   ],
   "source": [
    "eachindex(A)"
   ]
  },
  {
   "cell_type": "markdown",
   "metadata": {},
   "source": [
    "dimensions:"
   ]
  },
  {
   "cell_type": "code",
   "execution_count": 54,
   "metadata": {},
   "outputs": [
    {
     "data": {
      "text/plain": [
       "(3, 4)"
      ]
     },
     "metadata": {},
     "output_type": "display_data"
    }
   ],
   "source": [
    "size(A)"
   ]
  },
  {
   "cell_type": "markdown",
   "metadata": {},
   "source": [
    "length over dimension 2:"
   ]
  },
  {
   "cell_type": "code",
   "execution_count": 55,
   "metadata": {},
   "outputs": [
    {
     "data": {
      "text/plain": [
       "4"
      ]
     },
     "metadata": {},
     "output_type": "display_data"
    }
   ],
   "source": [
    "size(A,2)"
   ]
  },
  {
   "cell_type": "markdown",
   "metadata": {},
   "source": [
    "range separately over dimensions:"
   ]
  },
  {
   "cell_type": "code",
   "execution_count": 56,
   "metadata": {},
   "outputs": [
    {
     "data": {
      "text/plain": [
       "(Base.OneTo(3), Base.OneTo(4))"
      ]
     },
     "metadata": {},
     "output_type": "display_data"
    }
   ],
   "source": [
    "axes(A)"
   ]
  },
  {
   "cell_type": "markdown",
   "metadata": {},
   "source": [
    "range separately over dimension 2:"
   ]
  },
  {
   "cell_type": "code",
   "execution_count": 57,
   "metadata": {},
   "outputs": [
    {
     "data": {
      "text/plain": [
       "Base.OneTo(4)"
      ]
     },
     "metadata": {},
     "output_type": "display_data"
    }
   ],
   "source": [
    "axes(A,2)"
   ]
  },
  {
   "cell_type": "markdown",
   "metadata": {},
   "source": [
    "##### How to add elements to an existing vector?"
   ]
  },
  {
   "cell_type": "code",
   "execution_count": 58,
   "metadata": {},
   "outputs": [
    {
     "data": {
      "text/plain": [
       "5-element Vector{Float64}:\n",
       " 0.32775482769191444\n",
       " 0.47750100529178063\n",
       " 0.4355109281256926\n",
       " 0.863795274883595\n",
       " 0.662902899339634"
      ]
     },
     "metadata": {},
     "output_type": "display_data"
    }
   ],
   "source": [
    "a = rand(5)"
   ]
  },
  {
   "cell_type": "markdown",
   "metadata": {},
   "source": [
    "`push!` adds a new element to the end of the vector. Note that no new vector is created, but `a` is modified! Actually, it is a Julia convention that all functions amending some of its inputs have a `!` in the end of the function name."
   ]
  },
  {
   "cell_type": "code",
   "execution_count": 59,
   "metadata": {},
   "outputs": [
    {
     "data": {
      "text/plain": [
       "6-element Vector{Float64}:\n",
       "  0.32775482769191444\n",
       "  0.47750100529178063\n",
       "  0.4355109281256926\n",
       "  0.863795274883595\n",
       "  0.662902899339634\n",
       " 13.0"
      ]
     },
     "metadata": {},
     "output_type": "display_data"
    }
   ],
   "source": [
    "push!(a,13.0)"
   ]
  },
  {
   "cell_type": "code",
   "execution_count": 60,
   "metadata": {},
   "outputs": [
    {
     "data": {
      "text/plain": [
       "6-element Vector{Float64}:\n",
       "  0.32775482769191444\n",
       "  0.47750100529178063\n",
       "  0.4355109281256926\n",
       "  0.863795274883595\n",
       "  0.662902899339634\n",
       " 13.0"
      ]
     },
     "metadata": {},
     "output_type": "display_data"
    }
   ],
   "source": [
    "a"
   ]
  },
  {
   "cell_type": "markdown",
   "metadata": {},
   "source": [
    "`pushfirst!` inserts an element to the first position:"
   ]
  },
  {
   "cell_type": "code",
   "execution_count": 61,
   "metadata": {},
   "outputs": [
    {
     "data": {
      "text/plain": [
       "7-element Vector{Float64}:\n",
       "  0.0\n",
       "  0.32775482769191444\n",
       "  0.47750100529178063\n",
       "  0.4355109281256926\n",
       "  0.863795274883595\n",
       "  0.662902899339634\n",
       " 13.0"
      ]
     },
     "metadata": {},
     "output_type": "display_data"
    }
   ],
   "source": [
    "pushfirst!(a, 0.0)"
   ]
  },
  {
   "cell_type": "markdown",
   "metadata": {},
   "source": [
    "`insert!` can insert an element to the position of your choice"
   ]
  },
  {
   "cell_type": "code",
   "execution_count": 62,
   "metadata": {},
   "outputs": [
    {
     "data": {
      "text/plain": [
       "8-element Vector{Float64}:\n",
       "  0.0\n",
       "  0.32775482769191444\n",
       "  2.0\n",
       "  0.47750100529178063\n",
       "  0.4355109281256926\n",
       "  0.863795274883595\n",
       "  0.662902899339634\n",
       " 13.0"
      ]
     },
     "metadata": {},
     "output_type": "display_data"
    }
   ],
   "source": [
    "insert!(a,3,2.0) # inserts 2.0 to the 3rd position "
   ]
  }
 ],
 "metadata": {
  "kernelspec": {
   "display_name": "Julia 1.10.0",
   "language": "julia",
   "name": "julia-1.10"
  },
  "language_info": {
   "file_extension": ".jl",
   "mimetype": "application/julia",
   "name": "julia",
   "version": "1.10.0"
  }
 },
 "nbformat": 4,
 "nbformat_minor": 2
}
