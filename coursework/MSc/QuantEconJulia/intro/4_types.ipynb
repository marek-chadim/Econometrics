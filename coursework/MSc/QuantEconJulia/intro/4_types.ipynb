{
 "cells": [
  {
   "cell_type": "markdown",
   "metadata": {},
   "source": [
    "# Types\n",
    "\n",
    "In Julia everything is an object and every object has a type. Most importantly, an object's type determines which functions accept that object as in input."
   ]
  },
  {
   "cell_type": "code",
   "execution_count": 4,
   "metadata": {},
   "outputs": [
    {
     "ename": "MethodError",
     "evalue": "MethodError: no method matching !(::Int64)\n\nClosest candidates are:\n  !(!Matched::Missing)\n   @ Base missing.jl:101\n  !(!Matched::Bool)\n   @ Base bool.jl:35\n  !(!Matched::ComposedFunction{typeof(!)})\n   @ Base operators.jl:1099\n  ...\n",
     "output_type": "error",
     "traceback": [
      "MethodError: no method matching !(::Int64)\n",
      "\n",
      "Closest candidates are:\n",
      "  !(!Matched::Missing)\n",
      "   @ Base missing.jl:101\n",
      "  !(!Matched::Bool)\n",
      "   @ Base bool.jl:35\n",
      "  !(!Matched::ComposedFunction{typeof(!)})\n",
      "   @ Base operators.jl:1099\n",
      "  ...\n",
      "\n",
      "\n",
      "Stacktrace:\n",
      " [1] top-level scope\n",
      "   @ c:\\Users\\HP\\Documents\\Github\\IHBM2024\\julia\\tutorial\\4_types.ipynb:1"
     ]
    }
   ],
   "source": [
    "!3 #wrong type"
   ]
  },
  {
   "cell_type": "markdown",
   "metadata": {},
   "source": [
    "In Julia, users have a lot of control over structuring objects and determining which functions apply to which objects. This means we can create types and define function on them! Before learning that let's first take a closer look at types already existing in Julia."
   ]
  },
  {
   "cell_type": "markdown",
   "metadata": {},
   "source": [
    "### Numbers\n",
    "\n",
    "We will work the most with integers and floating point numbers (these express decimal fractions)."
   ]
  },
  {
   "cell_type": "code",
   "execution_count": 5,
   "metadata": {},
   "outputs": [
    {
     "data": {
      "text/plain": [
       "2-element Vector{DataType}:\n",
       " Int64\n",
       " Float64"
      ]
     },
     "metadata": {},
     "output_type": "display_data"
    }
   ],
   "source": [
    "[typeof(3), typeof(3.0)]"
   ]
  },
  {
   "cell_type": "markdown",
   "metadata": {},
   "source": [
    "64 means that information is stored in 64 bits. Means 2^64 different numbers of each kind. This is\n",
    " - a lot,\n",
    " - but **finite**!\n",
    "\n",
    "No need to know technicalities, but useful to keep in mind certain consequences of the finiteness of computers.\n",
    "\n",
    "1. There exist largest and smallest numbers! (can find maximums by running `typemax(Int64)` and `floatmax(Float64)`) Going over bounds will result in very strange behavior:"
   ]
  },
  {
   "cell_type": "code",
   "execution_count": 6,
   "metadata": {},
   "outputs": [
    {
     "data": {
      "text/plain": [
       "0"
      ]
     },
     "metadata": {},
     "output_type": "display_data"
    }
   ],
   "source": [
    "10^12321354563"
   ]
  },
  {
   "cell_type": "code",
   "execution_count": 7,
   "metadata": {},
   "outputs": [
    {
     "data": {
      "text/plain": [
       "Inf"
      ]
     },
     "metadata": {},
     "output_type": "display_data"
    }
   ],
   "source": [
    "10.1^12321354563"
   ]
  },
  {
   "cell_type": "markdown",
   "metadata": {},
   "source": [
    "Btw `Inf` is a Float64 'number' which is defined to be larger than any number:"
   ]
  },
  {
   "cell_type": "code",
   "execution_count": 8,
   "metadata": {},
   "outputs": [
    {
     "data": {
      "text/plain": [
       "true"
      ]
     },
     "metadata": {},
     "output_type": "display_data"
    }
   ],
   "source": [
    "Inf>10^125"
   ]
  },
  {
   "cell_type": "markdown",
   "metadata": {},
   "source": [
    "2. Floating point numbers are not dense (in the topological sense): For any floating point number $x$ there is an $eps(x)$ such that no floating point number between $x$ and $x + eps(x)$.\n",
    "\n",
    "> #### Important:\n",
    "> floating point numbers are more dense the closer they are to 0, so doing operations with large numbers is usually less precise."
   ]
  },
  {
   "cell_type": "code",
   "execution_count": 9,
   "metadata": {},
   "outputs": [
    {
     "data": {
      "text/plain": [
       "5.0e-324"
      ]
     },
     "metadata": {},
     "output_type": "display_data"
    }
   ],
   "source": [
    "eps(0.0)"
   ]
  },
  {
   "cell_type": "markdown",
   "metadata": {},
   "source": [
    "means that the next number after 0 is $5*e^{-324}$. One can live with this. For numbers with big absolute values the increments are larger:"
   ]
  },
  {
   "cell_type": "code",
   "execution_count": 10,
   "metadata": {},
   "outputs": [
    {
     "data": {
      "text/plain": [
       "1.4551915228366852e-11"
      ]
     },
     "metadata": {},
     "output_type": "display_data"
    }
   ],
   "source": [
    "eps(100000.0)"
   ]
  },
  {
   "cell_type": "markdown",
   "metadata": {},
   "source": [
    "The consequence is that floating point operations are usually not completely precise, but involve some rounding errors:"
   ]
  },
  {
   "cell_type": "code",
   "execution_count": 11,
   "metadata": {},
   "outputs": [
    {
     "data": {
      "text/plain": [
       "0.19999999999999996"
      ]
     },
     "metadata": {},
     "output_type": "display_data"
    }
   ],
   "source": [
    "1.0-0.8"
   ]
  },
  {
   "cell_type": "code",
   "execution_count": 12,
   "metadata": {},
   "outputs": [
    {
     "name": "stdout",
     "output_type": "stream",
     "text": [
      "5.551115123125783e-17\n"
     ]
    },
    {
     "data": {
      "text/plain": [
       "2.7755575615628914e-17"
      ]
     },
     "metadata": {},
     "output_type": "display_data"
    }
   ],
   "source": [
    "println(0.2-(1.0-0.8))\n",
    "\n",
    "eps(0.2)"
   ]
  },
  {
   "cell_type": "markdown",
   "metadata": {},
   "source": [
    "Since this was a rather simple operation, the size of numerical error is the same magnitude as suggested by `eps`. In a more complex example, numerical errors can amplify each other."
   ]
  },
  {
   "cell_type": "markdown",
   "metadata": {},
   "source": [
    "### Strings and characters\n",
    "\n",
    "Strings are finite sequences of characters. We define them using `\"\"`."
   ]
  },
  {
   "cell_type": "code",
   "execution_count": 13,
   "metadata": {},
   "outputs": [
    {
     "data": {
      "text/plain": [
       "\"This is a string.\""
      ]
     },
     "metadata": {},
     "output_type": "display_data"
    }
   ],
   "source": [
    "st = \"This is a string.\""
   ]
  },
  {
   "cell_type": "code",
   "execution_count": 14,
   "metadata": {},
   "outputs": [
    {
     "name": "stdout",
     "output_type": "stream",
     "text": [
      "String\n",
      "h\n",
      "Char\n"
     ]
    }
   ],
   "source": [
    "println(typeof(st))\n",
    "println(st[2]) # second character of st is an 'h'\n",
    "println(typeof(st[2]))"
   ]
  },
  {
   "cell_type": "markdown",
   "metadata": {},
   "source": [
    "Anything between `\"\"` signs is a string and hence cannot be used for other things. `\"14\"` is still a string, not a number!  "
   ]
  },
  {
   "cell_type": "code",
   "execution_count": 15,
   "metadata": {},
   "outputs": [
    {
     "ename": "MethodError",
     "evalue": "MethodError: no method matching sqrt(::String)\n\nClosest candidates are:\n  sqrt(!Matched::BigInt)\n   @ Base mpfr.jl:644\n  sqrt(!Matched::Float16)\n   @ Base math.jl:1558\n  sqrt(!Matched::BigFloat)\n   @ Base mpfr.jl:636\n  ...\n",
     "output_type": "error",
     "traceback": [
      "MethodError: no method matching sqrt(::String)\n",
      "\n",
      "Closest candidates are:\n",
      "  sqrt(!Matched::BigInt)\n",
      "   @ Base mpfr.jl:644\n",
      "  sqrt(!Matched::Float16)\n",
      "   @ Base math.jl:1558\n",
      "  sqrt(!Matched::BigFloat)\n",
      "   @ Base mpfr.jl:636\n",
      "  ...\n",
      "\n",
      "\n",
      "Stacktrace:\n",
      " [1] top-level scope\n",
      "   @ c:\\Users\\HP\\Documents\\Github\\IHBM2024\\julia\\tutorial\\4_types.ipynb:1"
     ]
    }
   ],
   "source": [
    "sqrt(\"14\") # won't work"
   ]
  },
  {
   "cell_type": "markdown",
   "metadata": {},
   "source": [
    "This particular string can however be converted into a number"
   ]
  },
  {
   "cell_type": "code",
   "execution_count": 16,
   "metadata": {},
   "outputs": [
    {
     "data": {
      "text/plain": [
       "3.7416573867739413"
      ]
     },
     "metadata": {},
     "output_type": "display_data"
    }
   ],
   "source": [
    "sqrt(parse(Int64,\"14\")) # this works"
   ]
  },
  {
   "cell_type": "markdown",
   "metadata": {},
   "source": [
    "turning numbers into strings is more intuitive:"
   ]
  },
  {
   "cell_type": "code",
   "execution_count": 17,
   "metadata": {},
   "outputs": [
    {
     "data": {
      "text/plain": [
       "\"1.4\""
      ]
     },
     "metadata": {},
     "output_type": "display_data"
    }
   ],
   "source": [
    "string(1.4)"
   ]
  },
  {
   "cell_type": "markdown",
   "metadata": {},
   "source": [
    "Strings are iterables, that's why `st[2]` returns something sensible. We can therefore iterate over them!"
   ]
  },
  {
   "cell_type": "code",
   "execution_count": 18,
   "metadata": {},
   "outputs": [
    {
     "name": "stdout",
     "output_type": "stream",
     "text": [
      "T\n",
      "H\n",
      "I\n",
      "S\n",
      " \n",
      "I\n",
      "S\n",
      " \n",
      "A\n",
      " \n",
      "S\n",
      "T\n",
      "R\n",
      "I\n",
      "N\n",
      "G\n",
      ".\n"
     ]
    }
   ],
   "source": [
    "for s in st\n",
    "    println(uppercase(s))\n",
    "end"
   ]
  },
  {
   "cell_type": "markdown",
   "metadata": {},
   "source": [
    "we can also take a subset of them like of vectors:"
   ]
  },
  {
   "cell_type": "code",
   "execution_count": 19,
   "metadata": {},
   "outputs": [
    {
     "data": {
      "text/plain": [
       "\"This\""
      ]
     },
     "metadata": {},
     "output_type": "display_data"
    }
   ],
   "source": [
    "st[1:4]"
   ]
  },
  {
   "cell_type": "markdown",
   "metadata": {},
   "source": [
    "There are plenty of functions operating on strings. We cover two important features:\n",
    "\n",
    "##### Concatenation of strings\n",
    "\n",
    "One can attach strings together by the `*` operator"
   ]
  },
  {
   "cell_type": "code",
   "execution_count": 20,
   "metadata": {},
   "outputs": [
    {
     "data": {
      "text/plain": [
       "\"Without interruption\""
      ]
     },
     "metadata": {},
     "output_type": "display_data"
    }
   ],
   "source": [
    "\"Witho\"*\"ut\"*\" \"*\"interru\"*\"ption\""
   ]
  },
  {
   "cell_type": "markdown",
   "metadata": {},
   "source": [
    "##### String interpolation\n",
    "\n",
    "Sometimes we want to combine strings with the result of some (potentially non-string) expression. We could usually convert our result to string and then use `*`, but the so-called sting interpolation is more convenient:"
   ]
  },
  {
   "cell_type": "code",
   "execution_count": 21,
   "metadata": {},
   "outputs": [
    {
     "name": "stdout",
     "output_type": "stream",
     "text": [
      "Let's add up 2 and 5 ! Wow, we got 7!!!\n"
     ]
    },
    {
     "data": {
      "text/plain": [
       "7"
      ]
     },
     "metadata": {},
     "output_type": "display_data"
    }
   ],
   "source": [
    "function enthusiastic_summing(x,y)\n",
    "    println(\"Let's add up $x and $y ! Wow, we got $(x+y)!!!\")\n",
    "    return x+y\n",
    "end\n",
    "\n",
    "enthusiastic_summing(2,5)"
   ]
  },
  {
   "cell_type": "markdown",
   "metadata": {},
   "source": [
    "## End of Tuesday lecture in this file"
   ]
  },
  {
   "cell_type": "markdown",
   "metadata": {},
   "source": [
    "#### Exercise\n",
    "\n",
    "Write a function that takes a positive integer $n$, and for each integer $i$ from $1$ to $n$ it prints the following sentence: The sum of the first $i$ positive integers is ... ."
   ]
  },
  {
   "cell_type": "code",
   "execution_count": 1,
   "metadata": {},
   "outputs": [
    {
     "name": "stdout",
     "output_type": "stream",
     "text": [
      "The sum of the first 1 positive integers is 1\n",
      "The sum of the first 2 positive integers is 3\n",
      "The sum of the first 3 positive integers is 6\n",
      "The sum of the first 4 positive integers is 10\n",
      "The sum of the first 5 positive integers is 15\n",
      "The sum of the first 6 positive integers is 21\n",
      "The sum of the first 7 positive integers is 28\n",
      "The sum of the first 8 positive integers is 36\n"
     ]
    }
   ],
   "source": [
    "# work here\n",
    "function printsum(n)\n",
    "    s = 0\n",
    "    for i in 1:n\n",
    "        s = s + i\n",
    "        println(\"The sum of the first $i positive integers is $s\")\n",
    "    end\n",
    "end\n",
    "\n",
    "printsum(8)"
   ]
  },
  {
   "cell_type": "code",
   "execution_count": null,
   "metadata": {},
   "outputs": [],
   "source": [
    "# next class start with this\n",
    "\n",
    "using Pkg\n",
    "Pkg.add(\"TypeTree\")\n",
    "Pkg.add(\"Roots\")\n",
    "Pkg.add(\"Optim\")\n",
    "Pkg.add(\"DataFrames\")\n",
    "Pkg.add(\"Interpolations\")\n",
    "Pkg.add(\"CSV\")"
   ]
  },
  {
   "cell_type": "markdown",
   "metadata": {},
   "source": [
    "### Types and Methods   \n",
    "\n",
    "To emphasize how general types we can create, consider the following example. First we create an abstract type for animals and two concrete subtypes of it: one for dogs and one for cats."
   ]
  },
  {
   "cell_type": "code",
   "execution_count": 3,
   "metadata": {},
   "outputs": [],
   "source": [
    "abstract type AbstractAnimal end\n",
    "\n",
    "struct Dog<:AbstractAnimal    # Dog is a subtype of AbstractAnimal\n",
    "    name::String              # name must be a string\n",
    "    age::Integer\n",
    "    shoes::Integer\n",
    "end\n",
    "\n",
    "struct Cat<:AbstractAnimal \n",
    "    name::String\n",
    "    age::Integer\n",
    "    victim::String\n",
    "end"
   ]
  },
  {
   "cell_type": "markdown",
   "metadata": {},
   "source": [
    "Let's create some example animals: "
   ]
  },
  {
   "cell_type": "code",
   "execution_count": 4,
   "metadata": {},
   "outputs": [
    {
     "data": {
      "text/plain": [
       "Cat(\"Kitty\", 2, \"\")"
      ]
     },
     "metadata": {},
     "output_type": "display_data"
    }
   ],
   "source": [
    "a = Dog(\"Ginger\",11,3)\n",
    "\n",
    "b = Cat(\"Molly\", 4, \"tiny birds\")\n",
    "\n",
    "c = Cat(\"Kitty\", 2, \"\")"
   ]
  },
  {
   "cell_type": "code",
   "execution_count": 8,
   "metadata": {},
   "outputs": [
    {
     "data": {
      "text/plain": [
       "\"Molly\""
      ]
     },
     "metadata": {},
     "output_type": "display_data"
    }
   ],
   "source": [
    "b.name"
   ]
  },
  {
   "cell_type": "markdown",
   "metadata": {},
   "source": [
    "Now we create some functions:"
   ]
  },
  {
   "cell_type": "code",
   "execution_count": 6,
   "metadata": {},
   "outputs": [
    {
     "data": {
      "text/plain": [
       "name (generic function with 2 methods)"
      ]
     },
     "metadata": {},
     "output_type": "display_data"
    }
   ],
   "source": [
    "function name(a::AbstractAnimal) # this method applies to inputs, which are belong to some subtype of AbstractAnimal \n",
    "    return a.name\n",
    "end\n",
    "\n",
    "function name(c::Cat) # this method applies to inputs, which are cats!\n",
    "    if length(c.victim)>0\n",
    "        return c.name*\" the Killer\"\n",
    "    else\n",
    "        return c.name*\" the Innocent\"\n",
    "    end\n",
    "end"
   ]
  },
  {
   "cell_type": "markdown",
   "metadata": {},
   "source": [
    "When applying `name(animal)` Julia looks for the most specific function method that applies to the particular species of animal.\n",
    " - For dogs, only the generic function for any animal works, so that is applied.\n",
    " - For cats, the more specific function for cats will be called."
   ]
  },
  {
   "cell_type": "code",
   "execution_count": 7,
   "metadata": {},
   "outputs": [
    {
     "name": "stdout",
     "output_type": "stream",
     "text": [
      "Ginger\n",
      "Molly the Killer\n",
      "Kitty the Innocent\n"
     ]
    }
   ],
   "source": [
    "println(name(a))\n",
    "println(name(b))\n",
    "println(name(c))"
   ]
  },
  {
   "cell_type": "code",
   "execution_count": null,
   "metadata": {},
   "outputs": [],
   "source": [
    "function intro(a::AbstractAnimal)\n",
    "    return \"My name is $(name(a)), I am $(a.age) years old and I enjoy $(main_activity(a)).\"\n",
    "end\n",
    "\n",
    "function main_activity(d::Dog)\n",
    "    return \"chewing at least $(d.shoes) shoes per day\"\n",
    "end\n",
    "\n",
    "function main_activity(c::Cat)\n",
    "    if length(c.victim) > 0\n",
    "        return \"massacring \"*c.victim\n",
    "    else\n",
    "        return \"sleeping\"\n",
    "    end\n",
    "end"
   ]
  },
  {
   "cell_type": "markdown",
   "metadata": {},
   "source": [
    "`intro` can be called on any type of animal. But inside, those methods of `name` and `main_activity` are called, which suit best the tyep of the original input of `intro`."
   ]
  },
  {
   "cell_type": "code",
   "execution_count": null,
   "metadata": {},
   "outputs": [],
   "source": [
    "println(intro(a))\n",
    "println(intro(b))\n",
    "println(intro(c))"
   ]
  },
  {
   "cell_type": "markdown",
   "metadata": {},
   "source": [
    "### Types of Types\n",
    "\n",
    "- Abstract types\n",
    "- Concrete types\n",
    "\n",
    "The main difference is that one cannot create an object that is of an abstract type. In other words, every object belongs to some concrete type. Abstract types are only used to organize concrete types in a tree, to make it simpler to write general functions (consider our function `intro` above as an example, acting on abstract type `AbstractAnimal`)."
   ]
  },
  {
   "cell_type": "code",
   "execution_count": 9,
   "metadata": {},
   "outputs": [
    {
     "data": {
      "text/plain": [
       "Float64"
      ]
     },
     "metadata": {},
     "output_type": "display_data"
    }
   ],
   "source": [
    "typeof(3.1)"
   ]
  },
  {
   "cell_type": "code",
   "execution_count": 10,
   "metadata": {},
   "outputs": [
    {
     "data": {
      "text/plain": [
       "Int64"
      ]
     },
     "metadata": {},
     "output_type": "display_data"
    }
   ],
   "source": [
    "typeof(3)"
   ]
  },
  {
   "cell_type": "markdown",
   "metadata": {},
   "source": [
    "Both Float64 and Int64 are subtype of an abstract type Number"
   ]
  },
  {
   "cell_type": "code",
   "execution_count": 11,
   "metadata": {},
   "outputs": [
    {
     "data": {
      "text/plain": [
       "true"
      ]
     },
     "metadata": {},
     "output_type": "display_data"
    }
   ],
   "source": [
    "Float64<:Number && Int64<:Number"
   ]
  },
  {
   "cell_type": "markdown",
   "metadata": {},
   "source": [
    "So how many types of numbers exist? A lot! Let's take a look!"
   ]
  },
  {
   "cell_type": "code",
   "execution_count": null,
   "metadata": {},
   "outputs": [],
   "source": [
    "#using Pkg\n",
    "#Pkg.add(\"TypeTree\")\n"
   ]
  },
  {
   "cell_type": "code",
   "execution_count": 12,
   "metadata": {},
   "outputs": [
    {
     "name": "stdout",
     "output_type": "stream",
     "text": [
      "Number\n",
      " ├─ Base.MultiplicativeInverses.MultiplicativeInverse\n",
      " │   ├─ Base.MultiplicativeInverses.SignedMultiplicativeInverse\n",
      " │   └─ Base.MultiplicativeInverses.UnsignedMultiplicativeInverse\n",
      " ├─ Complex\n",
      " └─ Real\n",
      "     ├─ AbstractFloat\n",
      "     │   ├─ BigFloat\n",
      "     │   ├─ Float16\n",
      "     │   ├─ Float32\n",
      "     │   └─ Float64\n",
      "     ├─ AbstractIrrational\n",
      "     │   └─ Irrational\n",
      "     ├─ Integer\n",
      "     │   ├─ Bool\n",
      "     │   ├─ Signed\n",
      "     │   │   ├─ BigInt\n",
      "     │   │   ├─ Int128\n",
      "     │   │   ├─ Int16\n",
      "     │   │   ├─ Int32\n",
      "     │   │   ├─ Int64\n",
      "     │   │   └─ Int8\n",
      "     │   └─ Unsigned\n",
      "     │       ├─ UInt128\n",
      "     │       ├─ UInt16\n",
      "     │       ├─ UInt32\n",
      "     │       ├─ UInt64\n",
      "     │       └─ UInt8\n",
      "     └─ Rational\n",
      "\n"
     ]
    }
   ],
   "source": [
    "using TypeTree\n",
    "println(join(tt(Number), \"\"))"
   ]
  },
  {
   "cell_type": "code",
   "execution_count": 13,
   "metadata": {},
   "outputs": [
    {
     "data": {
      "text/plain": [
       "Any"
      ]
     },
     "metadata": {},
     "output_type": "display_data"
    }
   ],
   "source": [
    "supertype(Number)"
   ]
  },
  {
   "cell_type": "code",
   "execution_count": 14,
   "metadata": {},
   "outputs": [
    {
     "name": "stdout",
     "output_type": "stream",
     "text": [
      "AbstractAnimal\n",
      " ├─ Cat\n",
      " └─ Dog\n",
      "\n",
      "supertype of AbstractAnimal is Any\n"
     ]
    }
   ],
   "source": [
    "println(join(tt(AbstractAnimal), \"\"))\n",
    "println(\"supertype of AbstractAnimal is $(supertype(AbstractAnimal))\")"
   ]
  },
  {
   "cell_type": "markdown",
   "metadata": {},
   "source": [
    "### Types of Concrete types\n",
    "\n",
    "- Primitive types\n",
    "- Composite types\n",
    "\n",
    "Primitive types pertain in which format exactly data is stored in the memory, so common users (like us) never need to define them, we just use them. Examples include `Char` and all concrete subtypes of `Number`, such as `Bool`, `Int64` or `Float64`.\n",
    "\n",
    "Composite types consist of elements (called 'fields'), which are either of some primitive type or belong to some other composite type. `Cat` and `Dog` are composite concrete types, and so are Arrays. Before getting more acquainted with some built-in composite types in Julia, let's note that some of them are immutable, while others are mutable. Fields of immutable objects cannot be changed after the object is created. Composite types created by the `struct` keyword are immutable."
   ]
  },
  {
   "cell_type": "code",
   "execution_count": 15,
   "metadata": {},
   "outputs": [
    {
     "name": "stdout",
     "output_type": "stream",
     "text": [
      "name of 'a' is currently Ginger\n"
     ]
    },
    {
     "ename": "ErrorException",
     "evalue": "setfield!: immutable struct of type Dog cannot be changed",
     "output_type": "error",
     "traceback": [
      "setfield!: immutable struct of type Dog cannot be changed\n",
      "\n",
      "Stacktrace:\n",
      " [1] setproperty!(x::Dog, f::Symbol, v::String)\n",
      "   @ Base .\\Base.jl:41\n",
      " [2] top-level scope\n",
      "   @ c:\\Users\\HP\\Documents\\Github\\IHBM2024\\julia\\tutorial\\4_types.ipynb:2"
     ]
    }
   ],
   "source": [
    "println(\"name of 'a' is currently $(a.name)\")\n",
    "a.name = \"Fluffy\" # this fails"
   ]
  },
  {
   "cell_type": "markdown",
   "metadata": {},
   "source": [
    "### Arrays (again)\n",
    "\n",
    "Arrays are mutable structures. This means that their content can be modified after creation."
   ]
  },
  {
   "cell_type": "code",
   "execution_count": 16,
   "metadata": {},
   "outputs": [
    {
     "data": {
      "text/plain": [
       "2-element Vector{Int64}:\n",
       " 1\n",
       " 2"
      ]
     },
     "metadata": {},
     "output_type": "display_data"
    }
   ],
   "source": [
    "v = [1, 2]"
   ]
  },
  {
   "cell_type": "code",
   "execution_count": 17,
   "metadata": {},
   "outputs": [
    {
     "data": {
      "text/plain": [
       "2-element Vector{Int64}:\n",
       " 3\n",
       " 2"
      ]
     },
     "metadata": {},
     "output_type": "display_data"
    }
   ],
   "source": [
    "v[1] = 3\n",
    "v"
   ]
  },
  {
   "cell_type": "markdown",
   "metadata": {},
   "source": [
    "But you can cannot change the type of an existing array. `v` is a vector of Int64 elements, so this fails:"
   ]
  },
  {
   "cell_type": "code",
   "execution_count": 18,
   "metadata": {},
   "outputs": [
    {
     "ename": "MethodError",
     "evalue": "MethodError: Cannot `convert` an object of type String to an object of type Int64\n\nClosest candidates are:\n  convert(::Type{T}, !Matched::T) where T<:Number\n   @ Base number.jl:6\n  convert(::Type{T}, !Matched::T) where T\n   @ Base Base.jl:84\n  convert(::Type{T}, !Matched::Number) where T<:Number\n   @ Base number.jl:7\n  ...\n",
     "output_type": "error",
     "traceback": [
      "MethodError: Cannot `convert` an object of type String to an object of type Int64\n",
      "\n",
      "Closest candidates are:\n",
      "  convert(::Type{T}, !Matched::T) where T<:Number\n",
      "   @ Base number.jl:6\n",
      "  convert(::Type{T}, !Matched::T) where T\n",
      "   @ Base Base.jl:84\n",
      "  convert(::Type{T}, !Matched::Number) where T<:Number\n",
      "   @ Base number.jl:7\n",
      "  ...\n",
      "\n",
      "\n",
      "Stacktrace:\n",
      " [1] setindex!(A::Vector{Int64}, x::String, i1::Int64)\n",
      "   @ Base .\\array.jl:1021\n",
      " [2] top-level scope\n",
      "   @ c:\\Users\\HP\\Documents\\Github\\IHBM2024\\julia\\tutorial\\4_types.ipynb:1"
     ]
    }
   ],
   "source": [
    "v[2] = \"2\" "
   ]
  },
  {
   "cell_type": "markdown",
   "metadata": {},
   "source": [
    "one could initiate a mixed array though: (it is rarely a good idea nevertheless)"
   ]
  },
  {
   "cell_type": "code",
   "execution_count": 22,
   "metadata": {},
   "outputs": [
    {
     "data": {
      "text/plain": [
       "3-element Vector{Any}:\n",
       " 1\n",
       "  \"2\"\n",
       " 3"
      ]
     },
     "metadata": {},
     "output_type": "display_data"
    }
   ],
   "source": [
    "vec = [1, \"2\", 3]"
   ]
  },
  {
   "cell_type": "code",
   "execution_count": 20,
   "metadata": {},
   "outputs": [
    {
     "data": {
      "text/plain": [
       "2-element Vector{DataType}:\n",
       " Int64\n",
       " String"
      ]
     },
     "metadata": {},
     "output_type": "display_data"
    }
   ],
   "source": [
    "typeof.([1, \"2\"])"
   ]
  },
  {
   "cell_type": "code",
   "execution_count": 25,
   "metadata": {},
   "outputs": [
    {
     "data": {
      "text/plain": [
       "2-element Vector{Int64}:\n",
       " 1\n",
       " 3"
      ]
     },
     "metadata": {},
     "output_type": "display_data"
    }
   ],
   "source": [
    "convert.(Int64,vec[[1,3]])"
   ]
  },
  {
   "cell_type": "markdown",
   "metadata": {},
   "source": [
    "### Adventures with assignment (`=`)\n",
    "\n",
    "Time to get familiar with a more confusing aspect of Julia. This is probably intuitive:"
   ]
  },
  {
   "cell_type": "code",
   "execution_count": 26,
   "metadata": {},
   "outputs": [
    {
     "name": "stdout",
     "output_type": "stream",
     "text": [
      "a is 1, b is 1\n",
      "now a is 1, b is 2\n"
     ]
    }
   ],
   "source": [
    "a = 1\n",
    "b = a # b gets the same value as a\n",
    "println(\"a is $a, b is $b\")\n",
    "b = 2\n",
    "println(\"now a is $a, b is $b\")"
   ]
  },
  {
   "cell_type": "markdown",
   "metadata": {},
   "source": [
    "Same with vectors shows a different behavior. Changing `b` affects `a`."
   ]
  },
  {
   "cell_type": "code",
   "execution_count": 27,
   "metadata": {},
   "outputs": [
    {
     "name": "stdout",
     "output_type": "stream",
     "text": [
      "a is [1, 1], b is [1, 1]\n",
      "now a is [1, 3], b is [1, 3]\n"
     ]
    }
   ],
   "source": [
    "a = [1, 1]\n",
    "b = a\n",
    "println(\"a is $a, b is $b\")\n",
    "b[2] = 3\n",
    "println(\"now a is $a, b is $b\")"
   ]
  },
  {
   "cell_type": "markdown",
   "metadata": {},
   "source": [
    "- What's going on? When seeing `[1, 1]`, Julia puts two `1`s somewhere in the memory and notes their address. Then creates a pointer the the location where this data lives and save this pointer under the name `a`.  `b = a` copies the pointer to name `b` as well, but it still points the **same** place on the memory. So when `b[2] = 3` updates the data on the location where both `a` and `b` points, they both change.\n",
    "\n",
    "- This looks annoying. Why does Julia do this? Julia wants to be fast. For that it is crucial not to copy arrays unless necessary. So not copying is the default behavior.\n",
    "\n",
    "- Why behavior is different when `a` is a number versus an array? Because numbers are stored differently, and copying them is not a performance issue.\n",
    "\n",
    "**TLDR**: `a` is not really a vector, it is only a pointer to a vector. When running `b=a`, the pointer is copied, not the vector.\n",
    "\n",
    "Sometimes you do want to copy the contents of an array. Then you can do this:"
   ]
  },
  {
   "cell_type": "code",
   "execution_count": 28,
   "metadata": {},
   "outputs": [
    {
     "name": "stdout",
     "output_type": "stream",
     "text": [
      "a is [1, 1], b is [1, 1]\n",
      "now a is [1, 1], b is [1, 3]\n"
     ]
    }
   ],
   "source": [
    "a = [1, 1]\n",
    "b = copy(a) # like this 'b' will point to a copy of the vector that 'a' points to\n",
    "println(\"a is $a, b is $b\")\n",
    "b[2] = 3\n",
    "println(\"now a is $a, b is $b\")"
   ]
  },
  {
   "cell_type": "markdown",
   "metadata": {},
   "source": [
    "### Tuples\n",
    "\n",
    "In Julia ordered collections of variables in round brackets are called tuples."
   ]
  },
  {
   "cell_type": "code",
   "execution_count": 29,
   "metadata": {},
   "outputs": [
    {
     "data": {
      "text/plain": [
       "Tuple{Int64, Int64}"
      ]
     },
     "metadata": {},
     "output_type": "display_data"
    }
   ],
   "source": [
    "a = (1,2)\n",
    "typeof(a)"
   ]
  },
  {
   "cell_type": "markdown",
   "metadata": {},
   "source": [
    "We just need to know a couple of things about them. First, since the type of its elements are kept track of separately, it isn't a crime to combine different types in them:"
   ]
  },
  {
   "cell_type": "code",
   "execution_count": 30,
   "metadata": {},
   "outputs": [
    {
     "data": {
      "text/plain": [
       "Tuple{Int64, String}"
      ]
     },
     "metadata": {},
     "output_type": "display_data"
    }
   ],
   "source": [
    "b = (1,\"2\")\n",
    "typeof(b)"
   ]
  },
  {
   "cell_type": "markdown",
   "metadata": {},
   "source": [
    "we can access the elements of tuples like that of arrays:"
   ]
  },
  {
   "cell_type": "code",
   "execution_count": 31,
   "metadata": {},
   "outputs": [
    {
     "data": {
      "text/plain": [
       "1"
      ]
     },
     "metadata": {},
     "output_type": "display_data"
    }
   ],
   "source": [
    "b[1]"
   ]
  },
  {
   "cell_type": "markdown",
   "metadata": {},
   "source": [
    "Tuples are immutable: Once created, its impossible to amend them."
   ]
  },
  {
   "cell_type": "code",
   "execution_count": 32,
   "metadata": {},
   "outputs": [
    {
     "ename": "MethodError",
     "evalue": "MethodError: no method matching setindex!(::Tuple{Int64, String}, ::Int64, ::Int64)",
     "output_type": "error",
     "traceback": [
      "MethodError: no method matching setindex!(::Tuple{Int64, String}, ::Int64, ::Int64)\n",
      "\n",
      "Stacktrace:\n",
      " [1] top-level scope\n",
      "   @ c:\\Users\\HP\\Documents\\Github\\IHBM2024\\julia\\tutorial\\4_types.ipynb:1"
     ]
    }
   ],
   "source": [
    "b[1] = 3"
   ]
  },
  {
   "cell_type": "markdown",
   "metadata": {},
   "source": [
    "Tuples often provide the best way to write a function returning several variables."
   ]
  },
  {
   "cell_type": "code",
   "execution_count": 34,
   "metadata": {},
   "outputs": [
    {
     "name": "stdout",
     "output_type": "stream",
     "text": [
      "9\n",
      "non-negative\n"
     ]
    }
   ],
   "source": [
    "function twooutput(n)\n",
    "    if n<0\n",
    "        m = \"negative\"\n",
    "    else\n",
    "        m = \"non-negative\"\n",
    "    end\n",
    "    return (n^2,m) # brackets here are optional, simply listing the two things would also return a tuple\n",
    "end\n",
    "\n",
    "op = twooutput(3)\n",
    "println(op[1])\n",
    "println(op[2])"
   ]
  },
  {
   "cell_type": "markdown",
   "metadata": {},
   "source": [
    "so the output is a tuple:"
   ]
  },
  {
   "cell_type": "code",
   "execution_count": 35,
   "metadata": {},
   "outputs": [
    {
     "data": {
      "text/plain": [
       "(9, \"non-negative\")"
      ]
     },
     "metadata": {},
     "output_type": "display_data"
    }
   ],
   "source": [
    "op"
   ]
  },
  {
   "cell_type": "markdown",
   "metadata": {},
   "source": [
    "Even more conveniently, we can directly access the outputs like this:"
   ]
  },
  {
   "cell_type": "code",
   "execution_count": 36,
   "metadata": {},
   "outputs": [
    {
     "data": {
      "text/plain": [
       "(9, \"non-negative\")"
      ]
     },
     "metadata": {},
     "output_type": "display_data"
    }
   ],
   "source": [
    "(square, sign) = twooutput(3)"
   ]
  },
  {
   "cell_type": "code",
   "execution_count": 37,
   "metadata": {},
   "outputs": [
    {
     "data": {
      "text/plain": [
       "9"
      ]
     },
     "metadata": {},
     "output_type": "display_data"
    }
   ],
   "source": [
    "square"
   ]
  },
  {
   "cell_type": "code",
   "execution_count": 38,
   "metadata": {},
   "outputs": [
    {
     "data": {
      "text/plain": [
       "\"non-negative\""
      ]
     },
     "metadata": {},
     "output_type": "display_data"
    }
   ],
   "source": [
    "sign"
   ]
  }
 ],
 "metadata": {
  "kernelspec": {
   "display_name": "Julia 1.10.0",
   "language": "julia",
   "name": "julia-1.10"
  },
  "language_info": {
   "file_extension": ".jl",
   "mimetype": "application/julia",
   "name": "julia",
   "version": "1.10.0"
  }
 },
 "nbformat": 4,
 "nbformat_minor": 2
}
