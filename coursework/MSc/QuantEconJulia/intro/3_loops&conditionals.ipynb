{
 "cells": [
  {
   "cell_type": "markdown",
   "metadata": {},
   "source": [
    "# Logic and conditionals"
   ]
  },
  {
   "cell_type": "markdown",
   "metadata": {},
   "source": [
    "### Logical values and basic operations"
   ]
  },
  {
   "cell_type": "markdown",
   "metadata": {},
   "source": [
    "We already encountered logical values such as `true` and `false`. Alternatively, logical values are often called Boolians (named after [this guy](https://en.wikipedia.org/wiki/George_Boole))."
   ]
  },
  {
   "cell_type": "code",
   "execution_count": 2,
   "metadata": {},
   "outputs": [
    {
     "data": {
      "text/plain": [
       "true"
      ]
     },
     "metadata": {},
     "output_type": "display_data"
    }
   ],
   "source": [
    "true"
   ]
  },
  {
   "cell_type": "markdown",
   "metadata": {},
   "source": [
    "Remember that logical values are often represented by 1 and 0. For example, in Julia this happens automatically when putting logicals in an array. This has no practical effect, but note that these numbers are not common integers! (Those would have a format like Int64, or something like that.)"
   ]
  },
  {
   "cell_type": "code",
   "execution_count": 3,
   "metadata": {},
   "outputs": [
    {
     "data": {
      "text/plain": [
       "2-element Vector{Bool}:\n",
       " 1\n",
       " 0"
      ]
     },
     "metadata": {},
     "output_type": "display_data"
    }
   ],
   "source": [
    "[true, false]"
   ]
  },
  {
   "cell_type": "markdown",
   "metadata": {},
   "source": [
    "Even though it shows 0 and 1, the vector still has a Vector{Bool} format, so Julia remembers these are logical values.\n",
    "\n",
    "Three crucial logical operators are\n",
    " - AND: `&&`\n",
    " - OR: `||` and\n",
    " - NOT: `!`.\n",
    "\n",
    "Let's see how these work! `x && y` returns `true` only if both `x` and `y` are `true`:"
   ]
  },
  {
   "cell_type": "code",
   "execution_count": 4,
   "metadata": {},
   "outputs": [
    {
     "data": {
      "text/plain": [
       "4-element Vector{Bool}:\n",
       " 1\n",
       " 0\n",
       " 0\n",
       " 0"
      ]
     },
     "metadata": {},
     "output_type": "display_data"
    }
   ],
   "source": [
    "[true  && true,\n",
    " true  && false,\n",
    " false && true,\n",
    " false && false]"
   ]
  },
  {
   "cell_type": "markdown",
   "metadata": {},
   "source": [
    "`x || y` returns `true` if any of `x` and `y` is `true`:"
   ]
  },
  {
   "cell_type": "code",
   "execution_count": 5,
   "metadata": {},
   "outputs": [
    {
     "data": {
      "text/plain": [
       "4-element Vector{Bool}:\n",
       " 1\n",
       " 1\n",
       " 1\n",
       " 0"
      ]
     },
     "metadata": {},
     "output_type": "display_data"
    }
   ],
   "source": [
    "[true  || true,\n",
    " true  || false,\n",
    " false || true,\n",
    " false || false]"
   ]
  },
  {
   "cell_type": "markdown",
   "metadata": {},
   "source": [
    "`!x` simply negates `x`:"
   ]
  },
  {
   "cell_type": "code",
   "execution_count": 6,
   "metadata": {},
   "outputs": [
    {
     "data": {
      "text/plain": [
       "2-element Vector{Bool}:\n",
       " 0\n",
       " 1"
      ]
     },
     "metadata": {},
     "output_type": "display_data"
    }
   ],
   "source": [
    "[!true, !false]"
   ]
  },
  {
   "cell_type": "markdown",
   "metadata": {},
   "source": [
    "### Logical arrays for indexing\n",
    "\n",
    "If `A` is any array and `B` is\n",
    "- either a logical array of the same dimensions as `A`\n",
    "- or a logical vector of the same length as `A`,\n",
    "\n",
    "we can use it to select elements of `A`! `A[B]` will return in a vector all elements of `A` which are at positions where `B` is true."
   ]
  },
  {
   "cell_type": "code",
   "execution_count": 11,
   "metadata": {},
   "outputs": [
    {
     "data": {
      "text/plain": [
       "2-element Vector{Int64}:\n",
       " 1\n",
       " 3"
      ]
     },
     "metadata": {},
     "output_type": "display_data"
    }
   ],
   "source": [
    "A = [1 2;\n",
    "     3 4]\n",
    "matind = [true false; \n",
    "          true false]\n",
    " \n",
    "A[matind]\n"
   ]
  },
  {
   "cell_type": "code",
   "execution_count": 12,
   "metadata": {},
   "outputs": [
    {
     "data": {
      "text/plain": [
       "2-element Vector{Int64}:\n",
       " 2\n",
       " 4"
      ]
     },
     "metadata": {},
     "output_type": "display_data"
    }
   ],
   "source": [
    "A[.!matind]\n"
   ]
  },
  {
   "cell_type": "code",
   "execution_count": 13,
   "metadata": {},
   "outputs": [
    {
     "data": {
      "text/plain": [
       "2-element Vector{Int64}:\n",
       " 1\n",
       " 3"
      ]
     },
     "metadata": {},
     "output_type": "display_data"
    }
   ],
   "source": [
    "vecind = [true, true, false, false]\n",
    "A[vecind]"
   ]
  },
  {
   "cell_type": "markdown",
   "metadata": {},
   "source": [
    "#### Exercise\n",
    "\n",
    "Write a function that takes an array of numbers as an input and returns the sum of its positive elements. Note that `sum(A)` would return the sum of the elements of `A`.\n",
    "\n",
    "Hint: \n",
    "###### *broadcasting works with comparison operators, such as >*"
   ]
  },
  {
   "cell_type": "code",
   "execution_count": 14,
   "metadata": {},
   "outputs": [
    {
     "data": {
      "text/plain": [
       "4×5 Matrix{Float64}:\n",
       "  1.04628   -0.427615  -0.372709   1.02811    0.404826\n",
       "  0.709475   1.77992    1.92881    1.25414   -0.995253\n",
       " -0.649331   1.4843    -2.14424   -1.51633   -1.37176\n",
       "  1.76138    0.024083   0.514161   0.297968   0.0573274"
      ]
     },
     "metadata": {},
     "output_type": "display_data"
    },
    {
     "data": {
      "text/plain": [
       "4.8135417301875405"
      ]
     },
     "metadata": {},
     "output_type": "display_data"
    }
   ],
   "source": [
    "A = randn(4,5)\n",
    "display(A)\n",
    "sum(A)"
   ]
  },
  {
   "cell_type": "code",
   "execution_count": 31,
   "metadata": {},
   "outputs": [
    {
     "data": {
      "text/plain": [
       "12.29078045433336"
      ]
     },
     "metadata": {},
     "output_type": "display_data"
    }
   ],
   "source": [
    "function sumpos(A)\n",
    "    return sum(A[A .> 0])\n",
    "end\n",
    "\n",
    "sumpos(A)"
   ]
  },
  {
   "cell_type": "markdown",
   "metadata": {},
   "source": [
    "### Conditionals\n",
    "\n",
    "Often we only want to run a piece of code if a certain condition is satisfied. This can be done in several ways.\n",
    "\n",
    "1.\n",
    "\n",
    "```julia\n",
    "if Acondition\n",
    "    Asection\n",
    "end\n",
    "```\n",
    "\n",
    "`Acondition` has to be a logical value. If it is true, `Asection` is run. Otherwise, it is skipped.\n",
    "\n",
    "2.\n",
    "\n",
    "```julia\n",
    "if Acondition\n",
    "    Asection\n",
    "else\n",
    "    Bsection\n",
    "end\n",
    "```\n",
    "\n",
    "If `Acondition` is true, `Asection` is run and `Bsection` is skipped. Otherwise, it is `Asection` which is skipped and `Bsection` runs.\n",
    "\n",
    "3.\n",
    "\n",
    "```julia\n",
    "if Acondition\n",
    "    Asection\n",
    "elseif Bcondition\n",
    "    Bsection\n",
    "elseif Ccondition\n",
    "    Csection\n",
    "...\n",
    "   ...\n",
    "else\n",
    "    Elsesection\n",
    "end\n",
    "```\n",
    "\n",
    "If `Acondition` is true, `Asection` is run and everything below (but before the `end`) is skipped. Otherwise, `Bcondition` is checked. If it is true, `Bsection` is run and everything below (but before the `end`) is skipped. ... Finally, if no conditions were true, then `Elsesection` runs.\n",
    "\n",
    "> #### Important\n",
    "> If Acondition is true, Julia never touches Bsection, even if Bcondition is true. In fact, it would never check Bcondition in this case.\n",
    "\n",
    "#### Exercise\n",
    "\n",
    "Write a function that takes a number and returns the number itself if it is positive, and its negative otherwise."
   ]
  },
  {
   "cell_type": "code",
   "execution_count": 22,
   "metadata": {},
   "outputs": [
    {
     "data": {
      "text/plain": [
       "4"
      ]
     },
     "metadata": {},
     "output_type": "display_data"
    }
   ],
   "source": [
    "# work here\n",
    "\n",
    "x = -4\n",
    "\n",
    "function neg(x)\n",
    "if x>0\n",
    "           return x\n",
    "    else\n",
    "        return -x\n",
    "    end\n",
    "end\n",
    "\n",
    "neg(x)\n",
    "\n",
    "\n"
   ]
  },
  {
   "cell_type": "markdown",
   "metadata": {},
   "source": [
    "### While\n",
    "\n",
    "Two ways of running the same piece of code many times. We start with `while`. Its structure is shown below:\n",
    "\n",
    "```julia\n",
    "while condition\n",
    "    body\n",
    "end\n",
    "```\n",
    "\n",
    "So what happens when a code like this runs? Julia checks if `condition` is true. If no, everything is skipped, the loop is exited. If yes, the `body` of the while loop is run. Then the `condition` is checked again: if it is still true, then the `body` runs again, after which the `condition` is checked, and so on.. The idea of course is that eventually whatever happens in `body`, it should change `condition` to `false`.\n",
    "\n",
    "Therefore, this is not how one should use `while` loops:"
   ]
  },
  {
   "cell_type": "code",
   "execution_count": null,
   "metadata": {},
   "outputs": [],
   "source": [
    "# It is a bad idea to run this cell!\n",
    "\n",
    "while true\n",
    "    println(\"I'm just printing this sentence until you close the window.\")\n",
    "end"
   ]
  },
  {
   "cell_type": "markdown",
   "metadata": {},
   "source": [
    "A more conventional example:"
   ]
  },
  {
   "cell_type": "code",
   "execution_count": 24,
   "metadata": {},
   "outputs": [
    {
     "data": {
      "text/plain": [
       "3.0964400343076712"
      ]
     },
     "metadata": {},
     "output_type": "display_data"
    }
   ],
   "source": [
    "i = 0\n",
    "\n",
    "while i < 3\n",
    "    i = i + randn()   # i += 1\n",
    "end\n",
    "\n",
    "i"
   ]
  },
  {
   "cell_type": "code",
   "execution_count": 29,
   "metadata": {},
   "outputs": [
    {
     "data": {
      "text/plain": [
       "-0.19298715662887858"
      ]
     },
     "metadata": {},
     "output_type": "display_data"
    }
   ],
   "source": [
    "randn()"
   ]
  },
  {
   "cell_type": "markdown",
   "metadata": {},
   "source": [
    "#### Exercise\n",
    "\n",
    "Write a function that takes a positive number as an input, and gives you the largest integer that has a smaller square than the given number. Solve this exercise using `while` and not by taking the square root directly. "
   ]
  },
  {
   "cell_type": "code",
   "execution_count": 30,
   "metadata": {},
   "outputs": [
    {
     "data": {
      "text/plain": [
       "4"
      ]
     },
     "metadata": {},
     "output_type": "display_data"
    }
   ],
   "source": [
    "function smallsquare(x)\n",
    "    i = 0\n",
    "    while i^2<x\n",
    "        i = i+1\n",
    "    end\n",
    "    return i-1\n",
    "end    \n",
    "\n",
    "smallsquare(24)"
   ]
  },
  {
   "cell_type": "markdown",
   "metadata": {},
   "source": [
    "### For\n",
    "\n",
    "The other important loop is the for loop. Looks like this:\n",
    "\n",
    "```julia\n",
    "for iter in iterable\n",
    "    body\n",
    "end\n",
    "```\n",
    "\n",
    "`iterable` has to be an iterable of some sort, i.e. an array, a range, or something like that. In markdown `in` is not colored for some reason, but it is a keyword and cannot be replaced with something else. So how does this works?\n",
    "\n",
    "`body` is run over and over again while `iter` takes all the values in `iterable`. For each value found in `iterable`, `body` runs exactly once, in the order as they appear in `iterable`. The idea is that `body` can do different things as `iter` changes.\n",
    "\n",
    "Important difference bewteen the `while` and `for` loops is that the number of times body is run determined by the length of `iterable` in the case of the `for` loop. `while` loops can be used when you don't know in advance how many times you need to run `body`.\n",
    "\n",
    "Example:"
   ]
  },
  {
   "cell_type": "code",
   "execution_count": 32,
   "metadata": {},
   "outputs": [
    {
     "name": "stdout",
     "output_type": "stream",
     "text": [
      "1\n",
      "4\n",
      "9\n",
      "16\n",
      "25\n"
     ]
    }
   ],
   "source": [
    "for i in 1:5\n",
    "    println(i^2)\n",
    "end"
   ]
  },
  {
   "cell_type": "markdown",
   "metadata": {},
   "source": [
    "#### Exercise\n",
    "\n",
    "Write a function that takes a positive integer $n$ and returns an $n\\times n$ matrix, such that its 1st column is full of 1s, but otherwise is full of 0s. There are many ways of doing this, come up with at least one using `for`."
   ]
  },
  {
   "cell_type": "code",
   "execution_count": null,
   "metadata": {},
   "outputs": [],
   "source": [
    "# work here"
   ]
  },
  {
   "cell_type": "markdown",
   "metadata": {},
   "source": [
    "### Performance\n",
    "\n",
    "Good news! In Julia, loops are fast, no need for vectorization (unlike in R, Python and Matlab)."
   ]
  },
  {
   "cell_type": "markdown",
   "metadata": {},
   "source": [
    "### Comprehensions\n",
    "\n",
    "There is a neat quite Julia-specific way of creating arrays, relying on for loops. Two examples:"
   ]
  },
  {
   "cell_type": "code",
   "execution_count": 33,
   "metadata": {},
   "outputs": [
    {
     "data": {
      "text/plain": [
       "6-element Vector{Int64}:\n",
       "  1\n",
       "  4\n",
       "  9\n",
       " 16\n",
       " 25\n",
       " 36"
      ]
     },
     "metadata": {},
     "output_type": "display_data"
    }
   ],
   "source": [
    "[i^2 for i in 1:6]"
   ]
  },
  {
   "cell_type": "code",
   "execution_count": 34,
   "metadata": {},
   "outputs": [
    {
     "data": {
      "text/plain": [
       "6×6 Matrix{Int64}:\n",
       " 0  -1  -2  -3  -4  -5\n",
       " 1   0  -1  -2  -3  -4\n",
       " 2   1   0  -1  -2  -3\n",
       " 3   2   1   0  -1  -2\n",
       " 4   3   2   1   0  -1\n",
       " 5   4   3   2   1   0"
      ]
     },
     "metadata": {},
     "output_type": "display_data"
    }
   ],
   "source": [
    "[i-j for i in 1:6, j in 1:6]"
   ]
  }
 ],
 "metadata": {
  "kernelspec": {
   "display_name": "Julia 1.10.0",
   "language": "julia",
   "name": "julia-1.10"
  },
  "language_info": {
   "file_extension": ".jl",
   "mimetype": "application/julia",
   "name": "julia",
   "version": "1.10.0"
  }
 },
 "nbformat": 4,
 "nbformat_minor": 2
}
