{
 "cells": [
  {
   "cell_type": "markdown",
   "metadata": {},
   "source": [
    "# Introduction to Julia"
   ]
  },
  {
   "cell_type": "markdown",
   "metadata": {},
   "source": [
    "### What kind of file is this? \n",
    "\n",
    "It is a Jupyter (Julia - Python - R) notebook. It is essentially a collection of two kinds of blocks ('chunks'): code and text. You can navigate across chunks by clicking on it or by up and down arrows. Some useful shortcuts:\n",
    "* With **Enter** you start editing the current chunk. Clicking once (for code chunks) or twice (for text) also works\n",
    "* **Shift+Enter** evaluates the currently selected chunk and jumps to the next one\n",
    "* **Ctrl+Enter** does the same but stays on the current chunk\n",
    "For a text chunk 'evaluating' means leaving the editing mode and showing the formatted text.\n",
    "\n",
    "##### Code\n",
    "\n",
    "Code blocks behave exactly as a Julia script (a .jl file) would. Code lines inside a single chunks can only be run together. On the other hand, you decide in which order you want to the different chunks. Unless you close or restart Julia, you are working in a single session, which means that results and variable definitions from previously run chunks are saved. \n",
    "\n",
    "##### Text\n",
    "\n",
    "In case you are wondering what are those # and * signs doing in editing mode: text chunks are written in a language called Markdown, which is pretty much the simplest text formatting language one could imagine. Knowing anything about it is not needed for the course."
   ]
  },
  {
   "cell_type": "markdown",
   "metadata": {},
   "source": [
    "### Topics to cover\n",
    "\n",
    "\n",
    "##### Very quick intro to basics\n",
    " - Julia as a calculator\n",
    " - functions\n",
    " - arrays\n",
    " - loops\n",
    "\n",
    "##### Numerical methods through an optimal saving problem\n",
    " - solving equations\n",
    " - optimizing functions\n",
    " - interpolation\n",
    " - integration\n",
    " \n",
    "bonus: plotting \n",
    "\n",
    "##### Details on Julia programming\n",
    " - types and methods\n",
    " - more on functions\n",
    " - composite types\n",
    "\n",
    "\n",
    "##### Tricky stuff\n",
    "- scoping rules\n",
    "- assigning, copying\n",
    "- performance: globals, (type stability), memory\n",
    "\n",
    "\n"
   ]
  },
  {
   "cell_type": "markdown",
   "metadata": {},
   "source": [
    "### Julia as a calculator"
   ]
  },
  {
   "cell_type": "code",
   "execution_count": 5,
   "metadata": {},
   "outputs": [
    {
     "data": {
      "text/plain": [
       "2"
      ]
     },
     "metadata": {},
     "output_type": "display_data"
    }
   ],
   "source": [
    "1+1"
   ]
  },
  {
   "cell_type": "markdown",
   "metadata": {},
   "source": [
    "or"
   ]
  },
  {
   "cell_type": "code",
   "execution_count": 6,
   "metadata": {},
   "outputs": [
    {
     "data": {
      "text/plain": [
       "0.8878095706281104"
      ]
     },
     "metadata": {},
     "output_type": "display_data"
    }
   ],
   "source": [
    "(log(2)-sin(4.6))/1.9"
   ]
  },
  {
   "cell_type": "markdown",
   "metadata": {},
   "source": [
    "works as expected. If we put such expressions in to one cell, only the results from the last one are printed (even though previous expressions run as well!). "
   ]
  },
  {
   "cell_type": "code",
   "execution_count": 7,
   "metadata": {},
   "outputs": [
    {
     "data": {
      "text/plain": [
       "0.8878095706281104"
      ]
     },
     "metadata": {},
     "output_type": "display_data"
    }
   ],
   "source": [
    "1+1\n",
    "# Btw, we can also add comments in code anywhere\n",
    "# In other words:\n",
    "(log(2)-sin(4.6))/1.9 # rest of the line after a # sign is ignored by julia"
   ]
  },
  {
   "cell_type": "markdown",
   "metadata": {},
   "source": [
    "##### Variables\n",
    "\n",
    "We can assign intermediary output to variables. Valid variable names are most character combinations, unless they start with a number or contain certain special characters. Convention: variable names should be lower-case."
   ]
  },
  {
   "cell_type": "code",
   "execution_count": 8,
   "metadata": {},
   "outputs": [
    {
     "name": "stdout",
     "output_type": "stream",
     "text": [
      "7\n"
     ]
    },
    {
     "data": {
      "text/plain": [
       "21"
      ]
     },
     "metadata": {},
     "output_type": "display_data"
    }
   ],
   "source": [
    "a = 2\n",
    "b = 3\n",
    "c = a + 5\n",
    "println(c) # c will be printed, even though it is not the last expression\n",
    "b*c\n"
   ]
  },
  {
   "cell_type": "markdown",
   "metadata": {},
   "source": [
    "If you **restart** your julia session (top bar over this file), then `c` is forgotten:"
   ]
  },
  {
   "cell_type": "code",
   "execution_count": 1,
   "metadata": {},
   "outputs": [
    {
     "ename": "UndefVarError",
     "evalue": "UndefVarError: `c` not defined",
     "output_type": "error",
     "traceback": [
      "UndefVarError: `c` not defined\n"
     ]
    }
   ],
   "source": [
    "c"
   ]
  },
  {
   "cell_type": "markdown",
   "metadata": {},
   "source": [
    "Order of expressions matter! The following cell throws an error, since we refer to `intermediary_result` \n",
    "before defining it."
   ]
  },
  {
   "cell_type": "code",
   "execution_count": 2,
   "metadata": {},
   "outputs": [
    {
     "ename": "UndefVarError",
     "evalue": "UndefVarError: `intermediary_result` not defined",
     "output_type": "error",
     "traceback": [
      "UndefVarError: `intermediary_result` not defined\n",
      "\n",
      "Stacktrace:\n",
      " [1] top-level scope\n",
      "   @ c:\\Users\\ZO.4407\\Documents\\GitHub\\IHBM2024\\julia\\tutorial\\1_intro.ipynb:2"
     ]
    }
   ],
   "source": [
    "\n",
    "final_result = intermediary_result*2\n",
    "intermediary_result = 1.45"
   ]
  },
  {
   "cell_type": "markdown",
   "metadata": {},
   "source": [
    "##### Comparisons\n",
    "\n",
    "Apart from computing looking at the results, we can also compare numbers. For example"
   ]
  },
  {
   "cell_type": "code",
   "execution_count": 3,
   "metadata": {},
   "outputs": [
    {
     "data": {
      "text/plain": [
       "true"
      ]
     },
     "metadata": {},
     "output_type": "display_data"
    }
   ],
   "source": [
    "1<2"
   ]
  },
  {
   "cell_type": "markdown",
   "metadata": {},
   "source": [
    "returns `true`, since 2 is larger than 1. Other similar operators include\n",
    " - `<` to test if left hand side is smaller than the right\n",
    " - `>` to test if LHS is larger than RHS\n",
    " - `<=` to test if LHS is smaller than or equal to RHS\n",
    " - `>=` to test if LHS is larger than or equal to RHS\n",
    " - `==` to test if LHS is equal to RHS\n",
    " - `!=` to test if LHS is not equal to RHS\n",
    "\n",
    "Example:\n"
   ]
  },
  {
   "cell_type": "code",
   "execution_count": 4,
   "metadata": {},
   "outputs": [
    {
     "data": {
      "text/plain": [
       "false"
      ]
     },
     "metadata": {},
     "output_type": "display_data"
    }
   ],
   "source": [
    "1 == 2\n"
   ]
  },
  {
   "cell_type": "markdown",
   "metadata": {},
   "source": [
    "> #### Important!\n",
    "> `=` and `==` look similar, but do entirely different things:\n",
    "> - `a = b` assigns value `b` to variable `a`. In the process, `a` is either created or overwritten.\n",
    "> - `a == b` checks if `a` and `b` has the same value and returns the corresponding logical value.\n",
    "\n",
    "\n",
    "For reference, there exists also `===` to test if LHS is the same object as RHS (this is somewhat more restrictive than having identical values). I don't think we will need this operator in this course."
   ]
  },
  {
   "cell_type": "markdown",
   "metadata": {},
   "source": [
    "### Functions\n",
    "\n",
    "Imagine you are eager to compute both `(log(2)-sin(4.6))/1.9` and `(log(2)-sin(5.7))/1.9`. You could of course compute them separately like this:"
   ]
  },
  {
   "cell_type": "code",
   "execution_count": 5,
   "metadata": {},
   "outputs": [
    {
     "data": {
      "text/plain": [
       "0.8878095706281104"
      ]
     },
     "metadata": {},
     "output_type": "display_data"
    }
   ],
   "source": [
    "(log(2)-sin(4.6))/1.9"
   ]
  },
  {
   "cell_type": "code",
   "execution_count": 6,
   "metadata": {},
   "outputs": [
    {
     "data": {
      "text/plain": [
       "0.6546488016618858"
      ]
     },
     "metadata": {},
     "output_type": "display_data"
    }
   ],
   "source": [
    "(log(2)-sin(5.7))/1.9"
   ]
  },
  {
   "cell_type": "markdown",
   "metadata": {},
   "source": [
    "However, this involves copying, which\n",
    " - makes code hard to read,\n",
    " - is a common source of errors,\n",
    " - makes code difficult to amend later on.\n",
    "\n",
    "All these problems become the more unbearable the more complex programs you need to write.\n",
    "\n",
    "If we end up doing the same task again and again, we should write it into a function! A piece of code like below would define a function:\n",
    "\n",
    "```julia\n",
    "function myfunction(argument1, argument2, ...)\n",
    "    doing stuff with arguments to obtain myresult\n",
    "    return myresult\n",
    "end\n",
    "```\n",
    "\n",
    "After a function is defined, it can be called on any argument we want by writing `myfunction(any_argument)`. (Well, almost any argument. More on this later!)\n",
    "\n",
    "Note that we already have seen and used functions: `sin`, `log` ad `println`!"
   ]
  },
  {
   "cell_type": "code",
   "execution_count": 7,
   "metadata": {},
   "outputs": [
    {
     "data": {
      "text/plain": [
       "0.6546488016618858"
      ]
     },
     "metadata": {},
     "output_type": "display_data"
    }
   ],
   "source": [
    "function obscure_operation(x)\n",
    "    return (log(2)-sin(x))/1.9\n",
    "end\n",
    "\n",
    "obscure_operation(5.7)"
   ]
  },
  {
   "cell_type": "markdown",
   "metadata": {},
   "source": [
    "this function is not defined yet"
   ]
  },
  {
   "cell_type": "code",
   "execution_count": 8,
   "metadata": {},
   "outputs": [
    {
     "ename": "UndefVarError",
     "evalue": "UndefVarError: `obscure_operation2` not defined",
     "output_type": "error",
     "traceback": [
      "UndefVarError: `obscure_operation2` not defined\n",
      "\n",
      "Stacktrace:\n",
      " [1] top-level scope\n",
      "   @ c:\\Users\\ZO.4407\\Documents\\GitHub\\IHBM2024\\julia\\tutorial\\1_intro.ipynb:1"
     ]
    }
   ],
   "source": [
    "obscure_operation2(5.7)"
   ]
  },
  {
   "cell_type": "code",
   "execution_count": 9,
   "metadata": {},
   "outputs": [
    {
     "data": {
      "text/plain": [
       "obscure_operation2 (generic function with 1 method)"
      ]
     },
     "metadata": {},
     "output_type": "display_data"
    }
   ],
   "source": [
    "function obscure_operation2(x)\n",
    "    return 2*(log(2)-sin(x))/1.9\n",
    "end"
   ]
  },
  {
   "cell_type": "markdown",
   "metadata": {},
   "source": [
    "now it is defined:"
   ]
  },
  {
   "cell_type": "code",
   "execution_count": 10,
   "metadata": {},
   "outputs": [
    {
     "data": {
      "text/plain": [
       "1.3092976033237715"
      ]
     },
     "metadata": {},
     "output_type": "display_data"
    }
   ],
   "source": [
    "obscure_operation2(5.7)"
   ]
  },
  {
   "cell_type": "markdown",
   "metadata": {},
   "source": [
    "`x` is a temporary variable, it exists only inside the function. Note that I could have used any valid object name instead of `x`. Calling this function with the wrong number of arguments would throw an error:"
   ]
  },
  {
   "cell_type": "code",
   "execution_count": 11,
   "metadata": {},
   "outputs": [
    {
     "ename": "MethodError",
     "evalue": "MethodError: no method matching obscure_operation(::Float64, ::Float64)\n\nClosest candidates are:\n  obscure_operation(::Any)\n   @ Main c:\\Users\\ZO.4407\\Documents\\GitHub\\IHBM2024\\julia\\tutorial\\1_intro.ipynb:1\n",
     "output_type": "error",
     "traceback": [
      "MethodError: no method matching obscure_operation(::Float64, ::Float64)\n",
      "\n",
      "Closest candidates are:\n",
      "  obscure_operation(::Any)\n",
      "   @ Main c:\\Users\\ZO.4407\\Documents\\GitHub\\IHBM2024\\julia\\tutorial\\1_intro.ipynb:1\n",
      "\n",
      "\n",
      "Stacktrace:\n",
      " [1] top-level scope\n",
      "   @ c:\\Users\\ZO.4407\\Documents\\GitHub\\IHBM2024\\julia\\tutorial\\1_intro.ipynb:1"
     ]
    }
   ],
   "source": [
    "obscure_operation(5.7, 1.1)"
   ]
  },
  {
   "cell_type": "markdown",
   "metadata": {},
   "source": [
    "#### Exercise:\n",
    "\n",
    "Write a function that takes two inputs, and returns their sum multiplied by 2!"
   ]
  },
  {
   "cell_type": "code",
   "execution_count": 12,
   "metadata": {},
   "outputs": [
    {
     "data": {
      "text/plain": [
       "14"
      ]
     },
     "metadata": {},
     "output_type": "display_data"
    }
   ],
   "source": [
    "# work here\n",
    "\n",
    "function sumtimes2(x,y)\n",
    "    return 2*(x+y)\n",
    "end\n",
    "\n",
    "sumtimes2(2,5)"
   ]
  },
  {
   "cell_type": "markdown",
   "metadata": {},
   "source": [
    "We'll return to functions more in detail soon!\n",
    "\n",
    "### Next:\n",
    "It's fairly obvious to compute one thing at once, but we usually want to perform a lot of operations when relying on numerical methods. For that we need two more things:\n",
    " - containers for many elements that can be inputs or results of operations &rarr; **Arrays**\n",
    " - some ways of running many operations automatically at once &rarr; **Loops**"
   ]
  }
 ],
 "metadata": {
  "kernelspec": {
   "display_name": "Julia 1.10.0",
   "language": "julia",
   "name": "julia-1.10"
  },
  "language_info": {
   "file_extension": ".jl",
   "mimetype": "application/julia",
   "name": "julia",
   "version": "1.10.0"
  }
 },
 "nbformat": 4,
 "nbformat_minor": 2
}
