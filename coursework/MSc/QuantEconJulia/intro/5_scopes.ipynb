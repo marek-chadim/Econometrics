{
 "cells": [
  {
   "cell_type": "markdown",
   "metadata": {},
   "source": [
    "# Scope rules\n",
    "\n",
    "## This file is optional! \n",
    "\n",
    "There are many code-blocks that in some sense work separately from their environment, e.g. `function` definitions, or `for`, `while` and `if` blocks. For example, in\n",
    "\n",
    "```julia\n",
    "function add1(x)\n",
    "    return x+1\n",
    "end\n",
    "```\n",
    "\n",
    "`x` is a local variable, which has no connection to other parts of the code. In every language, it is defined how these local environments work exactly, and the relevant rules are called scope rules. Even though these rules are intended to be intuitive, in my experience:\n",
    " - Scoping rules across languages can differ quite a bit.\n",
    " - For any language, there are situations where not knowing the scoping rules can drive you crazy.\n",
    " - Scoping rules are complex. It's ok to forget them. But if you observe some confusing behavior and any loops or function environments are involved, come back and read again this section. If you don't find an answer, you might want to check the relevant section of the [Documentation](https://docs.julialang.org/en/v1/manual/variables-and-scoping/).\n",
    "\n",
    "So let's see how these things work in Julia! To establish some vocabulary, consider:"
   ]
  },
  {
   "cell_type": "code",
   "execution_count": 1,
   "metadata": {},
   "outputs": [
    {
     "data": {
      "text/plain": [
       "f (generic function with 1 method)"
      ]
     },
     "metadata": {},
     "output_type": "display_data"
    }
   ],
   "source": [
    "# before running, restart Julia to clean up leftover objects!!!!\n",
    "\n",
    "a = 1\n",
    "\n",
    "function f(b)\n",
    "    c = 2 + a\n",
    "    function g(d)\n",
    "        return a*(c + d)\n",
    "    end\n",
    "    return g(b)\n",
    "end"
   ]
  },
  {
   "cell_type": "markdown",
   "metadata": {},
   "source": [
    "- `a` lives in the global scope.\n",
    "- `f` introduces a local scope. Its parent scope is the global scope, so it can see variables in the global scope. `b` and `c` live in this local scope and they are invisible from the global scope.\n",
    "- `g` introduces another local scope inside that of `f`. Inside you can call any variable from the outside, but `d` is invisible from the scope of `f` or from the global scope."
   ]
  },
  {
   "cell_type": "code",
   "execution_count": 2,
   "metadata": {},
   "outputs": [
    {
     "data": {
      "text/plain": [
       "8"
      ]
     },
     "metadata": {},
     "output_type": "display_data"
    }
   ],
   "source": [
    "f(5) # this runs"
   ]
  },
  {
   "cell_type": "markdown",
   "metadata": {},
   "source": [
    "variables in the local scopes are invisible from the outside:"
   ]
  },
  {
   "cell_type": "code",
   "execution_count": 3,
   "metadata": {},
   "outputs": [
    {
     "ename": "UndefVarError",
     "evalue": "UndefVarError: `b` not defined",
     "output_type": "error",
     "traceback": [
      "UndefVarError: `b` not defined\n"
     ]
    }
   ],
   "source": [
    "b"
   ]
  },
  {
   "cell_type": "markdown",
   "metadata": {},
   "source": [
    "Let's make `a` an argument of `f`. In this case there are two things called `a`: the global variable defined earlier, and an argument of `f`, living in its local scope."
   ]
  },
  {
   "cell_type": "code",
   "execution_count": 4,
   "metadata": {},
   "outputs": [
    {
     "data": {
      "text/plain": [
       "18"
      ]
     },
     "metadata": {},
     "output_type": "display_data"
    }
   ],
   "source": [
    "function f(a,b)\n",
    "    c = 2 + a\n",
    "    function g(d)\n",
    "        return a*(c + d)\n",
    "    end\n",
    "    return g(b)\n",
    "end\n",
    "\n",
    "f(2,5)"
   ]
  },
  {
   "cell_type": "markdown",
   "metadata": {},
   "source": [
    "Since we get a different result, it is apparent that `f` used `a=2` and not `a=1`. However, `a` in the global scope is still `1`."
   ]
  },
  {
   "cell_type": "code",
   "execution_count": 5,
   "metadata": {},
   "outputs": [
    {
     "data": {
      "text/plain": [
       "1"
      ]
     },
     "metadata": {},
     "output_type": "display_data"
    }
   ],
   "source": [
    "a"
   ]
  },
  {
   "cell_type": "markdown",
   "metadata": {},
   "source": [
    "So the `a` in the local vs global scope are entirely different objects! It turns out this behavior is not completely universal. There are two kinds of local scopes, which differ in how they interact with variables defined in an outside scope. \n",
    "\n",
    "One more twist: it matters if this outer scope is the global scope of a local one.\n",
    "\n"
   ]
  },
  {
   "cell_type": "code",
   "execution_count": 6,
   "metadata": {},
   "outputs": [
    {
     "name": "stdout",
     "output_type": "stream",
     "text": [
      "test gives a=2, and outside a=1 holds\n"
     ]
    }
   ],
   "source": [
    "a = 1\n",
    "\n",
    "function test()\n",
    "    a=2\n",
    "    return a\n",
    "end\n",
    "\n",
    "println(\"test gives a=$(test()), and outside a=$a holds\")"
   ]
  },
  {
   "cell_type": "code",
   "execution_count": 7,
   "metadata": {},
   "outputs": [
    {
     "name": "stdout",
     "output_type": "stream",
     "text": [
      "test gives a=2, and outside a=2 holds\n"
     ]
    }
   ],
   "source": [
    "function wrap()\n",
    "    a = 1\n",
    "\n",
    "    function test()\n",
    "        a = 2\n",
    "        return a\n",
    "    end\n",
    "\n",
    "    println(\"test gives a=$(test()), and outside a=$a holds\")\n",
    "    return nothing\n",
    "end\n",
    "\n",
    "wrap()\n",
    "    "
   ]
  },
  {
   "cell_type": "markdown",
   "metadata": {},
   "source": [
    "Hopefully, now you are confused enough, high time to look at the list of the most (all?) important scoping rules in Julia.\n",
    "\n",
    "1. `function` definitions introduce **hard local** scopes.\n",
    "2. `for` and `while` loops introduce **soft local** scopes.\n",
    "3. `if` blocks do **not** introduce a new scope.\n",
    "4. variables defined in an outer scope are visible in the local scope.\n",
    "5. new variables **defined** in a local scope are invisible to the outer scopes.\n",
    "6. if you assign a value to a variable already in use in an outer scope, then we have more complications:\n",
    "    - if the local scope is **hard** **and** the outer scope in question is the **global** one, then the outer variable is **'shadowed'**. This means that a new local variable is defined by the same name, and for the rest of the local scope the variable from the outer scope becomes invisible.\n",
    "    - if the local scope is **soft** or the outer scope is also a local one, then the outer variable is **overwritten**. In this case, changes in the local scope affect the variables outside the local scope.\n",
    "\n",
    "How does this explain the earlier strange phenomena? When `a=2` runs in `test`, it overwrites `a` of the parent scope when the parent scope is the local scope induced by `wrap`, but it does not when the parent is the global scope.\n",
    "\n",
    "It is apparent from point 6., that the only difference between hard and soft scopes is visible only when the parent scope is the global one. Let's try this."
   ]
  },
  {
   "cell_type": "code",
   "execution_count": 8,
   "metadata": {},
   "outputs": [
    {
     "data": {
      "text/plain": [
       "5"
      ]
     },
     "metadata": {},
     "output_type": "display_data"
    }
   ],
   "source": [
    "a = 1\n",
    "\n",
    "for i in 1:5\n",
    "    a=i\n",
    "end\n",
    "\n",
    "a"
   ]
  },
  {
   "cell_type": "code",
   "execution_count": 9,
   "metadata": {},
   "outputs": [
    {
     "data": {
      "text/plain": [
       "5"
      ]
     },
     "metadata": {},
     "output_type": "display_data"
    }
   ],
   "source": [
    "function wrap()\n",
    "    a = 1\n",
    "\n",
    "    for i in 1:5\n",
    "        a=i\n",
    "    end\n",
    "\n",
    "    a\n",
    "end\n",
    "\n",
    "wrap()"
   ]
  },
  {
   "cell_type": "markdown",
   "metadata": {},
   "source": [
    "Indeed, this time `a` is overwritten in both cases. This happens so, since `for` introduces a **soft local** scope, in contrast to a `function` definition, which creates a **hard** scope."
   ]
  },
  {
   "cell_type": "markdown",
   "metadata": {},
   "source": [
    "##### Example for point 3.\n",
    "\n",
    "`sign` is created inside the `if` block, but since it does not induce a new scope, `sign` is visible in the global scope."
   ]
  },
  {
   "cell_type": "code",
   "execution_count": 10,
   "metadata": {},
   "outputs": [
    {
     "data": {
      "text/plain": [
       "1"
      ]
     },
     "metadata": {},
     "output_type": "display_data"
    }
   ],
   "source": [
    "x = 1\n",
    "\n",
    "if x>0\n",
    "    sign = 1\n",
    "elseif x==0\n",
    "    sign = 0\n",
    "else\n",
    "    sign = -1\n",
    "end\n",
    "\n",
    "sign"
   ]
  },
  {
   "cell_type": "code",
   "execution_count": 11,
   "metadata": {},
   "outputs": [],
   "source": []
  },
  {
   "cell_type": "code",
   "execution_count": 12,
   "metadata": {},
   "outputs": [],
   "source": []
  },
  {
   "cell_type": "code",
   "execution_count": null,
   "metadata": {},
   "outputs": [],
   "source": []
  }
 ],
 "metadata": {
  "kernelspec": {
   "display_name": "Julia 1.10.2",
   "language": "julia",
   "name": "julia-1.10"
  },
  "language_info": {
   "file_extension": ".jl",
   "mimetype": "application/julia",
   "name": "julia",
   "version": "1.10.2"
  }
 },
 "nbformat": 4,
 "nbformat_minor": 2
}
