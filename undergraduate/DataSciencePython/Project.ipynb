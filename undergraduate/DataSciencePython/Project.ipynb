{
  "cells": [
    {
      "attachments": {},
      "cell_type": "markdown",
      "metadata": {
        "id": "-M0WCym3Xs_U"
      },
      "source": [
        "\n",
        "#  Predicting Customer Churn\n",
        "---\n",
        "*   BENC2011: Data Science, Final Project\n",
        "*   Maastricht University, May 2023\n",
        "*   i6336489, i6252740, i6281513\n",
        "\n",
        "\n",
        "\n",
        "\n",
        "\n",
        "\n",
        "\n",
        "\n",
        "\n",
        "\n",
        "\n"
      ]
    },
    {
      "attachments": {},
      "cell_type": "markdown",
      "metadata": {
        "id": "ItSvxYV2xJ9j"
      },
      "source": [
        "\n",
        "This project draws inspiration from an online course (https://app.datacamp.com/learn/courses/marketing-analytics-predicting-customer-churn-in-python). \n",
        "\n",
        "The code we developed applies these techniques to our specific dataset. Additionaly, we utilized the experience gained from tutorials of BENC2011: Data Science at Maastricht University.\n",
        "\n",
        "The report is structured as to reflect the stages of a data science process."
      ]
    },
    {
      "attachments": {},
      "cell_type": "markdown",
      "metadata": {
        "id": "sghGOP0iwbIr"
      },
      "source": [
        "## 1. Business understanding"
      ]
    },
    {
      "attachments": {},
      "cell_type": "markdown",
      "metadata": {
        "id": "Jer1RZWRjttP"
      },
      "source": [
        "Customer churn refers to the phenomenon where customers or subscribers discontinue their relationship with a business or service provider. It is also commonly referred to as customer attrition or customer turnover. Churn can occur in various industries, including telecommunications, banking, e-commerce, and subscription-based services. Customer churn is a critical metric for businesses as it directly impacts their revenue and profitability. When customers churn, businesses lose their recurring revenue stream and often incur additional costs to acquire new customers to replace the lost ones. Therefore, understanding and predicting customer churn is crucial for businesses to retain their customer base and maintain sustainable growth."
      ]
    },
    {
      "attachments": {},
      "cell_type": "markdown",
      "metadata": {
        "id": "Pu3KGPykXs_c"
      },
      "source": [
        "### The data science questions we attempt to answer\n"
      ]
    },
    {
      "attachments": {},
      "cell_type": "markdown",
      "metadata": {
        "id": "mx_Tms6ZhXc1"
      },
      "source": [
        "\n",
        "\n",
        "1.  What are the key factors that contribute to    customer churn?\n",
        "2.  Can we predict which customers are most likely to churn?\n",
        "3.  How accurate can we make predictions about customer churn?\n",
        "4.  What actions or strategies can be implemented to reduce customer churn?\n",
        "\n",
        "\n",
        "\n",
        "\n",
        "\n",
        "\n",
        "\n"
      ]
    },
    {
      "attachments": {},
      "cell_type": "markdown",
      "metadata": {
        "id": "TqtMJr8_Xs_d"
      },
      "source": [
        "###  Why the chosen datasets is appropriate for these questions\n"
      ]
    },
    {
      "attachments": {},
      "cell_type": "markdown",
      "metadata": {
        "id": "u9gsEKkWjii3"
      },
      "source": [
        "The Iranian Churn Dataset was found at the UCI Machine Learning Repository (https://archive.ics.uci.edu/ml/datasets/Iranian+Churn+Dataset), where it is accompanied by the following description:\n",
        "\n",
        "* *This dataset is randomly collected from an Iranian telecom company database over a period of 12 months. A total of 3150 rows of data, each representing a customer, bear information for 13 columns. The attributes that are in this dataset are call failures, frequency of SMS, number of complaints, number of distinct calls, subscription length, age group, the charge amount, type of service, seconds of use, status, frequency of use, and Customer Value. All of the attributes except for attribute churn is the aggregated data of the first 9 months. The churn labels are the state of the customers at the end of 12 months. The three months is the designated planning gap.*\n",
        "\n",
        "\n",
        "\n",
        "It may be appropriate for addressing questions related to customer churn because\n",
        "\n",
        "* it includes a churn label (whether a customer has churned or not) which will serve as the target variable for your predictive modeling task,\n",
        "\n",
        "* it provides various features that can be relevant in understanding customer churn,\n",
        "\n",
        "* it consists of a significant number of observations, with records for both churned and non-churned customers,\n",
        "\n",
        "*  and it has been curated and shared on a reputable platform.\n"
      ]
    },
    {
      "attachments": {},
      "cell_type": "markdown",
      "metadata": {
        "id": "IUsbMmcBwkkD"
      },
      "source": [
        " Data Dictionary:\n"
      ]
    },
    {
      "attachments": {},
      "cell_type": "markdown",
      "metadata": {
        "id": "FBkWXsCwwoh7"
      },
      "source": [
        "| Column                  | Explanation                                             |\n",
        "|-------------------------|---------------------------------------------------------|\n",
        "| Call Failure            | number of call failures                                 |\n",
        "| Complaints              | binary (0: No complaint, 1: complaint)                  |\n",
        "| Subscription Length     | total months of subscription                            |\n",
        "| Charge Amount           | ordinal attribute (0: lowest amount, 9: highest amount) |\n",
        "| Seconds of Use          | total seconds of calls                                  |\n",
        "| Frequency of use        | total number of calls                                   |\n",
        "| Frequency of SMS        | total number of text messages                           |\n",
        "| Distinct Called Numbers | total number of distinct phone calls                    |\n",
        "| Age Group               | ordinal attribute (1: younger age, 5: older age)        |\n",
        "| Tariff Plan             | binary (1: Pay as you go, 2: contractual)               |\n",
        "| Status                  | binary (1: active, 2: non-active)                       |\n",
        "| Age                     | age of customer                                         |\n",
        "| Customer Value          | the calculated value of customer                        |\n",
        "| Churn                   | class label (1: churn, 0: non-churn)                    |"
      ]
    },
    {
      "attachments": {},
      "cell_type": "markdown",
      "metadata": {
        "id": "TLlsgKVIc-E7"
      },
      "source": [
        "Data downloaded from: https://app.datacamp.com/workspace/w/3bcbf7aa-ad3e-4ff9-9996-d8ea525d0ceb/edit\n",
        "\n",
        "Citation: Jafari-Marandi, R., Denton, J., Idris, A., Smith, B. K., & Keramati, A. (2020). Optimum Profit-Driven Churn Decision Making: Innovative Artificial Neural Networks in Telecom Industry. Neural Computing and Applications."
      ]
    },
    {
      "attachments": {},
      "cell_type": "markdown",
      "metadata": {
        "id": "o8at1zVjXs_d"
      },
      "source": [
        "###  How will we do it/what we did\n"
      ]
    },
    {
      "attachments": {},
      "cell_type": "markdown",
      "metadata": {
        "id": "pg3sbgHKnEvy"
      },
      "source": [
        "**Data Exploration**\n",
        "\n",
        "*Exploring the dataset to gain a better understanding of its structure and content. Identify the different variables, their data types, and any missing values or outliers that need to be addressed. Visualize the data and compute basic statistics to gain insights into the distribution and characteristics of the features.*\n",
        "\n",
        "**Data Preprocessing** \n",
        "\n",
        "*Cleaning the dataset by handling missing values, outliers, and any inconsistencies. This involves imputing missing values, removing outliers, and ensuring data consistency across variables. Encoding categorical variables if necessary and scaling numerical features as required.*\n",
        "\n",
        "**Feature Selection**\n",
        "\n",
        "*Analyzying the relevance and importance of each feature in relation to the target variable (churn). Using techniques such as correlation analysis, feature importance from machine learning models, or domain knowledge to select the most relevant features for predicting churn.*\n",
        "\n",
        "**Model Selection**\n",
        "\n",
        "*Choosing appropriate machine learning models for predicting customer churn. Commonly used models for churn prediction include logistic regression, decision trees, random forests, support vector machines, gradient boosting models, or neural networks. Selecting models that align with the dataset characteristics, complexity, interpretability, and performance requirements.*\n",
        "\n",
        "**Model Training and Evaluation**\n",
        "\n",
        "*Splitting the dataset into training and testing sets. Training the selected models on the training set using appropriate evaluation metrics, such as accuracy, precision, recall, F1-score, and area under the receiver operating characteristic curve (AUC-ROC). Fine-tuning the model parameters using techniques like cross-validation or grid search. Evaluate the models' performance on the testing set to select the best-performing model(s).*\n",
        "\n",
        "**Analysis and Interpretation**\n",
        "\n",
        "*Analyzing the results and interpreting the model's predictions and the importance of different features. Identifing the key factors driving customer churn and gaining insights into potential strategies for customer retention.*\n",
        "\n",
        "**Reporting and Communication**\n",
        "\n",
        "*Summarizing the project, including data exploration findings, preprocessing steps, model selection, training, and evaluation results. Visualizing the findings using charts, graphs, and other visual to convey the insights gained. Present the conclusions, implications, and potential recommendations for reducing customer churn based on the analysis.*\n"
      ]
    },
    {
      "attachments": {},
      "cell_type": "markdown",
      "metadata": {
        "id": "_DN2lM0_Xs_e"
      },
      "source": [
        "##  2. Data understanding\n"
      ]
    },
    {
      "attachments": {},
      "cell_type": "markdown",
      "metadata": {
        "id": "jwZDoUJfyO78"
      },
      "source": [
        "Our data is already collected and described. We proceed with exploring it, which, in turn, verifies its quality."
      ]
    },
    {
      "attachments": {},
      "cell_type": "markdown",
      "metadata": {
        "id": "Pjtg9JUJ3KB0"
      },
      "source": [
        "### Exploratory data analysis"
      ]
    },
    {
      "attachments": {},
      "cell_type": "markdown",
      "metadata": {
        "id": "oqkqql-BniTP"
      },
      "source": [
        "We will do a brief exploration to get a better idea of what our dataset contains, this will give us a better idea of how to process the data. "
      ]
    },
    {
      "attachments": {},
      "cell_type": "markdown",
      "metadata": {
        "id": "EWkbVm8wniTP"
      },
      "source": [
        "Let's import the libraries we will need for this  project:"
      ]
    },
    {
      "cell_type": "code",
      "execution_count": 2,
      "metadata": {
        "id": "XBd76E6JBlEO"
      },
      "outputs": [],
      "source": [
        "import pandas as pd\n",
        "import numpy as np\n",
        "from datetime import datetime\n",
        "import seaborn as sns\n",
        "import matplotlib.pyplot as plt\n",
        "\n",
        "plt.style.use(\"ggplot\")\n",
        "plt.rcParams[\"figure.figsize\"] = [11, 4]"
      ]
    },
    {
      "attachments": {},
      "cell_type": "markdown",
      "metadata": {
        "id": "XINfHAC5niTQ"
      },
      "source": [
        "Then we can load the data:"
      ]
    },
    {
      "cell_type": "code",
      "execution_count": 3,
      "metadata": {
        "id": "IPw1uBe-qEeb"
      },
      "outputs": [],
      "source": [
        "df = pd.read_csv(\"churn.csv\")"
      ]
    },
    {
      "attachments": {},
      "cell_type": "markdown",
      "metadata": {
        "id": "PqgQQBUYniTQ"
      },
      "source": [
        "The info() method of a pandas DataFrame prints a concise summary of the data contained within the DataFrame. "
      ]
    },
    {
      "cell_type": "code",
      "execution_count": 4,
      "metadata": {
        "colab": {
          "base_uri": "https://localhost:8080/"
        },
        "id": "UiTzzoFvniTQ",
        "outputId": "8b319ffe-6a8c-4b6a-9a33-0a3938c1d86f"
      },
      "outputs": [
        {
          "name": "stdout",
          "output_type": "stream",
          "text": [
            "<class 'pandas.core.frame.DataFrame'>\n",
            "RangeIndex: 3150 entries, 0 to 3149\n",
            "Data columns (total 14 columns):\n",
            " #   Column                   Non-Null Count  Dtype  \n",
            "---  ------                   --------------  -----  \n",
            " 0   Call Failure             3150 non-null   int64  \n",
            " 1   Complaints               3150 non-null   int64  \n",
            " 2   Subscription Length      3150 non-null   int64  \n",
            " 3   Charge Amount            3150 non-null   int64  \n",
            " 4   Seconds of Use           3150 non-null   int64  \n",
            " 5   Frequency of use         3150 non-null   int64  \n",
            " 6   Frequency of SMS         3150 non-null   int64  \n",
            " 7   Distinct Called Numbers  3150 non-null   int64  \n",
            " 8   Age Group                3150 non-null   int64  \n",
            " 9   Tariff Plan              3150 non-null   int64  \n",
            " 10  Status                   3150 non-null   int64  \n",
            " 11  Age                      3150 non-null   int64  \n",
            " 12  Customer Value           3150 non-null   float64\n",
            " 13  Churn                    3150 non-null   int64  \n",
            "dtypes: float64(1), int64(13)\n",
            "memory usage: 344.7 KB\n"
          ]
        }
      ],
      "source": [
        "df.info()"
      ]
    },
    {
      "attachments": {},
      "cell_type": "markdown",
      "metadata": {
        "id": "V2MraJJ6niTR"
      },
      "source": [
        "* The data contains 3150 data samples\n",
        "* There are 14 total columns including the target column (what we want to predict)\n",
        "* There are 0 columns with missing values; we can infer this from the “Non-Null Count” column. \n",
        "* All  data types are int64 or float64."
      ]
    },
    {
      "attachments": {},
      "cell_type": "markdown",
      "metadata": {
        "id": "hzkEkRp4niTR"
      },
      "source": [
        "We can also call the describe() method on our DataFrame to get descriptive statistics about each feature in the dataset."
      ]
    },
    {
      "cell_type": "code",
      "execution_count": 5,
      "metadata": {
        "colab": {
          "base_uri": "https://localhost:8080/",
          "height": 399
        },
        "id": "sthckAxBniTS",
        "outputId": "0f005c49-e50f-45eb-cd2e-45df06aebd0d"
      },
      "outputs": [
        {
          "data": {
            "text/html": [
              "<div>\n",
              "<style scoped>\n",
              "    .dataframe tbody tr th:only-of-type {\n",
              "        vertical-align: middle;\n",
              "    }\n",
              "\n",
              "    .dataframe tbody tr th {\n",
              "        vertical-align: top;\n",
              "    }\n",
              "\n",
              "    .dataframe thead th {\n",
              "        text-align: right;\n",
              "    }\n",
              "</style>\n",
              "<table border=\"1\" class=\"dataframe\">\n",
              "  <thead>\n",
              "    <tr style=\"text-align: right;\">\n",
              "      <th></th>\n",
              "      <th>Call Failure</th>\n",
              "      <th>Complaints</th>\n",
              "      <th>Subscription Length</th>\n",
              "      <th>Charge Amount</th>\n",
              "      <th>Seconds of Use</th>\n",
              "      <th>Frequency of use</th>\n",
              "      <th>Frequency of SMS</th>\n",
              "      <th>Distinct Called Numbers</th>\n",
              "      <th>Age Group</th>\n",
              "      <th>Tariff Plan</th>\n",
              "      <th>Status</th>\n",
              "      <th>Age</th>\n",
              "      <th>Customer Value</th>\n",
              "      <th>Churn</th>\n",
              "    </tr>\n",
              "  </thead>\n",
              "  <tbody>\n",
              "    <tr>\n",
              "      <th>count</th>\n",
              "      <td>3150.000000</td>\n",
              "      <td>3150.000000</td>\n",
              "      <td>3150.000000</td>\n",
              "      <td>3150.000000</td>\n",
              "      <td>3150.000000</td>\n",
              "      <td>3150.000000</td>\n",
              "      <td>3150.000000</td>\n",
              "      <td>3150.000000</td>\n",
              "      <td>3150.000000</td>\n",
              "      <td>3150.000000</td>\n",
              "      <td>3150.000000</td>\n",
              "      <td>3150.000000</td>\n",
              "      <td>3150.000000</td>\n",
              "      <td>3150.000000</td>\n",
              "    </tr>\n",
              "    <tr>\n",
              "      <th>mean</th>\n",
              "      <td>7.627937</td>\n",
              "      <td>0.076508</td>\n",
              "      <td>32.541905</td>\n",
              "      <td>0.942857</td>\n",
              "      <td>4472.459683</td>\n",
              "      <td>69.460635</td>\n",
              "      <td>73.174921</td>\n",
              "      <td>23.509841</td>\n",
              "      <td>2.826032</td>\n",
              "      <td>1.077778</td>\n",
              "      <td>1.248254</td>\n",
              "      <td>30.998413</td>\n",
              "      <td>470.972916</td>\n",
              "      <td>0.157143</td>\n",
              "    </tr>\n",
              "    <tr>\n",
              "      <th>std</th>\n",
              "      <td>7.263886</td>\n",
              "      <td>0.265851</td>\n",
              "      <td>8.573482</td>\n",
              "      <td>1.521072</td>\n",
              "      <td>4197.908687</td>\n",
              "      <td>57.413308</td>\n",
              "      <td>112.237560</td>\n",
              "      <td>17.217337</td>\n",
              "      <td>0.892555</td>\n",
              "      <td>0.267864</td>\n",
              "      <td>0.432069</td>\n",
              "      <td>8.831095</td>\n",
              "      <td>517.015433</td>\n",
              "      <td>0.363993</td>\n",
              "    </tr>\n",
              "    <tr>\n",
              "      <th>min</th>\n",
              "      <td>0.000000</td>\n",
              "      <td>0.000000</td>\n",
              "      <td>3.000000</td>\n",
              "      <td>0.000000</td>\n",
              "      <td>0.000000</td>\n",
              "      <td>0.000000</td>\n",
              "      <td>0.000000</td>\n",
              "      <td>0.000000</td>\n",
              "      <td>1.000000</td>\n",
              "      <td>1.000000</td>\n",
              "      <td>1.000000</td>\n",
              "      <td>15.000000</td>\n",
              "      <td>0.000000</td>\n",
              "      <td>0.000000</td>\n",
              "    </tr>\n",
              "    <tr>\n",
              "      <th>25%</th>\n",
              "      <td>1.000000</td>\n",
              "      <td>0.000000</td>\n",
              "      <td>30.000000</td>\n",
              "      <td>0.000000</td>\n",
              "      <td>1391.250000</td>\n",
              "      <td>27.000000</td>\n",
              "      <td>6.000000</td>\n",
              "      <td>10.000000</td>\n",
              "      <td>2.000000</td>\n",
              "      <td>1.000000</td>\n",
              "      <td>1.000000</td>\n",
              "      <td>25.000000</td>\n",
              "      <td>113.801250</td>\n",
              "      <td>0.000000</td>\n",
              "    </tr>\n",
              "    <tr>\n",
              "      <th>50%</th>\n",
              "      <td>6.000000</td>\n",
              "      <td>0.000000</td>\n",
              "      <td>35.000000</td>\n",
              "      <td>0.000000</td>\n",
              "      <td>2990.000000</td>\n",
              "      <td>54.000000</td>\n",
              "      <td>21.000000</td>\n",
              "      <td>21.000000</td>\n",
              "      <td>3.000000</td>\n",
              "      <td>1.000000</td>\n",
              "      <td>1.000000</td>\n",
              "      <td>30.000000</td>\n",
              "      <td>228.480000</td>\n",
              "      <td>0.000000</td>\n",
              "    </tr>\n",
              "    <tr>\n",
              "      <th>75%</th>\n",
              "      <td>12.000000</td>\n",
              "      <td>0.000000</td>\n",
              "      <td>38.000000</td>\n",
              "      <td>1.000000</td>\n",
              "      <td>6478.250000</td>\n",
              "      <td>95.000000</td>\n",
              "      <td>87.000000</td>\n",
              "      <td>34.000000</td>\n",
              "      <td>3.000000</td>\n",
              "      <td>1.000000</td>\n",
              "      <td>1.000000</td>\n",
              "      <td>30.000000</td>\n",
              "      <td>788.388750</td>\n",
              "      <td>0.000000</td>\n",
              "    </tr>\n",
              "    <tr>\n",
              "      <th>max</th>\n",
              "      <td>36.000000</td>\n",
              "      <td>1.000000</td>\n",
              "      <td>47.000000</td>\n",
              "      <td>10.000000</td>\n",
              "      <td>17090.000000</td>\n",
              "      <td>255.000000</td>\n",
              "      <td>522.000000</td>\n",
              "      <td>97.000000</td>\n",
              "      <td>5.000000</td>\n",
              "      <td>2.000000</td>\n",
              "      <td>2.000000</td>\n",
              "      <td>55.000000</td>\n",
              "      <td>2165.280000</td>\n",
              "      <td>1.000000</td>\n",
              "    </tr>\n",
              "  </tbody>\n",
              "</table>\n",
              "</div>"
            ],
            "text/plain": [
              "       Call Failure   Complaints  Subscription Length  Charge Amount   \n",
              "count   3150.000000  3150.000000          3150.000000    3150.000000  \\\n",
              "mean       7.627937     0.076508            32.541905       0.942857   \n",
              "std        7.263886     0.265851             8.573482       1.521072   \n",
              "min        0.000000     0.000000             3.000000       0.000000   \n",
              "25%        1.000000     0.000000            30.000000       0.000000   \n",
              "50%        6.000000     0.000000            35.000000       0.000000   \n",
              "75%       12.000000     0.000000            38.000000       1.000000   \n",
              "max       36.000000     1.000000            47.000000      10.000000   \n",
              "\n",
              "       Seconds of Use  Frequency of use  Frequency of SMS   \n",
              "count     3150.000000       3150.000000       3150.000000  \\\n",
              "mean      4472.459683         69.460635         73.174921   \n",
              "std       4197.908687         57.413308        112.237560   \n",
              "min          0.000000          0.000000          0.000000   \n",
              "25%       1391.250000         27.000000          6.000000   \n",
              "50%       2990.000000         54.000000         21.000000   \n",
              "75%       6478.250000         95.000000         87.000000   \n",
              "max      17090.000000        255.000000        522.000000   \n",
              "\n",
              "       Distinct Called Numbers    Age Group  Tariff Plan       Status   \n",
              "count              3150.000000  3150.000000  3150.000000  3150.000000  \\\n",
              "mean                 23.509841     2.826032     1.077778     1.248254   \n",
              "std                  17.217337     0.892555     0.267864     0.432069   \n",
              "min                   0.000000     1.000000     1.000000     1.000000   \n",
              "25%                  10.000000     2.000000     1.000000     1.000000   \n",
              "50%                  21.000000     3.000000     1.000000     1.000000   \n",
              "75%                  34.000000     3.000000     1.000000     1.000000   \n",
              "max                  97.000000     5.000000     2.000000     2.000000   \n",
              "\n",
              "               Age  Customer Value        Churn  \n",
              "count  3150.000000     3150.000000  3150.000000  \n",
              "mean     30.998413      470.972916     0.157143  \n",
              "std       8.831095      517.015433     0.363993  \n",
              "min      15.000000        0.000000     0.000000  \n",
              "25%      25.000000      113.801250     0.000000  \n",
              "50%      30.000000      228.480000     0.000000  \n",
              "75%      30.000000      788.388750     0.000000  \n",
              "max      55.000000     2165.280000     1.000000  "
            ]
          },
          "execution_count": 5,
          "metadata": {},
          "output_type": "execute_result"
        }
      ],
      "source": [
        "df.describe() "
      ]
    },
    {
      "attachments": {},
      "cell_type": "markdown",
      "metadata": {
        "id": "Squ5NBcHniTS"
      },
      "source": [
        "To have an idea of the type of values being held in each feature, we use the head() method to display the first five rows of data."
      ]
    },
    {
      "cell_type": "code",
      "execution_count": 6,
      "metadata": {
        "colab": {
          "base_uri": "https://localhost:8080/",
          "height": 268
        },
        "id": "JkxUt9KJniTS",
        "outputId": "10f0cbb2-6e34-4cd6-d6fb-4aadaf2a41fc"
      },
      "outputs": [
        {
          "data": {
            "text/html": [
              "<div>\n",
              "<style scoped>\n",
              "    .dataframe tbody tr th:only-of-type {\n",
              "        vertical-align: middle;\n",
              "    }\n",
              "\n",
              "    .dataframe tbody tr th {\n",
              "        vertical-align: top;\n",
              "    }\n",
              "\n",
              "    .dataframe thead th {\n",
              "        text-align: right;\n",
              "    }\n",
              "</style>\n",
              "<table border=\"1\" class=\"dataframe\">\n",
              "  <thead>\n",
              "    <tr style=\"text-align: right;\">\n",
              "      <th></th>\n",
              "      <th>Call Failure</th>\n",
              "      <th>Complaints</th>\n",
              "      <th>Subscription Length</th>\n",
              "      <th>Charge Amount</th>\n",
              "      <th>Seconds of Use</th>\n",
              "      <th>Frequency of use</th>\n",
              "      <th>Frequency of SMS</th>\n",
              "      <th>Distinct Called Numbers</th>\n",
              "      <th>Age Group</th>\n",
              "      <th>Tariff Plan</th>\n",
              "      <th>Status</th>\n",
              "      <th>Age</th>\n",
              "      <th>Customer Value</th>\n",
              "      <th>Churn</th>\n",
              "    </tr>\n",
              "  </thead>\n",
              "  <tbody>\n",
              "    <tr>\n",
              "      <th>0</th>\n",
              "      <td>8</td>\n",
              "      <td>0</td>\n",
              "      <td>38</td>\n",
              "      <td>0</td>\n",
              "      <td>4370</td>\n",
              "      <td>71</td>\n",
              "      <td>5</td>\n",
              "      <td>17</td>\n",
              "      <td>3</td>\n",
              "      <td>1</td>\n",
              "      <td>1</td>\n",
              "      <td>30</td>\n",
              "      <td>197.640</td>\n",
              "      <td>0</td>\n",
              "    </tr>\n",
              "    <tr>\n",
              "      <th>1</th>\n",
              "      <td>0</td>\n",
              "      <td>0</td>\n",
              "      <td>39</td>\n",
              "      <td>0</td>\n",
              "      <td>318</td>\n",
              "      <td>5</td>\n",
              "      <td>7</td>\n",
              "      <td>4</td>\n",
              "      <td>2</td>\n",
              "      <td>1</td>\n",
              "      <td>2</td>\n",
              "      <td>25</td>\n",
              "      <td>46.035</td>\n",
              "      <td>0</td>\n",
              "    </tr>\n",
              "    <tr>\n",
              "      <th>2</th>\n",
              "      <td>10</td>\n",
              "      <td>0</td>\n",
              "      <td>37</td>\n",
              "      <td>0</td>\n",
              "      <td>2453</td>\n",
              "      <td>60</td>\n",
              "      <td>359</td>\n",
              "      <td>24</td>\n",
              "      <td>3</td>\n",
              "      <td>1</td>\n",
              "      <td>1</td>\n",
              "      <td>30</td>\n",
              "      <td>1536.520</td>\n",
              "      <td>0</td>\n",
              "    </tr>\n",
              "    <tr>\n",
              "      <th>3</th>\n",
              "      <td>10</td>\n",
              "      <td>0</td>\n",
              "      <td>38</td>\n",
              "      <td>0</td>\n",
              "      <td>4198</td>\n",
              "      <td>66</td>\n",
              "      <td>1</td>\n",
              "      <td>35</td>\n",
              "      <td>1</td>\n",
              "      <td>1</td>\n",
              "      <td>1</td>\n",
              "      <td>15</td>\n",
              "      <td>240.020</td>\n",
              "      <td>0</td>\n",
              "    </tr>\n",
              "    <tr>\n",
              "      <th>4</th>\n",
              "      <td>3</td>\n",
              "      <td>0</td>\n",
              "      <td>38</td>\n",
              "      <td>0</td>\n",
              "      <td>2393</td>\n",
              "      <td>58</td>\n",
              "      <td>2</td>\n",
              "      <td>33</td>\n",
              "      <td>1</td>\n",
              "      <td>1</td>\n",
              "      <td>1</td>\n",
              "      <td>15</td>\n",
              "      <td>145.805</td>\n",
              "      <td>0</td>\n",
              "    </tr>\n",
              "  </tbody>\n",
              "</table>\n",
              "</div>"
            ],
            "text/plain": [
              "   Call Failure  Complaints  Subscription Length  Charge Amount   \n",
              "0             8           0                   38              0  \\\n",
              "1             0           0                   39              0   \n",
              "2            10           0                   37              0   \n",
              "3            10           0                   38              0   \n",
              "4             3           0                   38              0   \n",
              "\n",
              "   Seconds of Use  Frequency of use  Frequency of SMS   \n",
              "0            4370                71                 5  \\\n",
              "1             318                 5                 7   \n",
              "2            2453                60               359   \n",
              "3            4198                66                 1   \n",
              "4            2393                58                 2   \n",
              "\n",
              "   Distinct Called Numbers  Age Group  Tariff Plan  Status  Age   \n",
              "0                       17          3            1       1   30  \\\n",
              "1                        4          2            1       2   25   \n",
              "2                       24          3            1       1   30   \n",
              "3                       35          1            1       1   15   \n",
              "4                       33          1            1       1   15   \n",
              "\n",
              "   Customer Value  Churn  \n",
              "0         197.640      0  \n",
              "1          46.035      0  \n",
              "2        1536.520      0  \n",
              "3         240.020      0  \n",
              "4         145.805      0  "
            ]
          },
          "execution_count": 6,
          "metadata": {},
          "output_type": "execute_result"
        }
      ],
      "source": [
        "df.head()"
      ]
    },
    {
      "attachments": {},
      "cell_type": "markdown",
      "metadata": {
        "id": "VcS9nmMxniTS"
      },
      "source": [
        "We observe that the features are on different scales, which may cause problems when dealing algorithms sensitive to the range of data points. "
      ]
    },
    {
      "cell_type": "code",
      "execution_count": 7,
      "metadata": {
        "colab": {
          "base_uri": "https://localhost:8080/",
          "height": 69
        },
        "id": "MEuG6I4VxUUt",
        "outputId": "3db3c7e4-747a-48e2-a199-6d21b168f97b"
      },
      "outputs": [
        {
          "data": {
            "text/plain": [
              "Churn\n",
              "0    0.842857\n",
              "1    0.157143\n",
              "Name: proportion, dtype: float64"
            ]
          },
          "metadata": {},
          "output_type": "display_data"
        }
      ],
      "source": [
        "# Summary statistics for both classes\n",
        "display(df[\"Churn\"].value_counts(normalize=True))"
      ]
    },
    {
      "attachments": {},
      "cell_type": "markdown",
      "metadata": {
        "id": "kfQzrYeZJesA"
      },
      "source": [
        "The data is imbalanced in terms of customer churn since only around 16% of customers did churn."
      ]
    },
    {
      "cell_type": "code",
      "execution_count": 8,
      "metadata": {
        "colab": {
          "base_uri": "https://localhost:8080/",
          "height": 432
        },
        "id": "RtSC4mzoJbhD",
        "outputId": "7c239fad-3e04-4ef9-a466-465277d02e5c"
      },
      "outputs": [
        {
          "data": {
            "text/plain": [
              "[Text(0, 0, 'Churn'), Text(1, 0, 'No Churn')]"
            ]
          },
          "execution_count": 8,
          "metadata": {},
          "output_type": "execute_result"
        },
        {
          "data": {
            "image/png": "[encoded data removed]",
            "text/plain": [
              "<Figure size 1100x400 with 1 Axes>"
            ]
          },
          "metadata": {},
          "output_type": "display_data"
        }
      ],
      "source": [
        "g=sns.countplot(data=df,x='Churn')\n",
        "g.set_title('Number of Churn vs No Churn')\n",
        "g.set_xticklabels(['Churn','No Churn'])"
      ]
    },
    {
      "attachments": {},
      "cell_type": "markdown",
      "metadata": {
        "id": "hI7eRJsKniTT"
      },
      "source": [
        "We compare the mean and standard deviation across classes:"
      ]
    },
    {
      "cell_type": "code",
      "execution_count": 9,
      "metadata": {
        "colab": {
          "base_uri": "https://localhost:8080/",
          "height": 384
        },
        "id": "MYLRsnq-3vDk",
        "outputId": "e4cffa19-3f73-4da4-c27a-dd2586612f4e"
      },
      "outputs": [
        {
          "data": {
            "text/html": [
              "<div>\n",
              "<style scoped>\n",
              "    .dataframe tbody tr th:only-of-type {\n",
              "        vertical-align: middle;\n",
              "    }\n",
              "\n",
              "    .dataframe tbody tr th {\n",
              "        vertical-align: top;\n",
              "    }\n",
              "\n",
              "    .dataframe thead th {\n",
              "        text-align: right;\n",
              "    }\n",
              "</style>\n",
              "<table border=\"1\" class=\"dataframe\">\n",
              "  <thead>\n",
              "    <tr style=\"text-align: right;\">\n",
              "      <th></th>\n",
              "      <th>Call Failure</th>\n",
              "      <th>Complaints</th>\n",
              "      <th>Subscription Length</th>\n",
              "      <th>Charge Amount</th>\n",
              "      <th>Seconds of Use</th>\n",
              "      <th>Frequency of use</th>\n",
              "      <th>Frequency of SMS</th>\n",
              "      <th>Distinct Called Numbers</th>\n",
              "      <th>Age Group</th>\n",
              "      <th>Tariff Plan</th>\n",
              "      <th>Status</th>\n",
              "      <th>Age</th>\n",
              "      <th>Customer Value</th>\n",
              "    </tr>\n",
              "    <tr>\n",
              "      <th>Churn</th>\n",
              "      <th></th>\n",
              "      <th></th>\n",
              "      <th></th>\n",
              "      <th></th>\n",
              "      <th></th>\n",
              "      <th></th>\n",
              "      <th></th>\n",
              "      <th></th>\n",
              "      <th></th>\n",
              "      <th></th>\n",
              "      <th></th>\n",
              "      <th></th>\n",
              "      <th></th>\n",
              "    </tr>\n",
              "  </thead>\n",
              "  <tbody>\n",
              "    <tr>\n",
              "      <th>0</th>\n",
              "      <td>7.656121</td>\n",
              "      <td>0.015443</td>\n",
              "      <td>32.662524</td>\n",
              "      <td>1.075706</td>\n",
              "      <td>5014.224105</td>\n",
              "      <td>76.979284</td>\n",
              "      <td>83.871563</td>\n",
              "      <td>25.582674</td>\n",
              "      <td>2.831638</td>\n",
              "      <td>1.090019</td>\n",
              "      <td>1.155179</td>\n",
              "      <td>31.065913</td>\n",
              "      <td>535.511501</td>\n",
              "    </tr>\n",
              "    <tr>\n",
              "      <th>1</th>\n",
              "      <td>7.476768</td>\n",
              "      <td>0.404040</td>\n",
              "      <td>31.894949</td>\n",
              "      <td>0.230303</td>\n",
              "      <td>1566.632323</td>\n",
              "      <td>29.133333</td>\n",
              "      <td>15.802020</td>\n",
              "      <td>12.391919</td>\n",
              "      <td>2.795960</td>\n",
              "      <td>1.012121</td>\n",
              "      <td>1.747475</td>\n",
              "      <td>30.636364</td>\n",
              "      <td>124.811414</td>\n",
              "    </tr>\n",
              "  </tbody>\n",
              "</table>\n",
              "</div>"
            ],
            "text/plain": [
              "       Call Failure  Complaints  Subscription Length  Charge Amount   \n",
              "Churn                                                                 \n",
              "0          7.656121    0.015443            32.662524       1.075706  \\\n",
              "1          7.476768    0.404040            31.894949       0.230303   \n",
              "\n",
              "       Seconds of Use  Frequency of use  Frequency of SMS   \n",
              "Churn                                                       \n",
              "0         5014.224105         76.979284         83.871563  \\\n",
              "1         1566.632323         29.133333         15.802020   \n",
              "\n",
              "       Distinct Called Numbers  Age Group  Tariff Plan    Status        Age   \n",
              "Churn                                                                         \n",
              "0                    25.582674   2.831638     1.090019  1.155179  31.065913  \\\n",
              "1                    12.391919   2.795960     1.012121  1.747475  30.636364   \n",
              "\n",
              "       Customer Value  \n",
              "Churn                  \n",
              "0          535.511501  \n",
              "1          124.811414  "
            ]
          },
          "metadata": {},
          "output_type": "display_data"
        },
        {
          "data": {
            "text/html": [
              "<div>\n",
              "<style scoped>\n",
              "    .dataframe tbody tr th:only-of-type {\n",
              "        vertical-align: middle;\n",
              "    }\n",
              "\n",
              "    .dataframe tbody tr th {\n",
              "        vertical-align: top;\n",
              "    }\n",
              "\n",
              "    .dataframe thead th {\n",
              "        text-align: right;\n",
              "    }\n",
              "</style>\n",
              "<table border=\"1\" class=\"dataframe\">\n",
              "  <thead>\n",
              "    <tr style=\"text-align: right;\">\n",
              "      <th></th>\n",
              "      <th>Call Failure</th>\n",
              "      <th>Complaints</th>\n",
              "      <th>Subscription Length</th>\n",
              "      <th>Charge Amount</th>\n",
              "      <th>Seconds of Use</th>\n",
              "      <th>Frequency of use</th>\n",
              "      <th>Frequency of SMS</th>\n",
              "      <th>Distinct Called Numbers</th>\n",
              "      <th>Age Group</th>\n",
              "      <th>Tariff Plan</th>\n",
              "      <th>Status</th>\n",
              "      <th>Age</th>\n",
              "      <th>Customer Value</th>\n",
              "    </tr>\n",
              "    <tr>\n",
              "      <th>Churn</th>\n",
              "      <th></th>\n",
              "      <th></th>\n",
              "      <th></th>\n",
              "      <th></th>\n",
              "      <th></th>\n",
              "      <th></th>\n",
              "      <th></th>\n",
              "      <th></th>\n",
              "      <th></th>\n",
              "      <th></th>\n",
              "      <th></th>\n",
              "      <th></th>\n",
              "      <th></th>\n",
              "    </tr>\n",
              "  </thead>\n",
              "  <tbody>\n",
              "    <tr>\n",
              "      <th>0</th>\n",
              "      <td>7.154318</td>\n",
              "      <td>0.123328</td>\n",
              "      <td>8.392357</td>\n",
              "      <td>1.600653</td>\n",
              "      <td>4312.742630</td>\n",
              "      <td>58.499847</td>\n",
              "      <td>118.808594</td>\n",
              "      <td>17.389349</td>\n",
              "      <td>0.922331</td>\n",
              "      <td>0.286263</td>\n",
              "      <td>0.362143</td>\n",
              "      <td>9.147610</td>\n",
              "      <td>536.214629</td>\n",
              "    </tr>\n",
              "    <tr>\n",
              "      <th>1</th>\n",
              "      <td>7.831407</td>\n",
              "      <td>0.491202</td>\n",
              "      <td>9.469163</td>\n",
              "      <td>0.616483</td>\n",
              "      <td>1539.203365</td>\n",
              "      <td>26.323478</td>\n",
              "      <td>23.515289</td>\n",
              "      <td>10.867622</td>\n",
              "      <td>0.711945</td>\n",
              "      <td>0.109538</td>\n",
              "      <td>0.434900</td>\n",
              "      <td>6.886081</td>\n",
              "      <td>129.429850</td>\n",
              "    </tr>\n",
              "  </tbody>\n",
              "</table>\n",
              "</div>"
            ],
            "text/plain": [
              "       Call Failure  Complaints  Subscription Length  Charge Amount   \n",
              "Churn                                                                 \n",
              "0          7.154318    0.123328             8.392357       1.600653  \\\n",
              "1          7.831407    0.491202             9.469163       0.616483   \n",
              "\n",
              "       Seconds of Use  Frequency of use  Frequency of SMS   \n",
              "Churn                                                       \n",
              "0         4312.742630         58.499847        118.808594  \\\n",
              "1         1539.203365         26.323478         23.515289   \n",
              "\n",
              "       Distinct Called Numbers  Age Group  Tariff Plan    Status       Age   \n",
              "Churn                                                                        \n",
              "0                    17.389349   0.922331     0.286263  0.362143  9.147610  \\\n",
              "1                    10.867622   0.711945     0.109538  0.434900  6.886081   \n",
              "\n",
              "       Customer Value  \n",
              "Churn                  \n",
              "0          536.214629  \n",
              "1          129.429850  "
            ]
          },
          "metadata": {},
          "output_type": "display_data"
        }
      ],
      "source": [
        "display(df.groupby(['Churn']).mean())\n",
        "display(df.groupby(['Churn']).std())"
      ]
    },
    {
      "attachments": {},
      "cell_type": "markdown",
      "metadata": {
        "id": "PDtbT4r41A2w"
      },
      "source": [
        "There are some features with significantly different statistics, e.g. unsuprisingly, churners seem to complain more than non-churners."
      ]
    },
    {
      "cell_type": "code",
      "execution_count": 10,
      "metadata": {
        "colab": {
          "base_uri": "https://localhost:8080/",
          "height": 208
        },
        "id": "v7YLfIkxxyQD",
        "outputId": "163afa14-c844-4d28-b652-298c74eee124"
      },
      "outputs": [
        {
          "data": {
            "text/plain": [
              "Age Group  Churn\n",
              "1          0         123\n",
              "2          0         853\n",
              "           1         184\n",
              "3          0        1195\n",
              "           1         230\n",
              "4          0         316\n",
              "           1          79\n",
              "5          0         168\n",
              "           1           2\n",
              "Name: count, dtype: int64"
            ]
          },
          "metadata": {},
          "output_type": "display_data"
        }
      ],
      "source": [
        "display(df.groupby('Age Group')['Churn'].value_counts())"
      ]
    },
    {
      "attachments": {},
      "cell_type": "markdown",
      "metadata": {
        "id": "1aGKU1Li17ZN"
      },
      "source": [
        "Age group 1 has no churned customers. \n",
        "\n",
        "Age group 3 has the highest number of customers who churned  while age group 2 has the highest percentage.  "
      ]
    },
    {
      "cell_type": "code",
      "execution_count": 11,
      "metadata": {
        "colab": {
          "base_uri": "https://localhost:8080/",
          "height": 1000
        },
        "id": "mBZ2ntQe4Z1z",
        "outputId": "c77ed2e2-618b-4b35-e58c-7248c073c7cb"
      },
      "outputs": [
        {
          "data": {
            "text/plain": [
              "Age Group\n",
              "3    45.238095\n",
              "2    32.920635\n",
              "4    12.539683\n",
              "5     5.396825\n",
              "1     3.904762\n",
              "Name: proportion, dtype: float64"
            ]
          },
          "metadata": {},
          "output_type": "display_data"
        },
        {
          "data": {
            "image/png": "[encoded data removed]",
            "text/plain": [
              "<Figure size 1100x400 with 1 Axes>"
            ]
          },
          "metadata": {},
          "output_type": "display_data"
        },
        {
          "data": {
            "text/plain": [
              "Charge Amount\n",
              "0     56.126984\n",
              "1     19.587302\n",
              "2     12.539683\n",
              "3      6.317460\n",
              "4      2.412698\n",
              "5      0.952381\n",
              "8      0.603175\n",
              "9      0.444444\n",
              "7      0.444444\n",
              "6      0.349206\n",
              "10     0.222222\n",
              "Name: proportion, dtype: float64"
            ]
          },
          "metadata": {},
          "output_type": "display_data"
        },
        {
          "data": {
            "image/png": "[encoded data removed]",
            "text/plain": [
              "<Figure size 1100x400 with 1 Axes>"
            ]
          },
          "metadata": {},
          "output_type": "display_data"
        }
      ],
      "source": [
        "# Percentage distributions of ordinal features\n",
        "for column in df[[\"Age Group\",\"Charge Amount\"]].columns:\n",
        "  display(df[column].value_counts(normalize=True) * 100)\n",
        "  sns.countplot(x=df[column])\n",
        "  plt.show()"
      ]
    },
    {
      "cell_type": "code",
      "execution_count": 12,
      "metadata": {
        "colab": {
          "base_uri": "https://localhost:8080/",
          "height": 392
        },
        "id": "eeUa9awm3D9L",
        "outputId": "3f65bf09-77e5-4ed2-ce76-bce5a8b54404"
      },
      "outputs": [
        {
          "data": {
            "image/png": "[encoded data removed]",
            "text/plain": [
              "<Figure size 1100x400 with 1 Axes>"
            ]
          },
          "metadata": {},
          "output_type": "display_data"
        }
      ],
      "source": [
        "# Exploring feature distributions\n",
        "sns.histplot(df[\"Seconds of Use\"], kde=True, stat=\"density\")\n",
        "# Display the plot\n",
        "plt.show()"
      ]
    },
    {
      "cell_type": "code",
      "execution_count": 13,
      "metadata": {
        "colab": {
          "base_uri": "https://localhost:8080/",
          "height": 396
        },
        "id": "LQ-_bcfktrU2",
        "outputId": "58cd264f-da36-4dfb-91a8-5073d7ab29ee"
      },
      "outputs": [
        {
          "data": {
            "image/png": "[encoded data removed]",
            "text/plain": [
              "<Figure size 1100x400 with 1 Axes>"
            ]
          },
          "metadata": {},
          "output_type": "display_data"
        }
      ],
      "source": [
        "sns.histplot(df[\"Frequency of SMS\"], kde=True, stat=\"density\")\n",
        "# Display the plot\n",
        "plt.show()"
      ]
    },
    {
      "attachments": {},
      "cell_type": "markdown",
      "metadata": {
        "id": "HWo6qkiK5m1E"
      },
      "source": [
        "The features do not appear to be well approximated by the normal distribution This is another aspect to consider before we proceed with model training as some models work better with normally distributed features."
      ]
    },
    {
      "cell_type": "code",
      "execution_count": 14,
      "metadata": {
        "colab": {
          "base_uri": "https://localhost:8080/",
          "height": 392
        },
        "id": "pNnXktr9vGm-",
        "outputId": "fcf60819-8664-423b-fa69-615e1d7dce00"
      },
      "outputs": [
        {
          "data": {
            "image/png": "[encoded data removed]",
            "text/plain": [
              "<Figure size 1100x400 with 1 Axes>"
            ]
          },
          "metadata": {},
          "output_type": "display_data"
        }
      ],
      "source": [
        "sns.boxplot(x = 'Churn',\n",
        "            y = 'Subscription Length',\n",
        "            data = df,\n",
        "            sym = \"\",\n",
        "            hue = \"Tariff Plan\")\n",
        "plt.show()"
      ]
    },
    {
      "attachments": {},
      "cell_type": "markdown",
      "metadata": {
        "id": "w4mCCP2w1tBd"
      },
      "source": [
        "Both classes of customers are using the service longer when subscribing to the tariff plan 1 (Pay as you go) rather than tariff plan 2 (Contractual)."
      ]
    },
    {
      "attachments": {},
      "cell_type": "markdown",
      "metadata": {
        "id": "C_6QfOEhzw9V"
      },
      "source": [
        "Based on our analysis, the data seems to be of good quality."
      ]
    },
    {
      "attachments": {},
      "cell_type": "markdown",
      "metadata": {
        "id": "JpXD5_YF7Tcv"
      },
      "source": [
        "## 3. Data preparation"
      ]
    },
    {
      "attachments": {},
      "cell_type": "markdown",
      "metadata": {
        "id": "w_XxWvmSniTY"
      },
      "source": [
        "We have a decent understanding of what our data looks like and we begin moving toward preparing the data to be fed into a machine learning model. "
      ]
    },
    {
      "attachments": {},
      "cell_type": "markdown",
      "metadata": {
        "id": "ndrIPTAQ0nwv"
      },
      "source": [
        "### Clean data"
      ]
    },
    {
      "cell_type": "code",
      "execution_count": 15,
      "metadata": {
        "colab": {
          "base_uri": "https://localhost:8080/"
        },
        "id": "D4caEmaP7djq",
        "outputId": "2e27d931-594e-4bed-90f1-a3c49a56b56c"
      },
      "outputs": [
        {
          "data": {
            "text/plain": [
              "Call Failure                 int64\n",
              "Complaints                   int64\n",
              "Subscription Length          int64\n",
              "Charge Amount                int64\n",
              "Seconds of Use               int64\n",
              "Frequency of use             int64\n",
              "Frequency of SMS             int64\n",
              "Distinct Called Numbers      int64\n",
              "Age Group                    int64\n",
              "Tariff Plan                  int64\n",
              "Status                       int64\n",
              "Age                          int64\n",
              "Customer Value             float64\n",
              "Churn                        int64\n",
              "dtype: object"
            ]
          },
          "execution_count": 15,
          "metadata": {},
          "output_type": "execute_result"
        }
      ],
      "source": [
        "# Identifying features to convert\n",
        "df.dtypes"
      ]
    },
    {
      "attachments": {},
      "cell_type": "markdown",
      "metadata": {
        "id": "H0PrORDC-T2M"
      },
      "source": [
        "Both the features and churn label are already encoded in a suitable format."
      ]
    },
    {
      "cell_type": "code",
      "execution_count": 16,
      "metadata": {
        "colab": {
          "base_uri": "https://localhost:8080/"
        },
        "id": "9a82oOn_gDoK",
        "outputId": "cffb3d41-1d17-4cbc-a6c4-7fc283010828"
      },
      "outputs": [
        {
          "data": {
            "text/plain": [
              "Call Failure               0\n",
              "Complaints                 0\n",
              "Subscription Length        0\n",
              "Charge Amount              0\n",
              "Seconds of Use             0\n",
              "Frequency of use           0\n",
              "Frequency of SMS           0\n",
              "Distinct Called Numbers    0\n",
              "Age Group                  0\n",
              "Tariff Plan                0\n",
              "Status                     0\n",
              "Age                        0\n",
              "Customer Value             0\n",
              "Churn                      0\n",
              "dtype: int64"
            ]
          },
          "execution_count": 16,
          "metadata": {},
          "output_type": "execute_result"
        }
      ],
      "source": [
        "# Handling the missing values\n",
        "df.isna().sum()"
      ]
    },
    {
      "attachments": {},
      "cell_type": "markdown",
      "metadata": {
        "id": "_z1HzbGigy0P"
      },
      "source": [
        "The data is without missing values."
      ]
    },
    {
      "cell_type": "code",
      "execution_count": 17,
      "metadata": {
        "colab": {
          "base_uri": "https://localhost:8080/"
        },
        "id": "XSfnoR717MqB",
        "outputId": "ec102555-8ac0-4005-a5ac-064dae291818"
      },
      "outputs": [
        {
          "name": "stdout",
          "output_type": "stream",
          "text": [
            "300\n"
          ]
        },
        {
          "data": {
            "text/plain": [
              "2850"
            ]
          },
          "execution_count": 17,
          "metadata": {},
          "output_type": "execute_result"
        }
      ],
      "source": [
        "# Handling duplicates\n",
        "print(df.duplicated().sum())\n",
        "df=df.drop_duplicates(keep='first')\n",
        "len(df)\n"
      ]
    },
    {
      "attachments": {},
      "cell_type": "markdown",
      "metadata": {
        "id": "fKRomjpl0wKl"
      },
      "source": [
        "### Select data\n"
      ]
    },
    {
      "attachments": {},
      "cell_type": "markdown",
      "metadata": {
        "id": "vDw6fXDG8OZF"
      },
      "source": [
        "We see 300 duplicate rows in our dataset.\n",
        "Since they may contaminate the training data with the test data or vice versa, we drop them."
      ]
    },
    {
      "cell_type": "code",
      "execution_count": 18,
      "metadata": {
        "colab": {
          "base_uri": "https://localhost:8080/",
          "height": 706
        },
        "id": "qkPnPiV6LodV",
        "outputId": "9d59fc8c-fae3-4509-d5ab-0ad46dc074e6"
      },
      "outputs": [
        {
          "data": {
            "text/html": [
              "<div>\n",
              "<style scoped>\n",
              "    .dataframe tbody tr th:only-of-type {\n",
              "        vertical-align: middle;\n",
              "    }\n",
              "\n",
              "    .dataframe tbody tr th {\n",
              "        vertical-align: top;\n",
              "    }\n",
              "\n",
              "    .dataframe thead th {\n",
              "        text-align: right;\n",
              "    }\n",
              "</style>\n",
              "<table border=\"1\" class=\"dataframe\">\n",
              "  <thead>\n",
              "    <tr style=\"text-align: right;\">\n",
              "      <th></th>\n",
              "      <th>Call Failure</th>\n",
              "      <th>Complaints</th>\n",
              "      <th>Subscription Length</th>\n",
              "      <th>Charge Amount</th>\n",
              "      <th>Seconds of Use</th>\n",
              "      <th>Frequency of use</th>\n",
              "      <th>Frequency of SMS</th>\n",
              "      <th>Distinct Called Numbers</th>\n",
              "      <th>Age Group</th>\n",
              "      <th>Tariff Plan</th>\n",
              "      <th>Status</th>\n",
              "      <th>Age</th>\n",
              "      <th>Customer Value</th>\n",
              "      <th>Churn</th>\n",
              "    </tr>\n",
              "  </thead>\n",
              "  <tbody>\n",
              "    <tr>\n",
              "      <th>Call Failure</th>\n",
              "      <td>1.000000</td>\n",
              "      <td>0.149564</td>\n",
              "      <td>0.177206</td>\n",
              "      <td>0.585442</td>\n",
              "      <td>0.495463</td>\n",
              "      <td>0.567096</td>\n",
              "      <td>-0.031926</td>\n",
              "      <td>0.498604</td>\n",
              "      <td>0.049340</td>\n",
              "      <td>0.187537</td>\n",
              "      <td>-0.094090</td>\n",
              "      <td>0.043799</td>\n",
              "      <td>0.110228</td>\n",
              "      <td>0.003310</td>\n",
              "    </tr>\n",
              "    <tr>\n",
              "      <th>Complaints</th>\n",
              "      <td>0.149564</td>\n",
              "      <td>1.000000</td>\n",
              "      <td>-0.019229</td>\n",
              "      <td>-0.035887</td>\n",
              "      <td>-0.108934</td>\n",
              "      <td>-0.095519</td>\n",
              "      <td>-0.114729</td>\n",
              "      <td>-0.061314</td>\n",
              "      <td>0.015761</td>\n",
              "      <td>0.002461</td>\n",
              "      <td>0.282928</td>\n",
              "      <td>-0.000400</td>\n",
              "      <td>-0.136989</td>\n",
              "      <td>0.546055</td>\n",
              "    </tr>\n",
              "    <tr>\n",
              "      <th>Subscription Length</th>\n",
              "      <td>0.177206</td>\n",
              "      <td>-0.019229</td>\n",
              "      <td>1.000000</td>\n",
              "      <td>0.084275</td>\n",
              "      <td>0.127184</td>\n",
              "      <td>0.109148</td>\n",
              "      <td>0.080530</td>\n",
              "      <td>0.099215</td>\n",
              "      <td>0.030078</td>\n",
              "      <td>-0.160538</td>\n",
              "      <td>0.144235</td>\n",
              "      <td>0.005900</td>\n",
              "      <td>0.113184</td>\n",
              "      <td>-0.037984</td>\n",
              "    </tr>\n",
              "    <tr>\n",
              "      <th>Charge Amount</th>\n",
              "      <td>0.585442</td>\n",
              "      <td>-0.035887</td>\n",
              "      <td>0.084275</td>\n",
              "      <td>1.000000</td>\n",
              "      <td>0.443585</td>\n",
              "      <td>0.372646</td>\n",
              "      <td>0.085781</td>\n",
              "      <td>0.413897</td>\n",
              "      <td>0.282761</td>\n",
              "      <td>0.321193</td>\n",
              "      <td>-0.353311</td>\n",
              "      <td>0.283466</td>\n",
              "      <td>0.161852</td>\n",
              "      <td>-0.201662</td>\n",
              "    </tr>\n",
              "    <tr>\n",
              "      <th>Seconds of Use</th>\n",
              "      <td>0.495463</td>\n",
              "      <td>-0.108934</td>\n",
              "      <td>0.127184</td>\n",
              "      <td>0.443585</td>\n",
              "      <td>1.000000</td>\n",
              "      <td>0.945144</td>\n",
              "      <td>0.093073</td>\n",
              "      <td>0.671973</td>\n",
              "      <td>0.015253</td>\n",
              "      <td>0.127793</td>\n",
              "      <td>-0.449660</td>\n",
              "      <td>0.019383</td>\n",
              "      <td>0.408536</td>\n",
              "      <td>-0.295999</td>\n",
              "    </tr>\n",
              "    <tr>\n",
              "      <th>Frequency of use</th>\n",
              "      <td>0.567096</td>\n",
              "      <td>-0.095519</td>\n",
              "      <td>0.109148</td>\n",
              "      <td>0.372646</td>\n",
              "      <td>0.945144</td>\n",
              "      <td>1.000000</td>\n",
              "      <td>0.090712</td>\n",
              "      <td>0.731204</td>\n",
              "      <td>-0.039523</td>\n",
              "      <td>0.199873</td>\n",
              "      <td>-0.440601</td>\n",
              "      <td>-0.031574</td>\n",
              "      <td>0.394647</td>\n",
              "      <td>-0.298608</td>\n",
              "    </tr>\n",
              "    <tr>\n",
              "      <th>Frequency of SMS</th>\n",
              "      <td>-0.031926</td>\n",
              "      <td>-0.114729</td>\n",
              "      <td>0.080530</td>\n",
              "      <td>0.085781</td>\n",
              "      <td>0.093073</td>\n",
              "      <td>0.090712</td>\n",
              "      <td>1.000000</td>\n",
              "      <td>0.069717</td>\n",
              "      <td>-0.056859</td>\n",
              "      <td>0.193785</td>\n",
              "      <td>-0.288049</td>\n",
              "      <td>-0.093235</td>\n",
              "      <td>0.922852</td>\n",
              "      <td>-0.218894</td>\n",
              "    </tr>\n",
              "    <tr>\n",
              "      <th>Distinct Called Numbers</th>\n",
              "      <td>0.498604</td>\n",
              "      <td>-0.061314</td>\n",
              "      <td>0.099215</td>\n",
              "      <td>0.413897</td>\n",
              "      <td>0.671973</td>\n",
              "      <td>0.731204</td>\n",
              "      <td>0.069717</td>\n",
              "      <td>1.000000</td>\n",
              "      <td>0.015562</td>\n",
              "      <td>0.167037</td>\n",
              "      <td>-0.393052</td>\n",
              "      <td>0.049187</td>\n",
              "      <td>0.275447</td>\n",
              "      <td>-0.270343</td>\n",
              "    </tr>\n",
              "    <tr>\n",
              "      <th>Age Group</th>\n",
              "      <td>0.049340</td>\n",
              "      <td>0.015761</td>\n",
              "      <td>0.030078</td>\n",
              "      <td>0.282761</td>\n",
              "      <td>0.015253</td>\n",
              "      <td>-0.039523</td>\n",
              "      <td>-0.056859</td>\n",
              "      <td>0.015562</td>\n",
              "      <td>1.000000</td>\n",
              "      <td>-0.153496</td>\n",
              "      <td>0.020048</td>\n",
              "      <td>0.960877</td>\n",
              "      <td>-0.193461</td>\n",
              "      <td>-0.005891</td>\n",
              "    </tr>\n",
              "    <tr>\n",
              "      <th>Tariff Plan</th>\n",
              "      <td>0.187537</td>\n",
              "      <td>0.002461</td>\n",
              "      <td>-0.160538</td>\n",
              "      <td>0.321193</td>\n",
              "      <td>0.127793</td>\n",
              "      <td>0.199873</td>\n",
              "      <td>0.193785</td>\n",
              "      <td>0.167037</td>\n",
              "      <td>-0.153496</td>\n",
              "      <td>1.000000</td>\n",
              "      <td>-0.163083</td>\n",
              "      <td>-0.120429</td>\n",
              "      <td>0.249999</td>\n",
              "      <td>-0.106000</td>\n",
              "    </tr>\n",
              "    <tr>\n",
              "      <th>Status</th>\n",
              "      <td>-0.094090</td>\n",
              "      <td>0.282928</td>\n",
              "      <td>0.144235</td>\n",
              "      <td>-0.353311</td>\n",
              "      <td>-0.449660</td>\n",
              "      <td>-0.440601</td>\n",
              "      <td>-0.288049</td>\n",
              "      <td>-0.393052</td>\n",
              "      <td>0.020048</td>\n",
              "      <td>-0.163083</td>\n",
              "      <td>1.000000</td>\n",
              "      <td>0.011887</td>\n",
              "      <td>-0.403568</td>\n",
              "      <td>0.492867</td>\n",
              "    </tr>\n",
              "    <tr>\n",
              "      <th>Age</th>\n",
              "      <td>0.043799</td>\n",
              "      <td>-0.000400</td>\n",
              "      <td>0.005900</td>\n",
              "      <td>0.283466</td>\n",
              "      <td>0.019383</td>\n",
              "      <td>-0.031574</td>\n",
              "      <td>-0.093235</td>\n",
              "      <td>0.049187</td>\n",
              "      <td>0.960877</td>\n",
              "      <td>-0.120429</td>\n",
              "      <td>0.011887</td>\n",
              "      <td>1.000000</td>\n",
              "      <td>-0.227174</td>\n",
              "      <td>-0.011491</td>\n",
              "    </tr>\n",
              "    <tr>\n",
              "      <th>Customer Value</th>\n",
              "      <td>0.110228</td>\n",
              "      <td>-0.136989</td>\n",
              "      <td>0.113184</td>\n",
              "      <td>0.161852</td>\n",
              "      <td>0.408536</td>\n",
              "      <td>0.394647</td>\n",
              "      <td>0.922852</td>\n",
              "      <td>0.275447</td>\n",
              "      <td>-0.193461</td>\n",
              "      <td>0.249999</td>\n",
              "      <td>-0.403568</td>\n",
              "      <td>-0.227174</td>\n",
              "      <td>1.000000</td>\n",
              "      <td>-0.287078</td>\n",
              "    </tr>\n",
              "    <tr>\n",
              "      <th>Churn</th>\n",
              "      <td>0.003310</td>\n",
              "      <td>0.546055</td>\n",
              "      <td>-0.037984</td>\n",
              "      <td>-0.201662</td>\n",
              "      <td>-0.295999</td>\n",
              "      <td>-0.298608</td>\n",
              "      <td>-0.218894</td>\n",
              "      <td>-0.270343</td>\n",
              "      <td>-0.005891</td>\n",
              "      <td>-0.106000</td>\n",
              "      <td>0.492867</td>\n",
              "      <td>-0.011491</td>\n",
              "      <td>-0.287078</td>\n",
              "      <td>1.000000</td>\n",
              "    </tr>\n",
              "  </tbody>\n",
              "</table>\n",
              "</div>"
            ],
            "text/plain": [
              "                         Call Failure  Complaints  Subscription Length   \n",
              "Call Failure                 1.000000    0.149564             0.177206  \\\n",
              "Complaints                   0.149564    1.000000            -0.019229   \n",
              "Subscription Length          0.177206   -0.019229             1.000000   \n",
              "Charge Amount                0.585442   -0.035887             0.084275   \n",
              "Seconds of Use               0.495463   -0.108934             0.127184   \n",
              "Frequency of use             0.567096   -0.095519             0.109148   \n",
              "Frequency of SMS            -0.031926   -0.114729             0.080530   \n",
              "Distinct Called Numbers      0.498604   -0.061314             0.099215   \n",
              "Age Group                    0.049340    0.015761             0.030078   \n",
              "Tariff Plan                  0.187537    0.002461            -0.160538   \n",
              "Status                      -0.094090    0.282928             0.144235   \n",
              "Age                          0.043799   -0.000400             0.005900   \n",
              "Customer Value               0.110228   -0.136989             0.113184   \n",
              "Churn                        0.003310    0.546055            -0.037984   \n",
              "\n",
              "                         Charge Amount  Seconds of Use  Frequency of use   \n",
              "Call Failure                  0.585442        0.495463          0.567096  \\\n",
              "Complaints                   -0.035887       -0.108934         -0.095519   \n",
              "Subscription Length           0.084275        0.127184          0.109148   \n",
              "Charge Amount                 1.000000        0.443585          0.372646   \n",
              "Seconds of Use                0.443585        1.000000          0.945144   \n",
              "Frequency of use              0.372646        0.945144          1.000000   \n",
              "Frequency of SMS              0.085781        0.093073          0.090712   \n",
              "Distinct Called Numbers       0.413897        0.671973          0.731204   \n",
              "Age Group                     0.282761        0.015253         -0.039523   \n",
              "Tariff Plan                   0.321193        0.127793          0.199873   \n",
              "Status                       -0.353311       -0.449660         -0.440601   \n",
              "Age                           0.283466        0.019383         -0.031574   \n",
              "Customer Value                0.161852        0.408536          0.394647   \n",
              "Churn                        -0.201662       -0.295999         -0.298608   \n",
              "\n",
              "                         Frequency of SMS  Distinct Called Numbers  Age Group   \n",
              "Call Failure                    -0.031926                 0.498604   0.049340  \\\n",
              "Complaints                      -0.114729                -0.061314   0.015761   \n",
              "Subscription Length              0.080530                 0.099215   0.030078   \n",
              "Charge Amount                    0.085781                 0.413897   0.282761   \n",
              "Seconds of Use                   0.093073                 0.671973   0.015253   \n",
              "Frequency of use                 0.090712                 0.731204  -0.039523   \n",
              "Frequency of SMS                 1.000000                 0.069717  -0.056859   \n",
              "Distinct Called Numbers          0.069717                 1.000000   0.015562   \n",
              "Age Group                       -0.056859                 0.015562   1.000000   \n",
              "Tariff Plan                      0.193785                 0.167037  -0.153496   \n",
              "Status                          -0.288049                -0.393052   0.020048   \n",
              "Age                             -0.093235                 0.049187   0.960877   \n",
              "Customer Value                   0.922852                 0.275447  -0.193461   \n",
              "Churn                           -0.218894                -0.270343  -0.005891   \n",
              "\n",
              "                         Tariff Plan    Status       Age  Customer Value   \n",
              "Call Failure                0.187537 -0.094090  0.043799        0.110228  \\\n",
              "Complaints                  0.002461  0.282928 -0.000400       -0.136989   \n",
              "Subscription Length        -0.160538  0.144235  0.005900        0.113184   \n",
              "Charge Amount               0.321193 -0.353311  0.283466        0.161852   \n",
              "Seconds of Use              0.127793 -0.449660  0.019383        0.408536   \n",
              "Frequency of use            0.199873 -0.440601 -0.031574        0.394647   \n",
              "Frequency of SMS            0.193785 -0.288049 -0.093235        0.922852   \n",
              "Distinct Called Numbers     0.167037 -0.393052  0.049187        0.275447   \n",
              "Age Group                  -0.153496  0.020048  0.960877       -0.193461   \n",
              "Tariff Plan                 1.000000 -0.163083 -0.120429        0.249999   \n",
              "Status                     -0.163083  1.000000  0.011887       -0.403568   \n",
              "Age                        -0.120429  0.011887  1.000000       -0.227174   \n",
              "Customer Value              0.249999 -0.403568 -0.227174        1.000000   \n",
              "Churn                      -0.106000  0.492867 -0.011491       -0.287078   \n",
              "\n",
              "                            Churn  \n",
              "Call Failure             0.003310  \n",
              "Complaints               0.546055  \n",
              "Subscription Length     -0.037984  \n",
              "Charge Amount           -0.201662  \n",
              "Seconds of Use          -0.295999  \n",
              "Frequency of use        -0.298608  \n",
              "Frequency of SMS        -0.218894  \n",
              "Distinct Called Numbers -0.270343  \n",
              "Age Group               -0.005891  \n",
              "Tariff Plan             -0.106000  \n",
              "Status                   0.492867  \n",
              "Age                     -0.011491  \n",
              "Customer Value          -0.287078  \n",
              "Churn                    1.000000  "
            ]
          },
          "execution_count": 18,
          "metadata": {},
          "output_type": "execute_result"
        }
      ],
      "source": [
        "# Feature selection\n",
        "df.corr()"
      ]
    },
    {
      "attachments": {},
      "cell_type": "markdown",
      "metadata": {
        "id": "06ZDN5kvniTa"
      },
      "source": [
        "The feature pairs that show high correlation are \n",
        "* age-age group, \n",
        "* seconds of use-frequency of use,\n",
        "* frequency of SMS-customer value.\n"
      ]
    },
    {
      "attachments": {},
      "cell_type": "markdown",
      "metadata": {
        "id": "zZq6k_K1J9LL"
      },
      "source": [
        "We drop age feature as it is highly correlated with age group and having both provides no additional information to the model."
      ]
    },
    {
      "cell_type": "code",
      "execution_count": 19,
      "metadata": {
        "id": "cYdnCX3JFykz"
      },
      "outputs": [],
      "source": [
        "df = df.drop('Age',axis=1)"
      ]
    },
    {
      "attachments": {},
      "cell_type": "markdown",
      "metadata": {
        "id": "uNZlCtVlniTa"
      },
      "source": [
        "We also drop the customer value feature for the similar reason, in addition, we are not sure how it is defined. Moreover, it could possibly provide information which is not commonly availabel when trying to predict customer churn."
      ]
    },
    {
      "cell_type": "code",
      "execution_count": 20,
      "metadata": {
        "id": "XxHfwz37niTa"
      },
      "outputs": [],
      "source": [
        "df = df.drop('Customer Value',axis=1)"
      ]
    },
    {
      "attachments": {},
      "cell_type": "markdown",
      "metadata": {
        "id": "D_PwwJdrniTa"
      },
      "source": [
        "Next, we check the correlations of the features with the target variable."
      ]
    },
    {
      "cell_type": "code",
      "execution_count": 21,
      "metadata": {
        "colab": {
          "base_uri": "https://localhost:8080/"
        },
        "id": "-LYkQ_CNL2nF",
        "outputId": "ccc847bc-99cf-4fcc-d277-5944fe2240b3"
      },
      "outputs": [
        {
          "data": {
            "text/plain": [
              "Call Failure               0.003310\n",
              "Age Group                  0.005891\n",
              "Subscription Length        0.037984\n",
              "Tariff Plan                0.106000\n",
              "Charge Amount              0.201662\n",
              "Frequency of SMS           0.218894\n",
              "Distinct Called Numbers    0.270343\n",
              "Seconds of Use             0.295999\n",
              "Frequency of use           0.298608\n",
              "Status                     0.492867\n",
              "Complaints                 0.546055\n",
              "dtype: float64"
            ]
          },
          "execution_count": 21,
          "metadata": {},
          "output_type": "execute_result"
        }
      ],
      "source": [
        "# Separate the features and the label\n",
        "X = df.drop('Churn', axis=1)  \n",
        "y = df['Churn']\n",
        "\n",
        "# Calculate the correlation between features and label\n",
        "correlations = X.corrwith(y)\n",
        "correlations.abs().sort_values(ascending=True)"
      ]
    },
    {
      "attachments": {},
      "cell_type": "markdown",
      "metadata": {
        "id": "gvpWffXAMByr"
      },
      "source": [
        "Based on the results we drop the Call Failure prior to modeling as it arguably provides no predictive power.\n",
        "\n",
        "In addition, we drop the Tariff Plan feature. In our exploratory analysis, we saw customers were more likely to pay as they go rather than having a contractual tariff plan independetly on whether they churn or not."
      ]
    },
    {
      "cell_type": "code",
      "execution_count": 22,
      "metadata": {
        "id": "IeeBYYi9MIAb"
      },
      "outputs": [],
      "source": [
        "df = df.drop(['Call Failure','Tariff Plan'], axis=1)"
      ]
    },
    {
      "attachments": {},
      "cell_type": "markdown",
      "metadata": {
        "id": "HsV61f1iniTb"
      },
      "source": [
        "We create a new feature that contains information about the average length (seconds) of a call made by customers."
      ]
    },
    {
      "attachments": {},
      "cell_type": "markdown",
      "metadata": {
        "id": "Fic8i98m0-PG"
      },
      "source": [
        "### Construct data"
      ]
    },
    {
      "cell_type": "code",
      "execution_count": 23,
      "metadata": {
        "colab": {
          "base_uri": "https://localhost:8080/"
        },
        "id": "cUZFb20INLPE",
        "outputId": "271e3d44-96e3-4851-a4a3-5a94ca924e71"
      },
      "outputs": [
        {
          "data": {
            "text/plain": [
              "Complaints                   0\n",
              "Subscription Length          0\n",
              "Charge Amount                0\n",
              "Seconds of Use               0\n",
              "Frequency of use             0\n",
              "Frequency of SMS             0\n",
              "Distinct Called Numbers      0\n",
              "Age Group                    0\n",
              "Status                       0\n",
              "Churn                        0\n",
              "Average Call               107\n",
              "dtype: int64"
            ]
          },
          "execution_count": 23,
          "metadata": {},
          "output_type": "execute_result"
        }
      ],
      "source": [
        "# Feature engineering\n",
        "df['Average Call']=df['Seconds of Use']/df['Frequency of use']\n",
        "df.isna().sum()"
      ]
    },
    {
      "attachments": {},
      "cell_type": "markdown",
      "metadata": {
        "id": "Tbmn4f0ZNPpC"
      },
      "source": [
        " However, since there are instances of zero frequency of use, we introduce NaNs in our dataset. To overcome this issue we impute the values with the seconds of use for that observation."
      ]
    },
    {
      "cell_type": "code",
      "execution_count": 24,
      "metadata": {
        "colab": {
          "base_uri": "https://localhost:8080/"
        },
        "id": "J3aM_uiBniTc",
        "outputId": "58505f3c-32d1-41f3-f6c1-ccd1f6a98aef"
      },
      "outputs": [
        {
          "data": {
            "text/plain": [
              "Complaints                 0\n",
              "Subscription Length        0\n",
              "Charge Amount              0\n",
              "Seconds of Use             0\n",
              "Frequency of use           0\n",
              "Frequency of SMS           0\n",
              "Distinct Called Numbers    0\n",
              "Age Group                  0\n",
              "Status                     0\n",
              "Churn                      0\n",
              "Average Call               0\n",
              "dtype: int64"
            ]
          },
          "execution_count": 24,
          "metadata": {},
          "output_type": "execute_result"
        }
      ],
      "source": [
        "df[\"Average Call\"].fillna(df[\"Seconds of Use\"], inplace=True)\n",
        "df.isna().sum()"
      ]
    },
    {
      "attachments": {},
      "cell_type": "markdown",
      "metadata": {
        "id": "_0j43DIDniTc"
      },
      "source": [
        "Then we drop the pair of correlated features used for creating the the average call."
      ]
    },
    {
      "cell_type": "code",
      "execution_count": 25,
      "metadata": {
        "id": "fR38BYZWniTc"
      },
      "outputs": [],
      "source": [
        "df=df.drop(['Seconds of Use','Frequency of use'],axis=1)"
      ]
    },
    {
      "attachments": {},
      "cell_type": "markdown",
      "metadata": {
        "id": "rOdAiw8H_r5U"
      },
      "source": [
        "As we have seen during data exploration, in our telco DataFrame, the features have different ranges.\n",
        "We are therefore left with one final preprocessing step of scaling before we can fit a machine learning model to the data."
      ]
    },
    {
      "attachments": {},
      "cell_type": "markdown",
      "metadata": {
        "id": "T1PeXWWv06-d"
      },
      "source": [
        "### Format data"
      ]
    },
    {
      "cell_type": "code",
      "execution_count": 26,
      "metadata": {
        "colab": {
          "base_uri": "https://localhost:8080/",
          "height": 301
        },
        "id": "Qf4b_8KvAKk6",
        "outputId": "7fe32cd3-97f6-4099-b4dd-a0b92a1c51a4"
      },
      "outputs": [
        {
          "data": {
            "text/html": [
              "<div>\n",
              "<style scoped>\n",
              "    .dataframe tbody tr th:only-of-type {\n",
              "        vertical-align: middle;\n",
              "    }\n",
              "\n",
              "    .dataframe tbody tr th {\n",
              "        vertical-align: top;\n",
              "    }\n",
              "\n",
              "    .dataframe thead th {\n",
              "        text-align: right;\n",
              "    }\n",
              "</style>\n",
              "<table border=\"1\" class=\"dataframe\">\n",
              "  <thead>\n",
              "    <tr style=\"text-align: right;\">\n",
              "      <th></th>\n",
              "      <th>Complaints</th>\n",
              "      <th>Subscription Length</th>\n",
              "      <th>Charge Amount</th>\n",
              "      <th>Frequency of SMS</th>\n",
              "      <th>Distinct Called Numbers</th>\n",
              "      <th>Age Group</th>\n",
              "      <th>Status</th>\n",
              "      <th>Average Call</th>\n",
              "    </tr>\n",
              "  </thead>\n",
              "  <tbody>\n",
              "    <tr>\n",
              "      <th>count</th>\n",
              "      <td>2850.000000</td>\n",
              "      <td>2850.000000</td>\n",
              "      <td>2850.000000</td>\n",
              "      <td>2850.000000</td>\n",
              "      <td>2850.000000</td>\n",
              "      <td>2850.000000</td>\n",
              "      <td>2850.000000</td>\n",
              "      <td>2850.000000</td>\n",
              "    </tr>\n",
              "    <tr>\n",
              "      <th>mean</th>\n",
              "      <td>0.080702</td>\n",
              "      <td>0.669386</td>\n",
              "      <td>0.097474</td>\n",
              "      <td>0.141360</td>\n",
              "      <td>0.246088</td>\n",
              "      <td>0.458772</td>\n",
              "      <td>0.240000</td>\n",
              "      <td>0.099713</td>\n",
              "    </tr>\n",
              "    <tr>\n",
              "      <th>std</th>\n",
              "      <td>0.272424</td>\n",
              "      <td>0.198252</td>\n",
              "      <td>0.155062</td>\n",
              "      <td>0.214679</td>\n",
              "      <td>0.177257</td>\n",
              "      <td>0.223376</td>\n",
              "      <td>0.427158</td>\n",
              "      <td>0.056061</td>\n",
              "    </tr>\n",
              "    <tr>\n",
              "      <th>min</th>\n",
              "      <td>0.000000</td>\n",
              "      <td>0.000000</td>\n",
              "      <td>0.000000</td>\n",
              "      <td>0.000000</td>\n",
              "      <td>0.000000</td>\n",
              "      <td>0.000000</td>\n",
              "      <td>0.000000</td>\n",
              "      <td>0.000000</td>\n",
              "    </tr>\n",
              "    <tr>\n",
              "      <th>25%</th>\n",
              "      <td>0.000000</td>\n",
              "      <td>0.590909</td>\n",
              "      <td>0.000000</td>\n",
              "      <td>0.013410</td>\n",
              "      <td>0.113402</td>\n",
              "      <td>0.250000</td>\n",
              "      <td>0.000000</td>\n",
              "      <td>0.071315</td>\n",
              "    </tr>\n",
              "    <tr>\n",
              "      <th>50%</th>\n",
              "      <td>0.000000</td>\n",
              "      <td>0.727273</td>\n",
              "      <td>0.000000</td>\n",
              "      <td>0.042146</td>\n",
              "      <td>0.216495</td>\n",
              "      <td>0.500000</td>\n",
              "      <td>0.000000</td>\n",
              "      <td>0.094330</td>\n",
              "    </tr>\n",
              "    <tr>\n",
              "      <th>75%</th>\n",
              "      <td>0.000000</td>\n",
              "      <td>0.795455</td>\n",
              "      <td>0.200000</td>\n",
              "      <td>0.168582</td>\n",
              "      <td>0.350515</td>\n",
              "      <td>0.500000</td>\n",
              "      <td>0.000000</td>\n",
              "      <td>0.116643</td>\n",
              "    </tr>\n",
              "    <tr>\n",
              "      <th>max</th>\n",
              "      <td>1.000000</td>\n",
              "      <td>1.000000</td>\n",
              "      <td>1.000000</td>\n",
              "      <td>1.000000</td>\n",
              "      <td>1.000000</td>\n",
              "      <td>1.000000</td>\n",
              "      <td>1.000000</td>\n",
              "      <td>1.000000</td>\n",
              "    </tr>\n",
              "  </tbody>\n",
              "</table>\n",
              "</div>"
            ],
            "text/plain": [
              "        Complaints  Subscription Length  Charge Amount  Frequency of SMS   \n",
              "count  2850.000000          2850.000000    2850.000000       2850.000000  \\\n",
              "mean      0.080702             0.669386       0.097474          0.141360   \n",
              "std       0.272424             0.198252       0.155062          0.214679   \n",
              "min       0.000000             0.000000       0.000000          0.000000   \n",
              "25%       0.000000             0.590909       0.000000          0.013410   \n",
              "50%       0.000000             0.727273       0.000000          0.042146   \n",
              "75%       0.000000             0.795455       0.200000          0.168582   \n",
              "max       1.000000             1.000000       1.000000          1.000000   \n",
              "\n",
              "       Distinct Called Numbers    Age Group       Status  Average Call  \n",
              "count              2850.000000  2850.000000  2850.000000   2850.000000  \n",
              "mean                  0.246088     0.458772     0.240000      0.099713  \n",
              "std                   0.177257     0.223376     0.427158      0.056061  \n",
              "min                   0.000000     0.000000     0.000000      0.000000  \n",
              "25%                   0.113402     0.250000     0.000000      0.071315  \n",
              "50%                   0.216495     0.500000     0.000000      0.094330  \n",
              "75%                   0.350515     0.500000     0.000000      0.116643  \n",
              "max                   1.000000     1.000000     1.000000      1.000000  "
            ]
          },
          "metadata": {},
          "output_type": "display_data"
        }
      ],
      "source": [
        "# Separate the features and the label\n",
        "X = df.drop('Churn', axis=1)  \n",
        "y = df['Churn']\n",
        "\n",
        "# Import MinMaxScaler\n",
        "from sklearn.preprocessing import MinMaxScaler\n",
        "\n",
        "X_scaled = MinMaxScaler().fit_transform(X)\n",
        "\n",
        "# Add column names back for readability\n",
        "X_scaled_df = pd.DataFrame(X_scaled, columns= list(X.columns))\n",
        "\n",
        "# Print summary statistics\n",
        "display(X_scaled_df.describe())"
      ]
    },
    {
      "attachments": {},
      "cell_type": "markdown",
      "metadata": {
        "id": "2tqv75X9dvay"
      },
      "source": [
        "## 4. Modeling"
      ]
    },
    {
      "attachments": {},
      "cell_type": "markdown",
      "metadata": {
        "id": "ytJ4s0LD1_ve"
      },
      "source": [
        "### Select modeling technique"
      ]
    },
    {
      "attachments": {},
      "cell_type": "markdown",
      "metadata": {
        "id": "t2oxBgkge9gm"
      },
      "source": [
        "Our goal is to predict whether or not a customer will churn based on various features. Here, since we have a clearly defined target variable - 'Churn' - we will be using supervised machine learning techniques to make predictions. We have historical data that contains information about whether or not a given customer churned. The goal of our models is to learn from this data so that we can make predictions whether or not new customers will churn."
      ]
    },
    {
      "attachments": {},
      "cell_type": "markdown",
      "metadata": {
        "id": "5GO7FLG02J72"
      },
      "source": [
        "### Generate test design"
      ]
    },
    {
      "attachments": {},
      "cell_type": "markdown",
      "metadata": {
        "id": "np3_uns-CmVp"
      },
      "source": [
        "We split the dataset into two: a training set which will be used to build a churn model, and a test set which will be used to validate the model. "
      ]
    },
    {
      "cell_type": "code",
      "execution_count": 27,
      "metadata": {
        "colab": {
          "base_uri": "https://localhost:8080/"
        },
        "id": "FpHjkPtpDTyW",
        "outputId": "1989e884-3f13-4732-e3fe-fedf2325104d"
      },
      "outputs": [
        {
          "name": "stdout",
          "output_type": "stream",
          "text": [
            "Train size: 1995 \n",
            "Test size: 855\n"
          ]
        }
      ],
      "source": [
        "# Import train_test_split\n",
        "from sklearn.model_selection import train_test_split\n",
        "\n",
        "# Create training and testing sets\n",
        "X_train_scaled, X_test_scaled, y_train, y_test = train_test_split(X_scaled, y, test_size=0.3,random_state=42)\n",
        "\n",
        "# Check the splits\n",
        "print(f\"Train size: {round(len(X_train_scaled) )} \\n\\\n",
        "Test size: {round(len(X_test_scaled) )}\")\n"
      ]
    },
    {
      "attachments": {},
      "cell_type": "markdown",
      "metadata": {
        "id": "Q1FbATPc2PFG"
      },
      "source": [
        "### Build model"
      ]
    },
    {
      "attachments": {},
      "cell_type": "markdown",
      "metadata": {
        "id": "Y-7vEW0JniTd"
      },
      "source": [
        "For classification problems, a good baseline model to begin with is logistic regression. It offers simplicity and interpretability. However, it is not flexible enough to capture more complex relationships in datasets. Random Forests are a good next step - they have high performance but offer limited interpretability. Support Vector Machines are another option. They generally perform well, but are inefficient trainers and are not very interpretable."
      ]
    },
    {
      "cell_type": "code",
      "execution_count": 28,
      "metadata": {
        "id": "pk4bNCeFniTd"
      },
      "outputs": [],
      "source": [
        "from sklearn.linear_model import LogisticRegression\n",
        "from sklearn.svm import SVC\n",
        "from sklearn.ensemble import RandomForestClassifier\n",
        "\n",
        "# Instatiating the models \n",
        "logreg = LogisticRegression(random_state = 42)\n",
        "svm = SVC()\n",
        "rf = RandomForestClassifier(random_state = 42)\n",
        "\n",
        "# Training the models \n",
        "logreg.fit(X_train_scaled, y_train)\n",
        "svm.fit(X_train_scaled, y_train)\n",
        "rf.fit(X_train_scaled, y_train)\n",
        "\n",
        "# Making predictions with each model\n",
        "logreg_preds = logreg.predict(X_test_scaled)\n",
        "svm_preds = svm.predict(X_test_scaled)\n",
        "rf_preds = rf.predict(X_test_scaled)\n"
      ]
    },
    {
      "attachments": {},
      "cell_type": "markdown",
      "metadata": {
        "id": "fF9Tp-X-2V--"
      },
      "source": [
        "### Assess model"
      ]
    },
    {
      "attachments": {},
      "cell_type": "markdown",
      "metadata": {
        "id": "sxB1zmrmniTd"
      },
      "source": [
        "We are going to use classification_report() from the metrics module to build a text report showing the main classification metrics such as precision, recall, f1_score, accuracy."
      ]
    },
    {
      "cell_type": "code",
      "execution_count": 29,
      "metadata": {
        "colab": {
          "base_uri": "https://localhost:8080/"
        },
        "id": "QnBqovHUniTe",
        "outputId": "f1b9ffdf-467f-4e5c-886e-bc2d8c271446"
      },
      "outputs": [
        {
          "name": "stdout",
          "output_type": "stream",
          "text": [
            "Logistic Regression Results:\n",
            "              precision    recall  f1-score   support\n",
            "\n",
            "           0       0.90      0.99      0.94       723\n",
            "           1       0.85      0.38      0.52       132\n",
            "\n",
            "    accuracy                           0.89       855\n",
            "   macro avg       0.87      0.68      0.73       855\n",
            "weighted avg       0.89      0.89      0.88       855\n",
            "\n",
            "Support Vector Machine Results:\n",
            "              precision    recall  f1-score   support\n",
            "\n",
            "           0       0.90      0.99      0.94       723\n",
            "           1       0.85      0.39      0.53       132\n",
            "\n",
            "    accuracy                           0.89       855\n",
            "   macro avg       0.87      0.69      0.74       855\n",
            "weighted avg       0.89      0.89      0.88       855\n",
            "\n",
            "Random Forest Results:\n",
            "              precision    recall  f1-score   support\n",
            "\n",
            "           0       0.96      0.98      0.97       723\n",
            "           1       0.87      0.77      0.81       132\n",
            "\n",
            "    accuracy                           0.95       855\n",
            "   macro avg       0.91      0.87      0.89       855\n",
            "weighted avg       0.94      0.95      0.94       855\n",
            "\n"
          ]
        }
      ],
      "source": [
        "from sklearn.metrics import classification_report\n",
        "\n",
        "# Store model predictions in a dictionary\n",
        "# this makes it's easier to iterate through each model\n",
        "# and print the results. \n",
        "model_preds = {\n",
        "    \"Logistic Regression\": logreg_preds,\n",
        "    \"Support Vector Machine\": svm_preds,\n",
        "    \"Random Forest\": rf_preds\n",
        "}\n",
        "\n",
        "for model, preds in model_preds.items():\n",
        "    print(f\"{model} Results:\\n{classification_report(y_test, preds)}\", sep=\"\\n\\n\")"
      ]
    },
    {
      "attachments": {},
      "cell_type": "markdown",
      "metadata": {
        "id": "6Rks4pwzniTe"
      },
      "source": [
        "It seems as though the random forest is the best model and the following work will apply it as the classifier of choice."
      ]
    },
    {
      "attachments": {},
      "cell_type": "markdown",
      "metadata": {
        "id": "EmA-4mlj2wDG"
      },
      "source": [
        "## 5. Evaluation"
      ]
    },
    {
      "attachments": {},
      "cell_type": "markdown",
      "metadata": {
        "id": "y8RB8apqEoxj"
      },
      "source": [
        " In our churn dataset, there are more than 5 times as many non-churners as there are churners. This can have an impact on model performance as it might learn to always predict the majority class - in this case, that the customer will not churn."
      ]
    },
    {
      "cell_type": "code",
      "execution_count": 30,
      "metadata": {
        "colab": {
          "base_uri": "https://localhost:8080/",
          "height": 69
        },
        "id": "LW7uRJj7E99D",
        "outputId": "08f38d9c-661b-49a8-9eaa-a5298d9a0cb2"
      },
      "outputs": [
        {
          "data": {
            "text/plain": [
              "Churn\n",
              "0    2404\n",
              "1     446\n",
              "Name: count, dtype: int64"
            ]
          },
          "metadata": {},
          "output_type": "display_data"
        }
      ],
      "source": [
        "display(df[\"Churn\"].value_counts())"
      ]
    },
    {
      "attachments": {},
      "cell_type": "markdown",
      "metadata": {
        "id": "S7jMDEcJFaUF"
      },
      "source": [
        "This means is that when working with imbalanced classes, accuracy is not a very useful metric. If we were to build a classifier that always predicted that a customer would not churn, it would be very accurate - about 84% accurate, in this case - yet it would completely fail at identifying customers who will actually churn."
      ]
    },
    {
      "cell_type": "code",
      "execution_count": 31,
      "metadata": {
        "colab": {
          "base_uri": "https://localhost:8080/",
          "height": 69
        },
        "id": "5Z2WQ8ZUFmZF",
        "outputId": "62f6ea43-e31c-4fbe-ba09-dab9ac4d4e3b"
      },
      "outputs": [
        {
          "data": {
            "text/plain": [
              "Churn\n",
              "0    0.843509\n",
              "1    0.156491\n",
              "Name: proportion, dtype: float64"
            ]
          },
          "metadata": {},
          "output_type": "display_data"
        }
      ],
      "source": [
        "display(df[\"Churn\"].value_counts(normalize=True))"
      ]
    },
    {
      "attachments": {},
      "cell_type": "markdown",
      "metadata": {
        "id": "bhKsTifrHJu-"
      },
      "source": [
        "In the case of predicting customer churn, metrics such as precision and recall are more valuable. \n",
        "* Precision - Of all the users that the algorithm predicts will churn, how many of them do actually churn?\n",
        "* Recall – What percentage of users that end up churning does the algorithm successfully find?\n",
        "\n",
        "The confusion matrix helps us to view our model's performance from these aspects."
      ]
    },
    {
      "attachments": {},
      "cell_type": "markdown",
      "metadata": {
        "id": "QcFBH01o4ltn"
      },
      "source": [
        "### Evaluate results"
      ]
    },
    {
      "cell_type": "code",
      "execution_count": 32,
      "metadata": {
        "colab": {
          "base_uri": "https://localhost:8080/",
          "height": 446
        },
        "id": "TbxzzgL9GD0V",
        "outputId": "29b79de7-db4f-4bc7-f8a4-f87b758adafe"
      },
      "outputs": [
        {
          "name": "stdout",
          "output_type": "stream",
          "text": [
            "[[708  15]\n",
            " [ 31 101]]\n"
          ]
        },
        {
          "data": {
            "text/plain": [
              "<sklearn.metrics._plot.confusion_matrix.ConfusionMatrixDisplay at 0x264dfca05d0>"
            ]
          },
          "metadata": {},
          "output_type": "display_data"
        },
        {
          "data": {
            "image/png": "[encoded data removed]",
            "text/plain": [
              "<Figure size 1100x400 with 2 Axes>"
            ]
          },
          "metadata": {},
          "output_type": "display_data"
        }
      ],
      "source": [
        "# Store predicted labels of the Random Forest classifier \n",
        "y_pred = rf_preds\n",
        "\n",
        "# Import additional metrics\n",
        "from sklearn.metrics import confusion_matrix\n",
        "from sklearn.metrics import precision_score\n",
        "from sklearn.metrics import recall_score\n",
        "from sklearn.metrics import ConfusionMatrixDisplay\n",
        "\n",
        "\n",
        "# Print the confusion matrix\n",
        "print(confusion_matrix(y_test, y_pred))\n",
        "# visualize\n",
        "display(ConfusionMatrixDisplay.from_estimator(rf, X_test_scaled, y_test))"
      ]
    },
    {
      "attachments": {},
      "cell_type": "markdown",
      "metadata": {
        "id": "CVP1vn4OJIEo"
      },
      "source": [
        "There are 15 false positives and 31 false negatives."
      ]
    },
    {
      "cell_type": "code",
      "execution_count": 33,
      "metadata": {
        "colab": {
          "base_uri": "https://localhost:8080/"
        },
        "id": "audiiNXMLPd8",
        "outputId": "72478f71-06d4-4d81-a7f5-9eae2ac57086"
      },
      "outputs": [
        {
          "name": "stdout",
          "output_type": "stream",
          "text": [
            "0.8706896551724138\n"
          ]
        }
      ],
      "source": [
        "# Print the precision\n",
        "print(precision_score(y_test,y_pred))"
      ]
    },
    {
      "cell_type": "code",
      "execution_count": 34,
      "metadata": {
        "colab": {
          "base_uri": "https://localhost:8080/"
        },
        "id": "A3Aje_mPLKYf",
        "outputId": "25af8be4-af6b-4313-bafc-50a80a178f70"
      },
      "outputs": [
        {
          "name": "stdout",
          "output_type": "stream",
          "text": [
            "0.7651515151515151\n"
          ]
        }
      ],
      "source": [
        "# Print the recall\n",
        "print(recall_score(y_test, y_pred))"
      ]
    },
    {
      "cell_type": "code",
      "execution_count": 35,
      "metadata": {
        "colab": {
          "base_uri": "https://localhost:8080/"
        },
        "id": "SJZuE4I1JbLq",
        "outputId": "ddfba6cb-f001-47dc-d922-b30ae966f39b"
      },
      "outputs": [
        {
          "name": "stdout",
          "output_type": "stream",
          "text": [
            "[[469  10]\n",
            " [ 25  66]]\n"
          ]
        }
      ],
      "source": [
        "# Varying training set size\n",
        "X_train_scaled2, X_test_scaled2, y_train2, y_test2 = train_test_split(X_scaled, y, test_size=0.2,random_state=42)\n",
        "\n",
        "# Fit to the training data\n",
        "rf.fit(X_train_scaled2, y_train2)\n",
        "\n",
        "# Predict the labels of the test set\n",
        "y_pred2 = rf.predict(X_test_scaled2)\n",
        "\n",
        "# Print confusion matrix\n",
        "print(confusion_matrix(y_test2,y_pred2))"
      ]
    },
    {
      "cell_type": "code",
      "execution_count": 36,
      "metadata": {
        "colab": {
          "base_uri": "https://localhost:8080/"
        },
        "id": "dJrYGeMCKutP",
        "outputId": "13f16715-166a-4d66-b2e7-e04e9fd83e9e"
      },
      "outputs": [
        {
          "name": "stdout",
          "output_type": "stream",
          "text": [
            "0.868421052631579\n"
          ]
        }
      ],
      "source": [
        "# Print the precision\n",
        "print(precision_score(y_test2,y_pred2))"
      ]
    },
    {
      "cell_type": "code",
      "execution_count": 37,
      "metadata": {
        "colab": {
          "base_uri": "https://localhost:8080/"
        },
        "id": "Z8T7FAMOKzS_",
        "outputId": "c8269b1e-e054-43e5-db4f-791ca92e9403"
      },
      "outputs": [
        {
          "name": "stdout",
          "output_type": "stream",
          "text": [
            "0.7252747252747253\n"
          ]
        }
      ],
      "source": [
        "# Print the recall\n",
        "print(recall_score(y_test2, y_pred2))"
      ]
    },
    {
      "attachments": {},
      "cell_type": "markdown",
      "metadata": {
        "id": "HZGCF2iFLdKr"
      },
      "source": [
        "The model with 80% training data ended up with a lower precision and recall than the one with 70%."
      ]
    },
    {
      "cell_type": "code",
      "execution_count": 38,
      "metadata": {
        "colab": {
          "base_uri": "https://localhost:8080/",
          "height": 392
        },
        "id": "PFj07vv1L2Av",
        "outputId": "d1b177cd-5e4b-4c08-ef65-31574ecde298"
      },
      "outputs": [
        {
          "data": {
            "image/png": "[encoded data removed]",
            "text/plain": [
              "<Figure size 1100x400 with 1 Axes>"
            ]
          },
          "metadata": {},
          "output_type": "display_data"
        }
      ],
      "source": [
        "# Other model metrics\n",
        "\n",
        "# Generate the probabilities\n",
        "y_pred_prob = rf.predict_proba(X_test_scaled)[:, 1]\n",
        "\n",
        "# Import roc_curve\n",
        "from sklearn.metrics import roc_curve\n",
        "\n",
        "# Calculate the roc metrics\n",
        "fpr, tpr, thresholds = roc_curve(y_test, y_pred_prob)\n",
        "\n",
        "# Plot the ROC curve\n",
        "plt.plot(fpr, tpr)\n",
        "\n",
        "# Add labels and diagonal line\n",
        "plt.xlabel(\"False Positive Rate\")\n",
        "plt.ylabel(\"True Positive Rate\")\n",
        "plt.plot([0, 1], [0, 1], \"k--\")\n",
        "plt.show()"
      ]
    },
    {
      "attachments": {},
      "cell_type": "markdown",
      "metadata": {
        "id": "PeclXCpaMn4c"
      },
      "source": [
        "Every prediction the classifier makes on a new data point has an associated probability. By default in scikit-learn, if this probability is above 50%, then the model would predict the data point as belonging to the positive class, and if it is lower than 50%, it would predict the negative class. If we vary this threshold, and, for each threshold, plot the model's true positive rate against the false positive rate we get the ROC curve. \n",
        "\n",
        "Visually, it looks like a well-performing model. Let's quantify this by computing the area under the curve, a better performing model will have a larger area under the curve."
      ]
    },
    {
      "cell_type": "code",
      "execution_count": 39,
      "metadata": {
        "colab": {
          "base_uri": "https://localhost:8080/"
        },
        "id": "-rg1HYJNMp09",
        "outputId": "023e598a-c124-464c-a91b-f6267e06988a"
      },
      "outputs": [
        {
          "name": "stdout",
          "output_type": "stream",
          "text": [
            "0.9884634729033068\n"
          ]
        }
      ],
      "source": [
        "# Import roc_auc_score\n",
        "from sklearn.metrics import roc_auc_score\n",
        "\n",
        "# Print the AUC\n",
        "print(roc_auc_score(y_test,y_pred_prob))"
      ]
    },
    {
      "attachments": {},
      "cell_type": "markdown",
      "metadata": {
        "id": "jVhDRruYM3CT"
      },
      "source": [
        "This indicates that this baseline random forest classifier is quite good!"
      ]
    },
    {
      "attachments": {},
      "cell_type": "markdown",
      "metadata": {
        "id": "Y67bb6XNOPyE"
      },
      "source": [
        " Another metric is the F1 score, which is calculated as: 2 * (precision * recall) / (precision + recall)"
      ]
    },
    {
      "cell_type": "code",
      "execution_count": 40,
      "metadata": {
        "colab": {
          "base_uri": "https://localhost:8080/"
        },
        "id": "fRDEt88GObSJ",
        "outputId": "593163fc-3b1d-436b-cd36-4faf73ce91a4"
      },
      "outputs": [
        {
          "name": "stdout",
          "output_type": "stream",
          "text": [
            "0.8145161290322581\n"
          ]
        }
      ],
      "source": [
        "# Import f1_score\n",
        "from sklearn.metrics import f1_score\n",
        "\n",
        "# Print the F1 score\n",
        "print(f1_score(y_pred,y_test))"
      ]
    },
    {
      "attachments": {},
      "cell_type": "markdown",
      "metadata": {
        "id": "hBm6KL_jniTh"
      },
      "source": [
        "Next, we will use Cross-validation  to evaluate the model on multiple test sets instead of just one test set."
      ]
    },
    {
      "cell_type": "code",
      "execution_count": 41,
      "metadata": {
        "colab": {
          "base_uri": "https://localhost:8080/"
        },
        "id": "OHQSecHRniTi",
        "outputId": "f8976847-ffc4-4f47-de17-c8e213b0b7d5"
      },
      "outputs": [
        {
          "name": "stdout",
          "output_type": "stream",
          "text": [
            "Cross-Validation Scores: {'fit_time': array([0.20096231, 0.18664622, 0.19166708, 0.19909453, 0.19598508]), 'score_time': array([0.01399994, 0.01300025, 0.01293159, 0.0136764 , 0.01264238]), 'estimator': [RandomForestClassifier(random_state=42), RandomForestClassifier(random_state=42), RandomForestClassifier(random_state=42), RandomForestClassifier(random_state=42), RandomForestClassifier(random_state=42)], 'test_accuracy': array([0.95087719, 0.94736842, 0.95263158, 0.93859649, 0.94035088]), 'test_precision': array([0.87654321, 0.86419753, 0.86904762, 0.85526316, 0.88888889]), 'test_recall': array([0.79775281, 0.78651685, 0.82022472, 0.73033708, 0.71111111]), 'test_f1': array([0.83529412, 0.82352941, 0.84393064, 0.78787879, 0.79012346])}\n"
          ]
        }
      ],
      "source": [
        "from sklearn.model_selection import cross_validate\n",
        "# Define the scoring metrics\n",
        "metrics = [\"accuracy\", \"precision\", \"recall\", \"f1\"]\n",
        "# Perform 5-fold cross-validation\n",
        "cv_scores = cross_validate(rf, X_scaled, y, cv=5, scoring=metrics,return_estimator=True)\n",
        "# Print the cross-validation scores\n",
        "print(\"Cross-Validation Scores:\", cv_scores)"
      ]
    },
    {
      "attachments": {},
      "cell_type": "markdown",
      "metadata": {
        "id": "6zPDAhTLniTi"
      },
      "source": [
        "The most important things to look at are the mean and the standard deviation of the scores. The mean tells us how good the model is on average. The standard deviation tells us how consistent the model is. If the standard deviation is high, it means that the model performs very differently on different folds."
      ]
    },
    {
      "cell_type": "code",
      "execution_count": 42,
      "metadata": {
        "colab": {
          "base_uri": "https://localhost:8080/"
        },
        "id": "sBIRfywuniTi",
        "outputId": "8baedcb5-f8d7-476d-c91b-5e3ca1d3304f"
      },
      "outputs": [
        {
          "name": "stdout",
          "output_type": "stream",
          "text": [
            "Mean accuracy : 0.946, std: 0.006\n",
            "Mean precision : 0.871, std: 0.011\n",
            "Mean recall : 0.769, std: 0.041\n",
            "Mean f1 : 0.816, std: 0.023\n"
          ]
        }
      ],
      "source": [
        "for metric in metrics:\n",
        "    metric_key = f\"test_{metric}\"\n",
        "    print(f\"Mean {metric} : {cv_scores[metric_key].mean():.3f}, std: {cv_scores[metric_key].std():.3f}\")"
      ]
    },
    {
      "attachments": {},
      "cell_type": "markdown",
      "metadata": {
        "id": "XRPwvxV3_tDV"
      },
      "source": [
        "We can get the model with the best score:"
      ]
    },
    {
      "cell_type": "code",
      "execution_count": 43,
      "metadata": {
        "colab": {
          "base_uri": "https://localhost:8080/"
        },
        "id": "nIT9Sgui_wyK",
        "outputId": "0791d5f6-71b3-4d2b-af63-10f48afb38bf"
      },
      "outputs": [
        {
          "name": "stdout",
          "output_type": "stream",
          "text": [
            "RandomForestClassifier(random_state=42)\n"
          ]
        }
      ],
      "source": [
        "import numpy as np\n",
        "\n",
        "# Get the scores for the specified metric\n",
        "scores = cv_scores[\"test_f1\"]\n",
        "# Find the index of the model with the best performance\n",
        "best_model_index = np.argmax(scores)\n",
        "# Get the best model\n",
        "best_model = cv_scores[\"estimator\"][best_model_index]\n",
        "print(best_model)"
      ]
    },
    {
      "attachments": {},
      "cell_type": "markdown",
      "metadata": {
        "id": "CylMLu_nCJyE"
      },
      "source": [
        "And the corresponding metrics:"
      ]
    },
    {
      "cell_type": "code",
      "execution_count": 44,
      "metadata": {
        "colab": {
          "base_uri": "https://localhost:8080/"
        },
        "id": "s89LnWhZB92X",
        "outputId": "d614762c-bbc7-4f16-a1c9-c73f822826fd"
      },
      "outputs": [
        {
          "name": "stdout",
          "output_type": "stream",
          "text": [
            "Best accuracy : 0.953\n",
            "Best precision : 0.889\n",
            "Best recall : 0.820\n",
            "Best f1 : 0.844\n"
          ]
        }
      ],
      "source": [
        "for metric in metrics:\n",
        "    metric_key = f\"test_{metric}\"\n",
        "    print(f\"Best {metric} : {cv_scores[metric_key].max():.3f}\")"
      ]
    },
    {
      "attachments": {},
      "cell_type": "markdown",
      "metadata": {
        "id": "XODfSlPHQC3q"
      },
      "source": [
        "### Review process"
      ]
    },
    {
      "attachments": {},
      "cell_type": "markdown",
      "metadata": {
        "id": "H3aNWZ7SQQtb"
      },
      "source": [
        "Each machine learning algorithm has its own specific hyperparameters. These are at are set before the model is trained, and these values inform how the model learns from the data. Grid search is a brute force search through the hyperparameter space to find the optimal value for the hyperparameter of interest. The default hyperparameters used by models are not optimized for the data. The goal of grid search cross-validation is to identify those hyperparameters that lead to optimal model performance.\n",
        "\n",
        "We will now tune our model using randomized search, the training data and a 3 fold cross validation."
      ]
    },
    {
      "attachments": {},
      "cell_type": "markdown",
      "metadata": {
        "id": "97WH7AalniTi"
      },
      "source": [
        "*   n_estimators = number of trees in the foreset\n",
        "*   max_features = max number of features considered for splitting a node\n",
        "*   max_depth = max number of levels in each decision tree\n",
        "*   min_samples_split = min number of data points placed in a node before the node is split\n",
        "*   min_samples_leaf = min number of data points allowed in a leaf node\n",
        "*   bootstrap = method for sampling data points (with or without replacement)"
      ]
    },
    {
      "cell_type": "code",
      "execution_count": 45,
      "metadata": {
        "colab": {
          "base_uri": "https://localhost:8080/",
          "height": 435
        },
        "id": "fDuYCFcMSecv",
        "outputId": "6322c6ba-79db-4dc5-d2f4-8183cce2a2fd"
      },
      "outputs": [
        {
          "name": "stdout",
          "output_type": "stream",
          "text": [
            "{'n_estimators': [200, 400, 600, 800, 1000, 1200, 1400, 1600, 1800, 2000], 'max_features': ['auto', 'sqrt'], 'max_depth': [10, 20, 30, 40, 50, 60, 70, 80, 90, 100, 110, None], 'min_samples_split': [2, 5, 10], 'min_samples_leaf': [1, 2, 4], 'bootstrap': [True, False]}\n",
            "Fitting 3 folds for each of 100 candidates, totalling 300 fits\n",
            "Best Parameter: {'n_estimators': 400, 'min_samples_split': 2, 'min_samples_leaf': 1, 'max_features': 'sqrt', 'max_depth': None, 'bootstrap': False}\n",
            "Best Score: 0.9473684210526315\n"
          ]
        }
      ],
      "source": [
        "# Import GridSearchCV\n",
        "from sklearn.model_selection import RandomizedSearchCV\n",
        "\n",
        "# Number of trees in random forest\n",
        "n_estimators = [int(x) for x in np.linspace(start = 200, stop = 2000, num = 10)]\n",
        "# Number of features to consider at every split\n",
        "max_features = ['auto', 'sqrt']\n",
        "# Maximum number of levels in tree\n",
        "max_depth = [int(x) for x in np.linspace(10, 110, num = 11)]\n",
        "max_depth.append(None)\n",
        "# Minimum number of samples required to split a node\n",
        "min_samples_split = [2, 5, 10]\n",
        "# Minimum number of samples required at each leaf node\n",
        "min_samples_leaf = [1, 2, 4]\n",
        "# Method of selecting samples for training each tree\n",
        "bootstrap = [True, False]\n",
        "\n",
        "# Create the random grid\n",
        "random_grid = {'n_estimators': n_estimators,\n",
        "               'max_features': max_features,\n",
        "               'max_depth': max_depth,\n",
        "               'min_samples_split': min_samples_split,\n",
        "               'min_samples_leaf': min_samples_leaf,\n",
        "               'bootstrap': bootstrap}\n",
        "\n",
        "print(random_grid)\n",
        "\n",
        "# Random search of parameters, using 3 fold cross validation, \n",
        "# search across 100 different combinations, and use all available cores\n",
        "rf_random = RandomizedSearchCV(estimator = rf, param_distributions = random_grid, n_iter = 100, cv = 3, verbose=2, random_state=42, n_jobs = -1)\n",
        "# Fit the random search model\n",
        "rf_random.fit(X_train_scaled, y_train)\n",
        "\n",
        "# Print the best parameter and best score\n",
        "print(\"Best Parameter:\", rf_random.best_params_)\n",
        "print(\"Best Score:\", rf_random.best_score_)"
      ]
    },
    {
      "attachments": {},
      "cell_type": "markdown",
      "metadata": {
        "id": "_zmj3vveSke2"
      },
      "source": [
        "\n",
        "*   criterion:\tQuality of Split\n",
        "*   max_features:\tNumber of features for best split\n",
        "*   max_depth:\tMax depth of tree\n",
        "*   bootstrap:\tWhether Bootstrap samples are used"
      ]
    },
    {
      "attachments": {},
      "cell_type": "markdown",
      "metadata": {
        "id": "i1fKS-wPniTj"
      },
      "source": [
        "Using the test split, we compare the baseline and tuned models with a classification report."
      ]
    },
    {
      "cell_type": "code",
      "execution_count": 46,
      "metadata": {
        "id": "W6drOVieniTj",
        "outputId": "6b3ab3ac-6d4e-47dc-9428-d2e09f3d1d3b"
      },
      "outputs": [
        {
          "name": "stdout",
          "output_type": "stream",
          "text": [
            "              precision    recall  f1-score   support\n",
            "\n",
            "           0       0.96      0.98      0.97       723\n",
            "           1       0.87      0.77      0.81       132\n",
            "\n",
            "    accuracy                           0.95       855\n",
            "   macro avg       0.91      0.87      0.89       855\n",
            "weighted avg       0.94      0.95      0.94       855\n",
            "\n",
            "              precision    recall  f1-score   support\n",
            "\n",
            "           0       0.96      0.97      0.96       723\n",
            "           1       0.82      0.77      0.80       132\n",
            "\n",
            "    accuracy                           0.94       855\n",
            "   macro avg       0.89      0.87      0.88       855\n",
            "weighted avg       0.94      0.94      0.94       855\n",
            "\n"
          ]
        }
      ],
      "source": [
        "# Decision tree\n",
        "print(classification_report(y_test, y_pred))\n",
        "print(classification_report(y_test, rf_random.best_estimator_.predict(X_test_scaled)))"
      ]
    },
    {
      "attachments": {},
      "cell_type": "markdown",
      "metadata": {
        "id": "Q2uQPhbPniTj"
      },
      "source": [
        "The tuned model did not achieve better metrics, which indicates that the default parameters were set optimally for this dataset."
      ]
    },
    {
      "attachments": {},
      "cell_type": "markdown",
      "metadata": {
        "id": "l3M1mxf5niTj"
      },
      "source": [
        "Next, we analyze the most important features of our model."
      ]
    },
    {
      "cell_type": "code",
      "execution_count": 47,
      "metadata": {
        "id": "XYFhIC4oUoXr",
        "outputId": "aa5f8936-4409-4453-c9cb-29c76edeec33"
      },
      "outputs": [
        {
          "data": {
            "image/png": "[encoded data removed]",
            "text/plain": [
              "<Figure size 1100x400 with 1 Axes>"
            ]
          },
          "metadata": {},
          "output_type": "display_data"
        }
      ],
      "source": [
        "# Feature importances\n",
        "\n",
        "# Calculate feature importances\n",
        "importances = rf.feature_importances_\n",
        "\n",
        "# Sort importances\n",
        "sorted_index = np.argsort(importances)\n",
        "\n",
        "# Create labels\n",
        "labels = X.columns[sorted_index]\n",
        "\n",
        "# Create plot\n",
        "plt.barh(range(X.shape[1]), importances[sorted_index], tick_label=labels)\n",
        "plt.show()"
      ]
    },
    {
      "attachments": {},
      "cell_type": "markdown",
      "metadata": {
        "id": "kk1vDlLyniTj"
      },
      "source": [
        "The plot tells us that Complaints, Average Call and Subscription Length are the most important drivers of churn.\n",
        "\n",
        "On the other hand, Charge Amount is the least important feature in predicting churn."
      ]
    },
    {
      "attachments": {},
      "cell_type": "markdown",
      "metadata": {
        "id": "0A_5_NAXniTk"
      },
      "source": [
        "Finally, we inspect whether performance differs among ordinal features Age Group and Charge Amount."
      ]
    },
    {
      "cell_type": "code",
      "execution_count": 48,
      "metadata": {
        "id": "raGdtyagniTk",
        "outputId": "caff0739-84a0-4248-b420-f87fd1030c9b"
      },
      "outputs": [
        {
          "name": "stdout",
          "output_type": "stream",
          "text": [
            "Age group: 3\n",
            "              precision    recall  f1-score   support\n",
            "\n",
            "           0       0.95      0.98      0.97       316\n",
            "           1       0.92      0.77      0.84        73\n",
            "\n",
            "    accuracy                           0.94       389\n",
            "   macro avg       0.93      0.88      0.90       389\n",
            "weighted avg       0.94      0.94      0.94       389\n",
            "\n",
            "Age group: 2\n",
            "              precision    recall  f1-score   support\n",
            "\n",
            "           0       0.90      0.99      0.94       228\n",
            "           1       0.92      0.47      0.62        49\n",
            "\n",
            "    accuracy                           0.90       277\n",
            "   macro avg       0.91      0.73      0.78       277\n",
            "weighted avg       0.90      0.90      0.89       277\n",
            "\n",
            "Age group: 1\n",
            "              precision    recall  f1-score   support\n",
            "\n",
            "           0       1.00      1.00      1.00        34\n",
            "\n",
            "    accuracy                           1.00        34\n",
            "   macro avg       1.00      1.00      1.00        34\n",
            "weighted avg       1.00      1.00      1.00        34\n",
            "\n",
            "Age group: 4\n",
            "              precision    recall  f1-score   support\n",
            "\n",
            "           0       0.97      0.97      0.97        94\n",
            "           1       0.82      0.82      0.82        17\n",
            "\n",
            "    accuracy                           0.95       111\n",
            "   macro avg       0.90      0.90      0.90       111\n",
            "weighted avg       0.95      0.95      0.95       111\n",
            "\n",
            "Age group: 5\n",
            "              precision    recall  f1-score   support\n",
            "\n",
            "           0       0.96      1.00      0.98        45\n",
            "           1       0.00      0.00      0.00         2\n",
            "\n",
            "    accuracy                           0.96        47\n",
            "   macro avg       0.48      0.50      0.49        47\n",
            "weighted avg       0.92      0.96      0.94        47\n",
            "\n"
          ]
        }
      ],
      "source": [
        "  # Define the age groups\n",
        "age_groups = df['Age Group'].unique()\n",
        "\n",
        "  # Iterate over age groups\n",
        "for group in age_groups:\n",
        "    print(f\"Age group: {group}\")    \n",
        "    \n",
        "    # Subset the data for the current income category\n",
        "    subset_data = df[df['Age Group'] == group]\n",
        "\n",
        "    #Encode\n",
        "    X = subset_data.drop(\"Churn\", axis=1).values\n",
        "    # We do not need to encode the target variable, but it makes evaluation easier later\n",
        "    y = subset_data[\"Churn\"]\n",
        "\n",
        "    # Split the data into training and test sets\n",
        "    X_train, X_test, y_train, y_test = train_test_split(X, y, test_size=0.3, random_state=42)\n",
        "\n",
        "    # Rescale features\n",
        "    rescaledX_train = MinMaxScaler().fit_transform(X_train)\n",
        "    rescaledX_test = MinMaxScaler().fit_transform(X_test)\n",
        "\n",
        "    # Train and evaluate a random forest classifier\n",
        "    rf = RandomForestClassifier()\n",
        "    rf.fit(rescaledX_train, y_train)\n",
        "    rf_preds = rf.predict(rescaledX_test)\n",
        "    \n",
        "    print(classification_report(y_test, rf_preds, zero_division=0))"
      ]
    },
    {
      "attachments": {},
      "cell_type": "markdown",
      "metadata": {
        "id": "0ZgRKT7LniTk"
      },
      "source": [
        "Age group 1 has no churned customers, and is therefore not particulary interesting to us.\n",
        "We observe similar performence for groups 2 and 3."
      ]
    },
    {
      "cell_type": "code",
      "execution_count": 49,
      "metadata": {
        "id": "yTbYJaRtniTk",
        "outputId": "9b82f0c4-d934-4783-a6e1-0a4ad01dd0ea"
      },
      "outputs": [
        {
          "name": "stdout",
          "output_type": "stream",
          "text": [
            "Charge Amount: 0\n",
            "              precision    recall  f1-score   support\n",
            "\n",
            "           0       0.92      0.95      0.93       367\n",
            "           1       0.81      0.71      0.75       106\n",
            "\n",
            "    accuracy                           0.90       473\n",
            "   macro avg       0.86      0.83      0.84       473\n",
            "weighted avg       0.89      0.90      0.89       473\n",
            "\n",
            "Charge Amount: 1\n",
            "              precision    recall  f1-score   support\n",
            "\n",
            "           0       0.97      0.99      0.98       155\n",
            "           1       0.80      0.62      0.70        13\n",
            "\n",
            "    accuracy                           0.96       168\n",
            "   macro avg       0.88      0.80      0.84       168\n",
            "weighted avg       0.96      0.96      0.96       168\n",
            "\n",
            "Charge Amount: 2\n",
            "              precision    recall  f1-score   support\n",
            "\n",
            "           0       0.94      1.00      0.97       100\n",
            "           1       1.00      0.33      0.50         9\n",
            "\n",
            "    accuracy                           0.94       109\n",
            "   macro avg       0.97      0.67      0.74       109\n",
            "weighted avg       0.95      0.94      0.93       109\n",
            "\n",
            "Charge Amount: 3\n",
            "              precision    recall  f1-score   support\n",
            "\n",
            "           0       0.98      1.00      0.99        57\n",
            "           1       0.00      0.00      0.00         1\n",
            "\n",
            "    accuracy                           0.98        58\n",
            "   macro avg       0.49      0.50      0.50        58\n",
            "weighted avg       0.97      0.98      0.97        58\n",
            "\n",
            "Charge Amount: 8\n",
            "              precision    recall  f1-score   support\n",
            "\n",
            "           0       1.00      1.00      1.00         6\n",
            "\n",
            "    accuracy                           1.00         6\n",
            "   macro avg       1.00      1.00      1.00         6\n",
            "weighted avg       1.00      1.00      1.00         6\n",
            "\n",
            "Charge Amount: 4\n",
            "              precision    recall  f1-score   support\n",
            "\n",
            "           0       1.00      1.00      1.00        21\n",
            "\n",
            "    accuracy                           1.00        21\n",
            "   macro avg       1.00      1.00      1.00        21\n",
            "weighted avg       1.00      1.00      1.00        21\n",
            "\n",
            "Charge Amount: 9\n",
            "              precision    recall  f1-score   support\n",
            "\n",
            "           0       1.00      1.00      1.00         4\n",
            "\n",
            "    accuracy                           1.00         4\n",
            "   macro avg       1.00      1.00      1.00         4\n",
            "weighted avg       1.00      1.00      1.00         4\n",
            "\n",
            "Charge Amount: 7\n",
            "              precision    recall  f1-score   support\n",
            "\n",
            "           0       1.00      1.00      1.00         4\n",
            "\n",
            "    accuracy                           1.00         4\n",
            "   macro avg       1.00      1.00      1.00         4\n",
            "weighted avg       1.00      1.00      1.00         4\n",
            "\n",
            "Charge Amount: 5\n",
            "              precision    recall  f1-score   support\n",
            "\n",
            "           0       1.00      1.00      1.00         9\n",
            "\n",
            "    accuracy                           1.00         9\n",
            "   macro avg       1.00      1.00      1.00         9\n",
            "weighted avg       1.00      1.00      1.00         9\n",
            "\n",
            "Charge Amount: 10\n",
            "              precision    recall  f1-score   support\n",
            "\n",
            "           0       1.00      1.00      1.00         3\n",
            "\n",
            "    accuracy                           1.00         3\n",
            "   macro avg       1.00      1.00      1.00         3\n",
            "weighted avg       1.00      1.00      1.00         3\n",
            "\n",
            "Charge Amount: 6\n",
            "              precision    recall  f1-score   support\n",
            "\n",
            "           0       1.00      1.00      1.00         4\n",
            "\n",
            "    accuracy                           1.00         4\n",
            "   macro avg       1.00      1.00      1.00         4\n",
            "weighted avg       1.00      1.00      1.00         4\n",
            "\n"
          ]
        }
      ],
      "source": [
        "  # Define the age groups\n",
        "charge_groups = df['Charge Amount'].unique()\n",
        "\n",
        "  # Iterate over age groups\n",
        "for group in charge_groups:\n",
        "    print(f\"Charge Amount: {group}\")    \n",
        "    \n",
        "    # Subset the data for the current income category\n",
        "    subset_data = df[df['Charge Amount'] == group]\n",
        "\n",
        "    #Encode\n",
        "    X = subset_data.drop(\"Churn\", axis=1).values\n",
        "    # We do not need to encode the target variable, but it makes evaluation easier later\n",
        "    y = subset_data[\"Churn\"]\n",
        "\n",
        "    # Split the data into training and test sets\n",
        "    X_train, X_test, y_train, y_test = train_test_split(X, y, test_size=0.3, random_state=42)\n",
        "\n",
        "    # Rescale features\n",
        "    rescaledX_train = MinMaxScaler().fit_transform(X_train)\n",
        "    rescaledX_test = MinMaxScaler().fit_transform(X_test)\n",
        "\n",
        "    # Train and evaluate a random forest classifier\n",
        "    rf = RandomForestClassifier()\n",
        "    rf.fit(rescaledX_train, y_train)\n",
        "    rf_preds = rf.predict(rescaledX_test)\n",
        "    \n",
        "    print(classification_report(y_test, rf_preds, zero_division=0))"
      ]
    },
    {
      "attachments": {},
      "cell_type": "markdown",
      "metadata": {
        "id": "L_FSpoB0niTl"
      },
      "source": [
        "Again, high charge amount categories consist of only existing customers, have high scores, but low support.\n",
        "\n",
        "The worst scores are associated with the lowest charge amount category. This seems reasonable as it also includes the most churned customers, a class harder to predict."
      ]
    },
    {
      "attachments": {},
      "cell_type": "markdown",
      "metadata": {
        "id": "N0v7VBTd3FBX"
      },
      "source": [
        "### Determine next steps"
      ]
    },
    {
      "attachments": {},
      "cell_type": "markdown",
      "metadata": {
        "id": "dTpFImcZ3ZQu"
      },
      "source": [
        "Potential directions for future work could involve the exploration of other advanced machine learning models and ensemble methods, deeper feature engineering, and a more detailed investigation into customer behaviour and satisfaction data. It would also be beneficial to develop and evaluate intervention strategies based on our predictive insights, ensuring that businesses can put our findings into action for effective customer retention.\n"
      ]
    },
    {
      "attachments": {},
      "cell_type": "markdown",
      "metadata": {
        "id": "fCwNcgcCWcVO"
      },
      "source": [
        "## 6. Deployment"
      ]
    },
    {
      "attachments": {},
      "cell_type": "markdown",
      "metadata": {
        "id": "VTnlt0SA50pA"
      },
      "source": [
        "### Produce a final report"
      ]
    },
    {
      "attachments": {},
      "cell_type": "markdown",
      "metadata": {
        "id": "4n44zL3254OQ"
      },
      "source": [
        "check\n"
      ]
    },
    {
      "attachments": {},
      "cell_type": "markdown",
      "metadata": {
        "id": "B6q5W4r_56EQ"
      },
      "source": [
        "### Review project"
      ]
    },
    {
      "attachments": {},
      "cell_type": "markdown",
      "metadata": {
        "id": "tyMBjoRjWfBr"
      },
      "source": [
        "Our work in this project brought a lot of important insights when it comes to predicting customer churn. We started off with a detailed exploration of our dataset, making sense of the different variables and discovering important patterns. We found variables such as customer complaints, age groups, tariff plans, and usage patterns to be potentially influential in predicting churn and removed customer value as it was highly correlated with other features. In the pre-processing phase, the data was cleaned and scaled, and the features were encoded suitably.\n",
        "\n",
        "During the model selection phase, we compared various supervised machine learning models, including logistic regression, random forests, and support vector machines. The Random Forest model performed the best in its initial tests. However, due to the imbalance in our dataset, accuracy alone was not a reliable metric. We thus also considered other metrics such as precision, recall, F1-score, and ROC-AUC.\n",
        "\n",
        "Our random forest model achieved a respectable performance in terms of recall, which is arguably the most important metric for our business objective. The Area Under the ROC Curve was large, indicating that our classifier is quite effective.\n",
        "\n",
        "Cross-validation was used to confirm the stability of our model and hyperparameters were optimized using grid search. The tuning process, however, did not indicate any significant improvement, meaning that the default parameters were optimal for this dataset.\n",
        "\n",
        "Finally, feature importance analysis revealed that 'Complaints', 'Average Call' and 'Subscription Length' were the most significant drivers of churn. On the other hand, 'Charge Amount' was the least significant predictor. We also found that high 'Charge Amount' categories consist of only existing customers with high scores but low support, while the lowest 'Charge Amount' category was associated with the worst scores and included most of the churned customers.\n",
        "\n",
        "\n",
        "\n",
        "\n"
      ]
    },
    {
      "attachments": {},
      "cell_type": "markdown",
      "metadata": {
        "id": "UG8DhOO7Xs_e"
      },
      "source": [
        "Lessons learned:"
      ]
    },
    {
      "attachments": {},
      "cell_type": "markdown",
      "metadata": {
        "id": "mOQmnH8EpUJj"
      },
      "source": [
        "In our work, we explored several essential areas of study. These included making reliable forecasts, responsibly splitting the data into training and test subsets, and gaining a deep understanding of model metrics. Such metrics included the confusion matrix, ROC curves, and the area under the curve - crucial tools for assessing our models' performance.\n",
        "\n",
        "A noteworthy accomplishment was our effective fine-tuning of the churn model's hyperparameters. We achieved this using grid search, which boosted our model's performance and deepened our understanding of the interplay between different parameters and their impact on the results.\n",
        "\n",
        "Finally, we became proficient at identifying influential variables, determining the elements that were most crucial in forecasting churn. This knowledge not only augmented our predictive capabilities but also provided a comprehensive understanding of the dynamics influencing customer attrition.\n"
      ]
    },
    {
      "attachments": {},
      "cell_type": "markdown",
      "metadata": {},
      "source": [
        "Literature and domain context:"
      ]
    },
    {
      "attachments": {},
      "cell_type": "markdown",
      "metadata": {},
      "source": [
        "A sizable collection of research devoted to comprehending and forecasting consumer behavior can be found in the literature on customer churn and machine learning methods in marketing analytics. The use of machine learning algorithms to predict customer churn has been the subject of numerous research, offering practical approaches and insights for firms looking to enhance their customer retention efforts.\n",
        "\n",
        "The research intends to design and assess intervention strategies based on predictive insights to put findings into practice. Businesses can successfully retain high-risk clients by customizing their offers, loyalty programs, and proactive customer service.\n",
        "\n",
        "Our project employs machine learning to analyze and forecast customer turnover in market analytics. We seek to find patterns and evidence to predict customer churn, enabling organizations to retain customers proactively, by evaluating customer behavior, previous transactional data, and other pertinent factors.\n",
        "\n",
        "The online DataCamp course Marketing Analytics: Predicting Customer Churn in Python provided a roadmap to help develop our customer churn model. It shows how to discover how to examine and visualize data, get it ready for modeling, use machine learning to anticipate the future, and share crucial, practical insights with stakeholders. The course illustrated different topics: exploratory data analysis, preprocessing for churn modeling, churn prediction, and model tuning.We also developed the necessary knowledge about the topic and modeling as a team, thanks to the covered material during the tutorial sessions. Further, Assignment 3 served as a model of inspiration for developing some sections of this project."
      ]
    }
  ],
  "metadata": {
    "colab": {
      "provenance": []
    },
    "gpuClass": "standard",
    "kernelspec": {
      "display_name": "Python 3",
      "name": "python3"
    },
    "language_info": {
      "codemirror_mode": {
        "name": "ipython",
        "version": 3
      },
      "file_extension": ".py",
      "mimetype": "text/x-python",
      "name": "python",
      "nbconvert_exporter": "python",
      "pygments_lexer": "ipython3",
      "version": "3.11.3"
    },
    "orig_nbformat": 4
  },
  "nbformat": 4,
  "nbformat_minor": 0
}
